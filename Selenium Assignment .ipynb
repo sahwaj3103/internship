{
 "cells": [
  {
   "cell_type": "code",
   "execution_count": 1,
   "id": "b4e1ce8d",
   "metadata": {},
   "outputs": [
    {
     "name": "stdout",
     "output_type": "stream",
     "text": [
      "Requirement already satisfied: selenium in d:\\sahwaj\\lib\\site-packages (4.5.0)\n",
      "Requirement already satisfied: urllib3[socks]~=1.26 in d:\\sahwaj\\lib\\site-packages (from selenium) (1.26.9)\n",
      "Requirement already satisfied: trio~=0.17 in d:\\sahwaj\\lib\\site-packages (from selenium) (0.22.0)\n",
      "Requirement already satisfied: certifi>=2021.10.8 in d:\\sahwaj\\lib\\site-packages (from selenium) (2021.10.8)\n",
      "Requirement already satisfied: trio-websocket~=0.9 in d:\\sahwaj\\lib\\site-packages (from selenium) (0.9.2)\n",
      "Requirement already satisfied: idna in d:\\sahwaj\\lib\\site-packages (from trio~=0.17->selenium) (3.3)\n",
      "Requirement already satisfied: sortedcontainers in d:\\sahwaj\\lib\\site-packages (from trio~=0.17->selenium) (2.4.0)\n",
      "Requirement already satisfied: outcome in d:\\sahwaj\\lib\\site-packages (from trio~=0.17->selenium) (1.2.0)\n",
      "Requirement already satisfied: exceptiongroup>=1.0.0rc9 in d:\\sahwaj\\lib\\site-packages (from trio~=0.17->selenium) (1.0.0)\n",
      "Requirement already satisfied: sniffio in d:\\sahwaj\\lib\\site-packages (from trio~=0.17->selenium) (1.2.0)\n",
      "Requirement already satisfied: attrs>=19.2.0 in d:\\sahwaj\\lib\\site-packages (from trio~=0.17->selenium) (21.4.0)\n",
      "Requirement already satisfied: cffi>=1.14 in d:\\sahwaj\\lib\\site-packages (from trio~=0.17->selenium) (1.15.0)\n",
      "Requirement already satisfied: async-generator>=1.9 in d:\\sahwaj\\lib\\site-packages (from trio~=0.17->selenium) (1.10)\n",
      "Requirement already satisfied: pycparser in d:\\sahwaj\\lib\\site-packages (from cffi>=1.14->trio~=0.17->selenium) (2.21)\n",
      "Requirement already satisfied: wsproto>=0.14 in d:\\sahwaj\\lib\\site-packages (from trio-websocket~=0.9->selenium) (1.2.0)\n",
      "Requirement already satisfied: PySocks!=1.5.7,<2.0,>=1.5.6 in d:\\sahwaj\\lib\\site-packages (from urllib3[socks]~=1.26->selenium) (1.7.1)\n",
      "Requirement already satisfied: h11<1,>=0.9.0 in d:\\sahwaj\\lib\\site-packages (from wsproto>=0.14->trio-websocket~=0.9->selenium) (0.14.0)\n"
     ]
    }
   ],
   "source": [
    "!pip install selenium"
   ]
  },
  {
   "cell_type": "code",
   "execution_count": null,
   "id": "0327b15e",
   "metadata": {},
   "outputs": [],
   "source": []
  },
  {
   "cell_type": "code",
   "execution_count": 2,
   "id": "07f15216",
   "metadata": {},
   "outputs": [],
   "source": [
    "import selenium\n",
    "import pandas as pd\n",
    "from selenium import webdriver\n",
    "import warnings\n",
    "warnings.filterwarnings('ignore')\n",
    "from selenium.common.exceptions import StaleElementReferenceException,NoSuchElementException\n",
    "from selenium.webdriver.common.by import By\n",
    "import time"
   ]
  },
  {
   "cell_type": "code",
   "execution_count": 3,
   "id": "ea1d91a0",
   "metadata": {},
   "outputs": [],
   "source": [
    "driver=webdriver.Chrome(r\"C:\\Users\\Sahwaj\\Downloads\\chromedriver_win32\\chromedriver.exe\")"
   ]
  },
  {
   "cell_type": "code",
   "execution_count": 4,
   "id": "dc60dbc3",
   "metadata": {},
   "outputs": [],
   "source": [
    "driver.get(\"https://www.naukri.com/\")"
   ]
  },
  {
   "cell_type": "code",
   "execution_count": 5,
   "id": "9253a1bf",
   "metadata": {},
   "outputs": [],
   "source": [
    "designation=driver.find_element(By.CLASS_NAME,\"suggestor-input \")\n",
    "designation.send_keys('Data Analyst')"
   ]
  },
  {
   "cell_type": "code",
   "execution_count": 6,
   "id": "8c61a9d2",
   "metadata": {},
   "outputs": [
    {
     "ename": "NoSuchElementException",
     "evalue": "Message: no such element: Unable to locate element: {\"method\":\"xpath\",\"selector\":\"/html/body/div[1]/div[2]/div[3]/div/div/div[5]/div/div/div/input\"}\n  (Session info: chrome=107.0.5304.88)\nStacktrace:\nBacktrace:\n\tOrdinal0 [0x0050ACD3+2075859]\n\tOrdinal0 [0x0049EE61+1633889]\n\tOrdinal0 [0x0039B7BD+571325]\n\tOrdinal0 [0x003CAC2F+764975]\n\tOrdinal0 [0x003CAE1B+765467]\n\tOrdinal0 [0x003FD0F2+970994]\n\tOrdinal0 [0x003E7364+881508]\n\tOrdinal0 [0x003FB56A+963946]\n\tOrdinal0 [0x003E7136+880950]\n\tOrdinal0 [0x003BFEFD+720637]\n\tOrdinal0 [0x003C0F3F+724799]\n\tGetHandleVerifier [0x007BEED2+2769538]\n\tGetHandleVerifier [0x007B0D95+2711877]\n\tGetHandleVerifier [0x0059A03A+521194]\n\tGetHandleVerifier [0x00598DA0+516432]\n\tOrdinal0 [0x004A682C+1665068]\n\tOrdinal0 [0x004AB128+1683752]\n\tOrdinal0 [0x004AB215+1683989]\n\tOrdinal0 [0x004B6484+1729668]\n\tBaseThreadInitThunk [0x771BFA29+25]\n\tRtlGetAppContainerNamedObjectPath [0x77817BBE+286]\n\tRtlGetAppContainerNamedObjectPath [0x77817B8E+238]\n",
     "output_type": "error",
     "traceback": [
      "\u001b[1;31m---------------------------------------------------------------------------\u001b[0m",
      "\u001b[1;31mNoSuchElementException\u001b[0m                    Traceback (most recent call last)",
      "Input \u001b[1;32mIn [6]\u001b[0m, in \u001b[0;36m<cell line: 1>\u001b[1;34m()\u001b[0m\n\u001b[1;32m----> 1\u001b[0m location\u001b[38;5;241m=\u001b[39m\u001b[43mdriver\u001b[49m\u001b[38;5;241;43m.\u001b[39;49m\u001b[43mfind_element\u001b[49m\u001b[43m(\u001b[49m\u001b[43mBy\u001b[49m\u001b[38;5;241;43m.\u001b[39;49m\u001b[43mXPATH\u001b[49m\u001b[43m,\u001b[49m\u001b[38;5;124;43m\"\u001b[39;49m\u001b[38;5;124;43m/html/body/div[1]/div[2]/div[3]/div/div/div[5]/div/div/div/input\u001b[39;49m\u001b[38;5;124;43m\"\u001b[39;49m\u001b[43m)\u001b[49m\n\u001b[0;32m      2\u001b[0m location\u001b[38;5;241m.\u001b[39msend_keys(\u001b[38;5;124m'\u001b[39m\u001b[38;5;124mBanglore\u001b[39m\u001b[38;5;124m'\u001b[39m)\n",
      "File \u001b[1;32mD:\\sahwaj\\lib\\site-packages\\selenium\\webdriver\\remote\\webdriver.py:856\u001b[0m, in \u001b[0;36mWebDriver.find_element\u001b[1;34m(self, by, value)\u001b[0m\n\u001b[0;32m    853\u001b[0m     by \u001b[38;5;241m=\u001b[39m By\u001b[38;5;241m.\u001b[39mCSS_SELECTOR\n\u001b[0;32m    854\u001b[0m     value \u001b[38;5;241m=\u001b[39m \u001b[38;5;124m'\u001b[39m\u001b[38;5;124m[name=\u001b[39m\u001b[38;5;124m\"\u001b[39m\u001b[38;5;132;01m%s\u001b[39;00m\u001b[38;5;124m\"\u001b[39m\u001b[38;5;124m]\u001b[39m\u001b[38;5;124m'\u001b[39m \u001b[38;5;241m%\u001b[39m value\n\u001b[1;32m--> 856\u001b[0m \u001b[38;5;28;01mreturn\u001b[39;00m \u001b[38;5;28;43mself\u001b[39;49m\u001b[38;5;241;43m.\u001b[39;49m\u001b[43mexecute\u001b[49m\u001b[43m(\u001b[49m\u001b[43mCommand\u001b[49m\u001b[38;5;241;43m.\u001b[39;49m\u001b[43mFIND_ELEMENT\u001b[49m\u001b[43m,\u001b[49m\u001b[43m \u001b[49m\u001b[43m{\u001b[49m\n\u001b[0;32m    857\u001b[0m \u001b[43m    \u001b[49m\u001b[38;5;124;43m'\u001b[39;49m\u001b[38;5;124;43musing\u001b[39;49m\u001b[38;5;124;43m'\u001b[39;49m\u001b[43m:\u001b[49m\u001b[43m \u001b[49m\u001b[43mby\u001b[49m\u001b[43m,\u001b[49m\n\u001b[0;32m    858\u001b[0m \u001b[43m    \u001b[49m\u001b[38;5;124;43m'\u001b[39;49m\u001b[38;5;124;43mvalue\u001b[39;49m\u001b[38;5;124;43m'\u001b[39;49m\u001b[43m:\u001b[49m\u001b[43m \u001b[49m\u001b[43mvalue\u001b[49m\u001b[43m}\u001b[49m\u001b[43m)\u001b[49m[\u001b[38;5;124m'\u001b[39m\u001b[38;5;124mvalue\u001b[39m\u001b[38;5;124m'\u001b[39m]\n",
      "File \u001b[1;32mD:\\sahwaj\\lib\\site-packages\\selenium\\webdriver\\remote\\webdriver.py:429\u001b[0m, in \u001b[0;36mWebDriver.execute\u001b[1;34m(self, driver_command, params)\u001b[0m\n\u001b[0;32m    427\u001b[0m response \u001b[38;5;241m=\u001b[39m \u001b[38;5;28mself\u001b[39m\u001b[38;5;241m.\u001b[39mcommand_executor\u001b[38;5;241m.\u001b[39mexecute(driver_command, params)\n\u001b[0;32m    428\u001b[0m \u001b[38;5;28;01mif\u001b[39;00m response:\n\u001b[1;32m--> 429\u001b[0m     \u001b[38;5;28;43mself\u001b[39;49m\u001b[38;5;241;43m.\u001b[39;49m\u001b[43merror_handler\u001b[49m\u001b[38;5;241;43m.\u001b[39;49m\u001b[43mcheck_response\u001b[49m\u001b[43m(\u001b[49m\u001b[43mresponse\u001b[49m\u001b[43m)\u001b[49m\n\u001b[0;32m    430\u001b[0m     response[\u001b[38;5;124m'\u001b[39m\u001b[38;5;124mvalue\u001b[39m\u001b[38;5;124m'\u001b[39m] \u001b[38;5;241m=\u001b[39m \u001b[38;5;28mself\u001b[39m\u001b[38;5;241m.\u001b[39m_unwrap_value(\n\u001b[0;32m    431\u001b[0m         response\u001b[38;5;241m.\u001b[39mget(\u001b[38;5;124m'\u001b[39m\u001b[38;5;124mvalue\u001b[39m\u001b[38;5;124m'\u001b[39m, \u001b[38;5;28;01mNone\u001b[39;00m))\n\u001b[0;32m    432\u001b[0m     \u001b[38;5;28;01mreturn\u001b[39;00m response\n",
      "File \u001b[1;32mD:\\sahwaj\\lib\\site-packages\\selenium\\webdriver\\remote\\errorhandler.py:243\u001b[0m, in \u001b[0;36mErrorHandler.check_response\u001b[1;34m(self, response)\u001b[0m\n\u001b[0;32m    241\u001b[0m         alert_text \u001b[38;5;241m=\u001b[39m value[\u001b[38;5;124m'\u001b[39m\u001b[38;5;124malert\u001b[39m\u001b[38;5;124m'\u001b[39m]\u001b[38;5;241m.\u001b[39mget(\u001b[38;5;124m'\u001b[39m\u001b[38;5;124mtext\u001b[39m\u001b[38;5;124m'\u001b[39m)\n\u001b[0;32m    242\u001b[0m     \u001b[38;5;28;01mraise\u001b[39;00m exception_class(message, screen, stacktrace, alert_text)  \u001b[38;5;66;03m# type: ignore[call-arg]  # mypy is not smart enough here\u001b[39;00m\n\u001b[1;32m--> 243\u001b[0m \u001b[38;5;28;01mraise\u001b[39;00m exception_class(message, screen, stacktrace)\n",
      "\u001b[1;31mNoSuchElementException\u001b[0m: Message: no such element: Unable to locate element: {\"method\":\"xpath\",\"selector\":\"/html/body/div[1]/div[2]/div[3]/div/div/div[5]/div/div/div/input\"}\n  (Session info: chrome=107.0.5304.88)\nStacktrace:\nBacktrace:\n\tOrdinal0 [0x0050ACD3+2075859]\n\tOrdinal0 [0x0049EE61+1633889]\n\tOrdinal0 [0x0039B7BD+571325]\n\tOrdinal0 [0x003CAC2F+764975]\n\tOrdinal0 [0x003CAE1B+765467]\n\tOrdinal0 [0x003FD0F2+970994]\n\tOrdinal0 [0x003E7364+881508]\n\tOrdinal0 [0x003FB56A+963946]\n\tOrdinal0 [0x003E7136+880950]\n\tOrdinal0 [0x003BFEFD+720637]\n\tOrdinal0 [0x003C0F3F+724799]\n\tGetHandleVerifier [0x007BEED2+2769538]\n\tGetHandleVerifier [0x007B0D95+2711877]\n\tGetHandleVerifier [0x0059A03A+521194]\n\tGetHandleVerifier [0x00598DA0+516432]\n\tOrdinal0 [0x004A682C+1665068]\n\tOrdinal0 [0x004AB128+1683752]\n\tOrdinal0 [0x004AB215+1683989]\n\tOrdinal0 [0x004B6484+1729668]\n\tBaseThreadInitThunk [0x771BFA29+25]\n\tRtlGetAppContainerNamedObjectPath [0x77817BBE+286]\n\tRtlGetAppContainerNamedObjectPath [0x77817B8E+238]\n"
     ]
    }
   ],
   "source": [
    "location=driver.find_element(By.XPATH,\"/html/body/div[1]/div[2]/div[3]/div/div/div[5]/div/div/div/input\")\n",
    "location.send_keys('Banglore')"
   ]
  },
  {
   "cell_type": "code",
   "execution_count": 7,
   "id": "f9c2d46d",
   "metadata": {},
   "outputs": [],
   "source": [
    "search= driver.find_element(By.CLASS_NAME,\"qsbSubmit\")\n",
    "search.click()"
   ]
  },
  {
   "cell_type": "code",
   "execution_count": 8,
   "id": "d587471b",
   "metadata": {},
   "outputs": [],
   "source": [
    "job_title=[]\n",
    "job_location=[]\n",
    "company_name=[]\n",
    "experience_required=[]"
   ]
  },
  {
   "cell_type": "code",
   "execution_count": 9,
   "id": "cbb00a7c",
   "metadata": {},
   "outputs": [],
   "source": [
    "title_tags=driver.find_elements(By.XPATH,'//a[@class=\"title fw500 ellipsis\"]')\n",
    "for i in title_tags[0:10]:\n",
    "    title=i.text\n",
    "    job_title.append(title)\n",
    "    \n",
    "location_tags=driver.find_elements(By.XPATH,'//li[@class=\"fleft grey-text br2 placeHolderLi location\"]') \n",
    "for i in location_tags[0:10]:\n",
    "    location=i.text\n",
    "    job_location.append(location)\n",
    "    \n",
    "    \n",
    "    \n",
    "company_tags=driver.find_elements(By.XPATH,'//a[@class=\"subTitle ellipsis fleft\"]')   \n",
    "for i in company_tags[0:10]:\n",
    "    company=i.text\n",
    "    company_name.append(company)\n",
    "    \n",
    "    \n",
    "experience_tags=driver.find_elements(By.XPATH,'//li[@class=\"fleft grey-text br2 placeHolderLi experience\"]')  \n",
    "for i in experience_tags[0:10]:\n",
    "    exp=i.text\n",
    "    experience_required.append(exp)"
   ]
  },
  {
   "cell_type": "code",
   "execution_count": 10,
   "id": "aef5118d",
   "metadata": {},
   "outputs": [
    {
     "name": "stdout",
     "output_type": "stream",
     "text": [
      "10 10 10 10\n"
     ]
    }
   ],
   "source": [
    "print(len(job_title),len(job_location),len(company_name),len(experience_required))"
   ]
  },
  {
   "cell_type": "code",
   "execution_count": 11,
   "id": "b2fcbd2b",
   "metadata": {},
   "outputs": [
    {
     "data": {
      "text/html": [
       "<div>\n",
       "<style scoped>\n",
       "    .dataframe tbody tr th:only-of-type {\n",
       "        vertical-align: middle;\n",
       "    }\n",
       "\n",
       "    .dataframe tbody tr th {\n",
       "        vertical-align: top;\n",
       "    }\n",
       "\n",
       "    .dataframe thead th {\n",
       "        text-align: right;\n",
       "    }\n",
       "</style>\n",
       "<table border=\"1\" class=\"dataframe\">\n",
       "  <thead>\n",
       "    <tr style=\"text-align: right;\">\n",
       "      <th></th>\n",
       "      <th>job_title</th>\n",
       "      <th>job_location</th>\n",
       "      <th>company_name</th>\n",
       "      <th>experience_required</th>\n",
       "    </tr>\n",
       "  </thead>\n",
       "  <tbody>\n",
       "    <tr>\n",
       "      <th>0</th>\n",
       "      <td>Data Analyst</td>\n",
       "      <td>Mumbai Suburban, Mumbai (All Areas)</td>\n",
       "      <td>Cointab Software</td>\n",
       "      <td>0-2 Yrs</td>\n",
       "    </tr>\n",
       "    <tr>\n",
       "      <th>1</th>\n",
       "      <td>Senior Data Research Analyst</td>\n",
       "      <td>Hybrid - Mumbai (All Areas)</td>\n",
       "      <td>Morningstar</td>\n",
       "      <td>0-3 Yrs</td>\n",
       "    </tr>\n",
       "    <tr>\n",
       "      <th>2</th>\n",
       "      <td>Senior People Data Analyst</td>\n",
       "      <td>Bangalore/Bengaluru</td>\n",
       "      <td>Western Digital</td>\n",
       "      <td>5-10 Yrs</td>\n",
       "    </tr>\n",
       "    <tr>\n",
       "      <th>3</th>\n",
       "      <td>Technical Data Analyst</td>\n",
       "      <td>Hybrid - Gurgaon/Gurugram, Bangalore/Bengaluru</td>\n",
       "      <td>Wipro</td>\n",
       "      <td>5-10 Yrs</td>\n",
       "    </tr>\n",
       "    <tr>\n",
       "      <th>4</th>\n",
       "      <td>Data Analyst/Associate Analyst</td>\n",
       "      <td>Temp. WFH - Gurgaon/Gurugram</td>\n",
       "      <td>Spectrum Talent Management Pvt. Ltd</td>\n",
       "      <td>0-0 Yrs</td>\n",
       "    </tr>\n",
       "    <tr>\n",
       "      <th>5</th>\n",
       "      <td>Senior Business Data Analyst with AML ( Notice...</td>\n",
       "      <td>Hybrid - Pune</td>\n",
       "      <td>Atyeti</td>\n",
       "      <td>5-10 Yrs</td>\n",
       "    </tr>\n",
       "    <tr>\n",
       "      <th>6</th>\n",
       "      <td>Data analyst</td>\n",
       "      <td>Pune</td>\n",
       "      <td>Machintel</td>\n",
       "      <td>0-2 Yrs</td>\n",
       "    </tr>\n",
       "    <tr>\n",
       "      <th>7</th>\n",
       "      <td>Business Data Analysts (Tableau)</td>\n",
       "      <td>Bangalore/Bengaluru</td>\n",
       "      <td>Zscaler Softech</td>\n",
       "      <td>5-10 Yrs</td>\n",
       "    </tr>\n",
       "    <tr>\n",
       "      <th>8</th>\n",
       "      <td>Senior Data Analyst</td>\n",
       "      <td>Gurgaon/Gurugram</td>\n",
       "      <td>Goibibo</td>\n",
       "      <td>2-5 Yrs</td>\n",
       "    </tr>\n",
       "    <tr>\n",
       "      <th>9</th>\n",
       "      <td>Batch Data Analyst</td>\n",
       "      <td>Hybrid - Gurgaon/Gurugram, Bangalore/Bengaluru</td>\n",
       "      <td>Wipro</td>\n",
       "      <td>4-9 Yrs</td>\n",
       "    </tr>\n",
       "  </tbody>\n",
       "</table>\n",
       "</div>"
      ],
      "text/plain": [
       "                                           job_title  \\\n",
       "0                                       Data Analyst   \n",
       "1                       Senior Data Research Analyst   \n",
       "2                         Senior People Data Analyst   \n",
       "3                             Technical Data Analyst   \n",
       "4                     Data Analyst/Associate Analyst   \n",
       "5  Senior Business Data Analyst with AML ( Notice...   \n",
       "6                                       Data analyst   \n",
       "7                   Business Data Analysts (Tableau)   \n",
       "8                                Senior Data Analyst   \n",
       "9                                 Batch Data Analyst   \n",
       "\n",
       "                                     job_location  \\\n",
       "0             Mumbai Suburban, Mumbai (All Areas)   \n",
       "1                     Hybrid - Mumbai (All Areas)   \n",
       "2                             Bangalore/Bengaluru   \n",
       "3  Hybrid - Gurgaon/Gurugram, Bangalore/Bengaluru   \n",
       "4                    Temp. WFH - Gurgaon/Gurugram   \n",
       "5                                   Hybrid - Pune   \n",
       "6                                            Pune   \n",
       "7                             Bangalore/Bengaluru   \n",
       "8                                Gurgaon/Gurugram   \n",
       "9  Hybrid - Gurgaon/Gurugram, Bangalore/Bengaluru   \n",
       "\n",
       "                          company_name experience_required  \n",
       "0                     Cointab Software             0-2 Yrs  \n",
       "1                          Morningstar             0-3 Yrs  \n",
       "2                      Western Digital            5-10 Yrs  \n",
       "3                                Wipro            5-10 Yrs  \n",
       "4  Spectrum Talent Management Pvt. Ltd             0-0 Yrs  \n",
       "5                               Atyeti            5-10 Yrs  \n",
       "6                            Machintel             0-2 Yrs  \n",
       "7                      Zscaler Softech            5-10 Yrs  \n",
       "8                              Goibibo             2-5 Yrs  \n",
       "9                                Wipro             4-9 Yrs  "
      ]
     },
     "execution_count": 11,
     "metadata": {},
     "output_type": "execute_result"
    }
   ],
   "source": [
    "df=pd.DataFrame({'job_title':job_title,'job_location':job_location,'company_name':company_name,'experience_required':experience_required})\n",
    "df"
   ]
  },
  {
   "cell_type": "markdown",
   "id": "a0ae8016",
   "metadata": {},
   "source": [
    "# python program to scrape data for “Data Scientist” Job position in “Bangalore” location. You \n",
    "have to scrape the job-title, job-location, company_name. You have to scrape first 10 jobs data"
   ]
  },
  {
   "cell_type": "code",
   "execution_count": 12,
   "id": "c6410d03",
   "metadata": {},
   "outputs": [],
   "source": [
    "driver.get(\"https://www.naukri.com/\")"
   ]
  },
  {
   "cell_type": "code",
   "execution_count": 13,
   "id": "24bbd8c9",
   "metadata": {},
   "outputs": [],
   "source": [
    "designation=driver.find_element(By.CLASS_NAME,\"suggestor-input \")\n",
    "designation.send_keys('Data Scientist')"
   ]
  },
  {
   "cell_type": "code",
   "execution_count": 14,
   "id": "f0f9800e",
   "metadata": {},
   "outputs": [
    {
     "ename": "NoSuchElementException",
     "evalue": "Message: no such element: Unable to locate element: {\"method\":\"xpath\",\"selector\":\"/html/body/div[1]/div[2]/div[3]/div/div/div[5]/div/div/div/input\"}\n  (Session info: chrome=107.0.5304.88)\nStacktrace:\nBacktrace:\n\tOrdinal0 [0x0050ACD3+2075859]\n\tOrdinal0 [0x0049EE61+1633889]\n\tOrdinal0 [0x0039B7BD+571325]\n\tOrdinal0 [0x003CAC2F+764975]\n\tOrdinal0 [0x003CAE1B+765467]\n\tOrdinal0 [0x003FD0F2+970994]\n\tOrdinal0 [0x003E7364+881508]\n\tOrdinal0 [0x003FB56A+963946]\n\tOrdinal0 [0x003E7136+880950]\n\tOrdinal0 [0x003BFEFD+720637]\n\tOrdinal0 [0x003C0F3F+724799]\n\tGetHandleVerifier [0x007BEED2+2769538]\n\tGetHandleVerifier [0x007B0D95+2711877]\n\tGetHandleVerifier [0x0059A03A+521194]\n\tGetHandleVerifier [0x00598DA0+516432]\n\tOrdinal0 [0x004A682C+1665068]\n\tOrdinal0 [0x004AB128+1683752]\n\tOrdinal0 [0x004AB215+1683989]\n\tOrdinal0 [0x004B6484+1729668]\n\tBaseThreadInitThunk [0x771BFA29+25]\n\tRtlGetAppContainerNamedObjectPath [0x77817BBE+286]\n\tRtlGetAppContainerNamedObjectPath [0x77817B8E+238]\n",
     "output_type": "error",
     "traceback": [
      "\u001b[1;31m---------------------------------------------------------------------------\u001b[0m",
      "\u001b[1;31mNoSuchElementException\u001b[0m                    Traceback (most recent call last)",
      "Input \u001b[1;32mIn [14]\u001b[0m, in \u001b[0;36m<cell line: 1>\u001b[1;34m()\u001b[0m\n\u001b[1;32m----> 1\u001b[0m location\u001b[38;5;241m=\u001b[39m\u001b[43mdriver\u001b[49m\u001b[38;5;241;43m.\u001b[39;49m\u001b[43mfind_element\u001b[49m\u001b[43m(\u001b[49m\u001b[43mBy\u001b[49m\u001b[38;5;241;43m.\u001b[39;49m\u001b[43mXPATH\u001b[49m\u001b[43m,\u001b[49m\u001b[38;5;124;43m\"\u001b[39;49m\u001b[38;5;124;43m/html/body/div[1]/div[2]/div[3]/div/div/div[5]/div/div/div/input\u001b[39;49m\u001b[38;5;124;43m\"\u001b[39;49m\u001b[43m)\u001b[49m\n\u001b[0;32m      2\u001b[0m location\u001b[38;5;241m.\u001b[39msend_keys(\u001b[38;5;124m'\u001b[39m\u001b[38;5;124mBanglore\u001b[39m\u001b[38;5;124m'\u001b[39m)\n",
      "File \u001b[1;32mD:\\sahwaj\\lib\\site-packages\\selenium\\webdriver\\remote\\webdriver.py:856\u001b[0m, in \u001b[0;36mWebDriver.find_element\u001b[1;34m(self, by, value)\u001b[0m\n\u001b[0;32m    853\u001b[0m     by \u001b[38;5;241m=\u001b[39m By\u001b[38;5;241m.\u001b[39mCSS_SELECTOR\n\u001b[0;32m    854\u001b[0m     value \u001b[38;5;241m=\u001b[39m \u001b[38;5;124m'\u001b[39m\u001b[38;5;124m[name=\u001b[39m\u001b[38;5;124m\"\u001b[39m\u001b[38;5;132;01m%s\u001b[39;00m\u001b[38;5;124m\"\u001b[39m\u001b[38;5;124m]\u001b[39m\u001b[38;5;124m'\u001b[39m \u001b[38;5;241m%\u001b[39m value\n\u001b[1;32m--> 856\u001b[0m \u001b[38;5;28;01mreturn\u001b[39;00m \u001b[38;5;28;43mself\u001b[39;49m\u001b[38;5;241;43m.\u001b[39;49m\u001b[43mexecute\u001b[49m\u001b[43m(\u001b[49m\u001b[43mCommand\u001b[49m\u001b[38;5;241;43m.\u001b[39;49m\u001b[43mFIND_ELEMENT\u001b[49m\u001b[43m,\u001b[49m\u001b[43m \u001b[49m\u001b[43m{\u001b[49m\n\u001b[0;32m    857\u001b[0m \u001b[43m    \u001b[49m\u001b[38;5;124;43m'\u001b[39;49m\u001b[38;5;124;43musing\u001b[39;49m\u001b[38;5;124;43m'\u001b[39;49m\u001b[43m:\u001b[49m\u001b[43m \u001b[49m\u001b[43mby\u001b[49m\u001b[43m,\u001b[49m\n\u001b[0;32m    858\u001b[0m \u001b[43m    \u001b[49m\u001b[38;5;124;43m'\u001b[39;49m\u001b[38;5;124;43mvalue\u001b[39;49m\u001b[38;5;124;43m'\u001b[39;49m\u001b[43m:\u001b[49m\u001b[43m \u001b[49m\u001b[43mvalue\u001b[49m\u001b[43m}\u001b[49m\u001b[43m)\u001b[49m[\u001b[38;5;124m'\u001b[39m\u001b[38;5;124mvalue\u001b[39m\u001b[38;5;124m'\u001b[39m]\n",
      "File \u001b[1;32mD:\\sahwaj\\lib\\site-packages\\selenium\\webdriver\\remote\\webdriver.py:429\u001b[0m, in \u001b[0;36mWebDriver.execute\u001b[1;34m(self, driver_command, params)\u001b[0m\n\u001b[0;32m    427\u001b[0m response \u001b[38;5;241m=\u001b[39m \u001b[38;5;28mself\u001b[39m\u001b[38;5;241m.\u001b[39mcommand_executor\u001b[38;5;241m.\u001b[39mexecute(driver_command, params)\n\u001b[0;32m    428\u001b[0m \u001b[38;5;28;01mif\u001b[39;00m response:\n\u001b[1;32m--> 429\u001b[0m     \u001b[38;5;28;43mself\u001b[39;49m\u001b[38;5;241;43m.\u001b[39;49m\u001b[43merror_handler\u001b[49m\u001b[38;5;241;43m.\u001b[39;49m\u001b[43mcheck_response\u001b[49m\u001b[43m(\u001b[49m\u001b[43mresponse\u001b[49m\u001b[43m)\u001b[49m\n\u001b[0;32m    430\u001b[0m     response[\u001b[38;5;124m'\u001b[39m\u001b[38;5;124mvalue\u001b[39m\u001b[38;5;124m'\u001b[39m] \u001b[38;5;241m=\u001b[39m \u001b[38;5;28mself\u001b[39m\u001b[38;5;241m.\u001b[39m_unwrap_value(\n\u001b[0;32m    431\u001b[0m         response\u001b[38;5;241m.\u001b[39mget(\u001b[38;5;124m'\u001b[39m\u001b[38;5;124mvalue\u001b[39m\u001b[38;5;124m'\u001b[39m, \u001b[38;5;28;01mNone\u001b[39;00m))\n\u001b[0;32m    432\u001b[0m     \u001b[38;5;28;01mreturn\u001b[39;00m response\n",
      "File \u001b[1;32mD:\\sahwaj\\lib\\site-packages\\selenium\\webdriver\\remote\\errorhandler.py:243\u001b[0m, in \u001b[0;36mErrorHandler.check_response\u001b[1;34m(self, response)\u001b[0m\n\u001b[0;32m    241\u001b[0m         alert_text \u001b[38;5;241m=\u001b[39m value[\u001b[38;5;124m'\u001b[39m\u001b[38;5;124malert\u001b[39m\u001b[38;5;124m'\u001b[39m]\u001b[38;5;241m.\u001b[39mget(\u001b[38;5;124m'\u001b[39m\u001b[38;5;124mtext\u001b[39m\u001b[38;5;124m'\u001b[39m)\n\u001b[0;32m    242\u001b[0m     \u001b[38;5;28;01mraise\u001b[39;00m exception_class(message, screen, stacktrace, alert_text)  \u001b[38;5;66;03m# type: ignore[call-arg]  # mypy is not smart enough here\u001b[39;00m\n\u001b[1;32m--> 243\u001b[0m \u001b[38;5;28;01mraise\u001b[39;00m exception_class(message, screen, stacktrace)\n",
      "\u001b[1;31mNoSuchElementException\u001b[0m: Message: no such element: Unable to locate element: {\"method\":\"xpath\",\"selector\":\"/html/body/div[1]/div[2]/div[3]/div/div/div[5]/div/div/div/input\"}\n  (Session info: chrome=107.0.5304.88)\nStacktrace:\nBacktrace:\n\tOrdinal0 [0x0050ACD3+2075859]\n\tOrdinal0 [0x0049EE61+1633889]\n\tOrdinal0 [0x0039B7BD+571325]\n\tOrdinal0 [0x003CAC2F+764975]\n\tOrdinal0 [0x003CAE1B+765467]\n\tOrdinal0 [0x003FD0F2+970994]\n\tOrdinal0 [0x003E7364+881508]\n\tOrdinal0 [0x003FB56A+963946]\n\tOrdinal0 [0x003E7136+880950]\n\tOrdinal0 [0x003BFEFD+720637]\n\tOrdinal0 [0x003C0F3F+724799]\n\tGetHandleVerifier [0x007BEED2+2769538]\n\tGetHandleVerifier [0x007B0D95+2711877]\n\tGetHandleVerifier [0x0059A03A+521194]\n\tGetHandleVerifier [0x00598DA0+516432]\n\tOrdinal0 [0x004A682C+1665068]\n\tOrdinal0 [0x004AB128+1683752]\n\tOrdinal0 [0x004AB215+1683989]\n\tOrdinal0 [0x004B6484+1729668]\n\tBaseThreadInitThunk [0x771BFA29+25]\n\tRtlGetAppContainerNamedObjectPath [0x77817BBE+286]\n\tRtlGetAppContainerNamedObjectPath [0x77817B8E+238]\n"
     ]
    }
   ],
   "source": [
    "location=driver.find_element(By.XPATH,\"/html/body/div[1]/div[2]/div[3]/div/div/div[5]/div/div/div/input\")\n",
    "location.send_keys('Banglore')"
   ]
  },
  {
   "cell_type": "code",
   "execution_count": 15,
   "id": "389ee1a8",
   "metadata": {},
   "outputs": [],
   "source": [
    "search= driver.find_element(By.CLASS_NAME,\"qsbSubmit\")\n",
    "search.click()"
   ]
  },
  {
   "cell_type": "code",
   "execution_count": 16,
   "id": "3242135d",
   "metadata": {},
   "outputs": [],
   "source": [
    "j_title=[]\n",
    "j_location=[]\n",
    "c_name=[]"
   ]
  },
  {
   "cell_type": "code",
   "execution_count": 17,
   "id": "46f6e254",
   "metadata": {},
   "outputs": [],
   "source": [
    "titles=driver.find_elements(By.XPATH,'//a[@class=\"title fw500 ellipsis\"]')\n",
    "for i in titles[0:10]:\n",
    "    tit=i.text\n",
    "    j_title.append(tit)\n",
    "    \n",
    "location=driver.find_elements(By.XPATH,'//li[@class=\"fleft grey-text br2 placeHolderLi location\"]') \n",
    "for i in location[0:10]:\n",
    "    loc=i.text\n",
    "    j_location.append(loc)\n",
    "    \n",
    "    \n",
    "    \n",
    "company=driver.find_elements(By.XPATH,'//a[@class=\"subTitle ellipsis fleft\"]')   \n",
    "for i in company[0:10]:\n",
    "    comp=i.text\n",
    "    c_name.append(comp)\n",
    "    "
   ]
  },
  {
   "cell_type": "code",
   "execution_count": 18,
   "id": "4211729a",
   "metadata": {},
   "outputs": [
    {
     "name": "stdout",
     "output_type": "stream",
     "text": [
      "10 10 10\n"
     ]
    }
   ],
   "source": [
    "print(len(j_title),len(j_location),len(c_name))"
   ]
  },
  {
   "cell_type": "code",
   "execution_count": 19,
   "id": "994684a3",
   "metadata": {},
   "outputs": [],
   "source": [
    "df=pd.DataFrame({'job_title':j_title,'job_location':j_location,'company_name':c_name})"
   ]
  },
  {
   "cell_type": "code",
   "execution_count": 20,
   "id": "b7dfa8e8",
   "metadata": {},
   "outputs": [
    {
     "data": {
      "text/html": [
       "<div>\n",
       "<style scoped>\n",
       "    .dataframe tbody tr th:only-of-type {\n",
       "        vertical-align: middle;\n",
       "    }\n",
       "\n",
       "    .dataframe tbody tr th {\n",
       "        vertical-align: top;\n",
       "    }\n",
       "\n",
       "    .dataframe thead th {\n",
       "        text-align: right;\n",
       "    }\n",
       "</style>\n",
       "<table border=\"1\" class=\"dataframe\">\n",
       "  <thead>\n",
       "    <tr style=\"text-align: right;\">\n",
       "      <th></th>\n",
       "      <th>job_title</th>\n",
       "      <th>job_location</th>\n",
       "      <th>company_name</th>\n",
       "    </tr>\n",
       "  </thead>\n",
       "  <tbody>\n",
       "    <tr>\n",
       "      <th>0</th>\n",
       "      <td>Analystics &amp; Modeling Specialist</td>\n",
       "      <td>Kolkata, Mumbai, Hyderabad/Secunderabad, Pune,...</td>\n",
       "      <td>Accenture</td>\n",
       "    </tr>\n",
       "    <tr>\n",
       "      <th>1</th>\n",
       "      <td>Assistant Manager - Data Science, Need Immedia...</td>\n",
       "      <td>Hybrid - Pune, Gurgaon/Gurugram, Bangalore/Ben...</td>\n",
       "      <td>Citiustech</td>\n",
       "    </tr>\n",
       "    <tr>\n",
       "      <th>2</th>\n",
       "      <td>Senior Data Scientist</td>\n",
       "      <td>Hybrid - Pune, Chennai, Bangalore/Bengaluru</td>\n",
       "      <td>Wipro</td>\n",
       "    </tr>\n",
       "    <tr>\n",
       "      <th>3</th>\n",
       "      <td>Data Scientist - Looking For Immediate Joiners</td>\n",
       "      <td>Hybrid - Hyderabad/Secunderabad, Bangalore/Ben...</td>\n",
       "      <td>Wipro</td>\n",
       "    </tr>\n",
       "    <tr>\n",
       "      <th>4</th>\n",
       "      <td>Senior Data Scientist</td>\n",
       "      <td>Mumbai, New Delhi, Chennai, Bangalore/Bengaluru</td>\n",
       "      <td>Boston Consulting Group</td>\n",
       "    </tr>\n",
       "    <tr>\n",
       "      <th>5</th>\n",
       "      <td>Data Scientist - II</td>\n",
       "      <td>India, Bangalore/Bengaluru, Mumbai (All Areas)</td>\n",
       "      <td>Bizongo</td>\n",
       "    </tr>\n",
       "    <tr>\n",
       "      <th>6</th>\n",
       "      <td>Lead ML Scientist</td>\n",
       "      <td>Mumbai, Bangalore/Bengaluru</td>\n",
       "      <td>Fractal Analytics</td>\n",
       "    </tr>\n",
       "    <tr>\n",
       "      <th>7</th>\n",
       "      <td>Senior Data Scientist</td>\n",
       "      <td>Mumbai, Bangalore/Bengaluru</td>\n",
       "      <td>Baker Hughes</td>\n",
       "    </tr>\n",
       "    <tr>\n",
       "      <th>8</th>\n",
       "      <td>Scientist</td>\n",
       "      <td>Mumbai</td>\n",
       "      <td>Johnson &amp; Johnson</td>\n",
       "    </tr>\n",
       "    <tr>\n",
       "      <th>9</th>\n",
       "      <td>Program Manager, Analytics</td>\n",
       "      <td>Bangalore/Bengaluru</td>\n",
       "      <td>Uber</td>\n",
       "    </tr>\n",
       "  </tbody>\n",
       "</table>\n",
       "</div>"
      ],
      "text/plain": [
       "                                           job_title  \\\n",
       "0                   Analystics & Modeling Specialist   \n",
       "1  Assistant Manager - Data Science, Need Immedia...   \n",
       "2                              Senior Data Scientist   \n",
       "3     Data Scientist - Looking For Immediate Joiners   \n",
       "4                              Senior Data Scientist   \n",
       "5                                Data Scientist - II   \n",
       "6                                  Lead ML Scientist   \n",
       "7                              Senior Data Scientist   \n",
       "8                                          Scientist   \n",
       "9                         Program Manager, Analytics   \n",
       "\n",
       "                                        job_location             company_name  \n",
       "0  Kolkata, Mumbai, Hyderabad/Secunderabad, Pune,...                Accenture  \n",
       "1  Hybrid - Pune, Gurgaon/Gurugram, Bangalore/Ben...               Citiustech  \n",
       "2        Hybrid - Pune, Chennai, Bangalore/Bengaluru                    Wipro  \n",
       "3  Hybrid - Hyderabad/Secunderabad, Bangalore/Ben...                    Wipro  \n",
       "4    Mumbai, New Delhi, Chennai, Bangalore/Bengaluru  Boston Consulting Group  \n",
       "5     India, Bangalore/Bengaluru, Mumbai (All Areas)                  Bizongo  \n",
       "6                        Mumbai, Bangalore/Bengaluru        Fractal Analytics  \n",
       "7                        Mumbai, Bangalore/Bengaluru             Baker Hughes  \n",
       "8                                             Mumbai        Johnson & Johnson  \n",
       "9                                Bangalore/Bengaluru                     Uber  "
      ]
     },
     "execution_count": 20,
     "metadata": {},
     "output_type": "execute_result"
    }
   ],
   "source": [
    "df"
   ]
  },
  {
   "cell_type": "code",
   "execution_count": null,
   "id": "c3eeb7f3",
   "metadata": {},
   "outputs": [],
   "source": []
  },
  {
   "cell_type": "markdown",
   "id": "d4204129",
   "metadata": {},
   "source": [
    "# You have to scrape the job-title, job-location, company name, experience required. \n",
    "The location filter to be used is “Delhi/NCR”. The salary filter to be used is “3-6” lakhs"
   ]
  },
  {
   "cell_type": "code",
   "execution_count": 21,
   "id": "827a270a",
   "metadata": {},
   "outputs": [],
   "source": [
    "driver.get(\"https://www.naukri.com/\")"
   ]
  },
  {
   "cell_type": "code",
   "execution_count": 22,
   "id": "97c80778",
   "metadata": {},
   "outputs": [],
   "source": [
    "designation=driver.find_element(By.CLASS_NAME,\"suggestor-input \")\n",
    "designation.send_keys('Data Scientist')"
   ]
  },
  {
   "cell_type": "code",
   "execution_count": 23,
   "id": "4fe6f430",
   "metadata": {},
   "outputs": [],
   "source": [
    "search= driver.find_element(By.CLASS_NAME,\"qsbSubmit\")\n",
    "search.click()"
   ]
  },
  {
   "cell_type": "code",
   "execution_count": 24,
   "id": "743e253b",
   "metadata": {},
   "outputs": [],
   "source": [
    "loc_filter=driver.find_elements(By.XPATH,'//div[@class=\"mt-8 chckBoxCont\"]//span')\n",
    "\n",
    "for i in loc_filter :\n",
    "    if (i.text=='Delhi / NCR'):\n",
    "        i.click()\n",
    "        break"
   ]
  },
  {
   "cell_type": "code",
   "execution_count": 25,
   "id": "a9d191c0",
   "metadata": {},
   "outputs": [],
   "source": [
    "sal_filter=driver.find_elements(By.XPATH,'//div[@class=\"mt-8 chckBoxCont\"]//span')\n",
    "for i in sal_filter:\n",
    "    if(i.text=='3-6 Lakhs'):\n",
    "        i.click()\n",
    "        break"
   ]
  },
  {
   "cell_type": "code",
   "execution_count": 26,
   "id": "1edbc3c7",
   "metadata": {},
   "outputs": [],
   "source": [
    "jt=[]\n",
    "jl=[]\n",
    "cn=[]\n",
    "er=[]"
   ]
  },
  {
   "cell_type": "code",
   "execution_count": 27,
   "id": "a51e8c7e",
   "metadata": {},
   "outputs": [],
   "source": [
    "j_tit=driver.find_elements(By.XPATH,'//a[@class=\"title fw500 ellipsis\"]')\n",
    "for i in j_tit[0:10]:\n",
    "    t=i.text\n",
    "    jt.append(t)\n",
    "    \n",
    "j_locn=driver.find_elements(By.XPATH,'//li[@class=\"fleft grey-text br2 placeHolderLi location\"]') \n",
    "for i in j_locn[0:10]:\n",
    "    l=i.text\n",
    "    jl.append(l)\n",
    "    \n",
    "    \n",
    "    \n",
    "j_com=driver.find_elements(By.XPATH,'//a[@class=\"subTitle ellipsis fleft\"]')   \n",
    "for i in j_com[0:10]:\n",
    "    c=i.text\n",
    "    cn.append(c)\n",
    "    \n",
    "e_req=driver.find_elements(By.XPATH,'//li[@class=\"fleft grey-text br2 placeHolderLi experience\"]') \n",
    "for i in e_req[0:10]:\n",
    "    e=i.text\n",
    "    er.append(e)    "
   ]
  },
  {
   "cell_type": "code",
   "execution_count": 28,
   "id": "183f7dfa",
   "metadata": {},
   "outputs": [
    {
     "name": "stdout",
     "output_type": "stream",
     "text": [
      "10 10 10 10\n"
     ]
    }
   ],
   "source": [
    "print(len(jt),len(jl),len(cn),len(er))"
   ]
  },
  {
   "cell_type": "code",
   "execution_count": 29,
   "id": "02446d5d",
   "metadata": {},
   "outputs": [],
   "source": [
    "df=pd.DataFrame({'job_title':jt,'job_location':jl,'company_name':cn,'experience_required':er})"
   ]
  },
  {
   "cell_type": "code",
   "execution_count": 30,
   "id": "3fad048a",
   "metadata": {},
   "outputs": [
    {
     "data": {
      "text/html": [
       "<div>\n",
       "<style scoped>\n",
       "    .dataframe tbody tr th:only-of-type {\n",
       "        vertical-align: middle;\n",
       "    }\n",
       "\n",
       "    .dataframe tbody tr th {\n",
       "        vertical-align: top;\n",
       "    }\n",
       "\n",
       "    .dataframe thead th {\n",
       "        text-align: right;\n",
       "    }\n",
       "</style>\n",
       "<table border=\"1\" class=\"dataframe\">\n",
       "  <thead>\n",
       "    <tr style=\"text-align: right;\">\n",
       "      <th></th>\n",
       "      <th>job_title</th>\n",
       "      <th>job_location</th>\n",
       "      <th>company_name</th>\n",
       "      <th>experience_required</th>\n",
       "    </tr>\n",
       "  </thead>\n",
       "  <tbody>\n",
       "    <tr>\n",
       "      <th>0</th>\n",
       "      <td>Data Scientist</td>\n",
       "      <td>Noida, Hyderabad/Secunderabad, Chennai, Bangal...</td>\n",
       "      <td>HCLTech</td>\n",
       "      <td>4-9 Yrs</td>\n",
       "    </tr>\n",
       "    <tr>\n",
       "      <th>1</th>\n",
       "      <td>DigitalBCG GAMMA Data Scientist</td>\n",
       "      <td>New Delhi, Bangalore/Bengaluru</td>\n",
       "      <td>Boston Consulting Group</td>\n",
       "      <td>2-5 Yrs</td>\n",
       "    </tr>\n",
       "    <tr>\n",
       "      <th>2</th>\n",
       "      <td>Urgent hiring For Data Scientist (PHD Must Have)</td>\n",
       "      <td>Temp. WFH - Noida, Pune</td>\n",
       "      <td>NGI Ventures</td>\n",
       "      <td>0-4 Yrs</td>\n",
       "    </tr>\n",
       "    <tr>\n",
       "      <th>3</th>\n",
       "      <td>Manager - Data Science - Banking&amp;Financial Ser...</td>\n",
       "      <td>Delhi / NCR, Bangalore/Bengaluru</td>\n",
       "      <td>Black Turtle</td>\n",
       "      <td>4-8 Yrs</td>\n",
       "    </tr>\n",
       "    <tr>\n",
       "      <th>4</th>\n",
       "      <td>Data Scientist / Sr. Data Scientist</td>\n",
       "      <td>Temp. WFH - Noida</td>\n",
       "      <td>Wegarner Solutions</td>\n",
       "      <td>3-8 Yrs</td>\n",
       "    </tr>\n",
       "    <tr>\n",
       "      <th>5</th>\n",
       "      <td>Data Scientist</td>\n",
       "      <td>Dehradun, Hyderabad/Secunderabad, Gurgaon/Guru...</td>\n",
       "      <td>torcai digital media</td>\n",
       "      <td>2-7 Yrs</td>\n",
       "    </tr>\n",
       "    <tr>\n",
       "      <th>6</th>\n",
       "      <td>Data Scientist</td>\n",
       "      <td>Noida</td>\n",
       "      <td>Meon Technologies</td>\n",
       "      <td>2-5 Yrs</td>\n",
       "    </tr>\n",
       "    <tr>\n",
       "      <th>7</th>\n",
       "      <td>Data Scientist</td>\n",
       "      <td>Noida</td>\n",
       "      <td>Alliance Recruitment Agency</td>\n",
       "      <td>3-4 Yrs</td>\n",
       "    </tr>\n",
       "    <tr>\n",
       "      <th>8</th>\n",
       "      <td>Data scientist- Python</td>\n",
       "      <td>Gurgaon/Gurugram</td>\n",
       "      <td>TeamPlus Staffing Solution Pvt Ltd</td>\n",
       "      <td>3-6 Yrs</td>\n",
       "    </tr>\n",
       "    <tr>\n",
       "      <th>9</th>\n",
       "      <td>Data Scientist</td>\n",
       "      <td>New Delhi</td>\n",
       "      <td>Razor Group GmbH</td>\n",
       "      <td>2-3 Yrs</td>\n",
       "    </tr>\n",
       "  </tbody>\n",
       "</table>\n",
       "</div>"
      ],
      "text/plain": [
       "                                           job_title  \\\n",
       "0                                     Data Scientist   \n",
       "1                    DigitalBCG GAMMA Data Scientist   \n",
       "2   Urgent hiring For Data Scientist (PHD Must Have)   \n",
       "3  Manager - Data Science - Banking&Financial Ser...   \n",
       "4                Data Scientist / Sr. Data Scientist   \n",
       "5                                     Data Scientist   \n",
       "6                                     Data Scientist   \n",
       "7                                     Data Scientist   \n",
       "8                             Data scientist- Python   \n",
       "9                                     Data Scientist   \n",
       "\n",
       "                                        job_location  \\\n",
       "0  Noida, Hyderabad/Secunderabad, Chennai, Bangal...   \n",
       "1                     New Delhi, Bangalore/Bengaluru   \n",
       "2                            Temp. WFH - Noida, Pune   \n",
       "3                   Delhi / NCR, Bangalore/Bengaluru   \n",
       "4                                  Temp. WFH - Noida   \n",
       "5  Dehradun, Hyderabad/Secunderabad, Gurgaon/Guru...   \n",
       "6                                              Noida   \n",
       "7                                              Noida   \n",
       "8                                   Gurgaon/Gurugram   \n",
       "9                                          New Delhi   \n",
       "\n",
       "                         company_name experience_required  \n",
       "0                             HCLTech             4-9 Yrs  \n",
       "1             Boston Consulting Group             2-5 Yrs  \n",
       "2                        NGI Ventures             0-4 Yrs  \n",
       "3                        Black Turtle             4-8 Yrs  \n",
       "4                  Wegarner Solutions             3-8 Yrs  \n",
       "5                torcai digital media             2-7 Yrs  \n",
       "6                   Meon Technologies             2-5 Yrs  \n",
       "7         Alliance Recruitment Agency             3-4 Yrs  \n",
       "8  TeamPlus Staffing Solution Pvt Ltd             3-6 Yrs  \n",
       "9                    Razor Group GmbH             2-3 Yrs  "
      ]
     },
     "execution_count": 30,
     "metadata": {},
     "output_type": "execute_result"
    }
   ],
   "source": [
    "df"
   ]
  },
  {
   "cell_type": "markdown",
   "id": "29ed1e3c",
   "metadata": {},
   "source": [
    "# : Scrape data of first 100 sunglasses listings on flipkart.com. You have to scrape four attributes:\n",
    " Brand, Product Description, Price,discount"
   ]
  },
  {
   "cell_type": "code",
   "execution_count": 31,
   "id": "ee2df9f9",
   "metadata": {},
   "outputs": [],
   "source": [
    "import time"
   ]
  },
  {
   "cell_type": "code",
   "execution_count": 32,
   "id": "86ccbb5f",
   "metadata": {},
   "outputs": [],
   "source": [
    "cd=webdriver.Chrome(r\"C:\\Users\\Sahwaj\\Downloads\\chromedriver_win32\\chromedriver.exe\")"
   ]
  },
  {
   "cell_type": "code",
   "execution_count": 33,
   "id": "382054c2",
   "metadata": {},
   "outputs": [],
   "source": [
    "cd.get(\"https://www.flipkart.com/\")"
   ]
  },
  {
   "cell_type": "code",
   "execution_count": 34,
   "id": "223af87c",
   "metadata": {},
   "outputs": [],
   "source": [
    "stop= cd.find_element(By.XPATH,'/html/body/div[2]/div/div/button')\n",
    "stop.click()"
   ]
  },
  {
   "cell_type": "code",
   "execution_count": 35,
   "id": "cadebf9d",
   "metadata": {},
   "outputs": [],
   "source": [
    "search_items=cd.find_element(By.XPATH,\"/html/body/div[1]/div/div[1]/div[1]/div[2]/div[2]/form/div/div/input\")\n",
    "search_items.send_keys(\"sunglasses\")"
   ]
  },
  {
   "cell_type": "code",
   "execution_count": 36,
   "id": "2f08fbcb",
   "metadata": {},
   "outputs": [],
   "source": [
    "search= cd.find_element(By.CLASS_NAME,\"L0Z3Pu\")\n",
    "search.click()"
   ]
  },
  {
   "cell_type": "code",
   "execution_count": 37,
   "id": "b150fa88",
   "metadata": {},
   "outputs": [],
   "source": [
    "Brand=[] \n",
    "Product_Description=[] \n",
    "Price=[]\n",
    "discount=[]"
   ]
  },
  {
   "cell_type": "code",
   "execution_count": 38,
   "id": "44410ab5",
   "metadata": {},
   "outputs": [],
   "source": [
    "for i in range(3): \n",
    "\n",
    "    brand=cd.find_elements(By.XPATH,'//div[@class=\"_2WkVRV\"]')\n",
    "    for i in brand:\n",
    "        b=i.text\n",
    "        Brand.append(b)    \n",
    "        \n",
    "        p_d=cd.find_elements(By.XPATH,'//a[@class=\"IRpwTa\"]')\n",
    "    for i in p_d:                         \n",
    "        pd=i.text\n",
    "        Product_Description.append(pd)\n",
    "    \n",
    "        pri=cd.find_elements(By.XPATH,'//div[@class=\"_30jeq3\"]')   \n",
    "    for i in pri:\n",
    "        p=i.text\n",
    "        Price.append(p)\n",
    "    \n",
    "        dis=cd.find_elements(By.XPATH,'//div[@class=\"_3Ay6Sb\"]')\n",
    "    for i in dis:\n",
    "        di=i.text\n",
    "        discount.append(di)    \n",
    "    time.sleep(3)\n",
    "    \n",
    "next_button= cd.find_element(By.XPATH,'//a[@class=\"_1LKTO3\"]')\n",
    "next_button.click()\n"
   ]
  },
  {
   "cell_type": "code",
   "execution_count": 39,
   "id": "838b6f30",
   "metadata": {},
   "outputs": [
    {
     "data": {
      "text/plain": [
       "[<selenium.webdriver.remote.webelement.WebElement (session=\"9e77445728425bfda3a6ac8b90e8d607\", element=\"9f5ba5a9-74c3-41ca-b721-07894b70a04a\")>,\n",
       " <selenium.webdriver.remote.webelement.WebElement (session=\"9e77445728425bfda3a6ac8b90e8d607\", element=\"2c76bc4f-093c-4f3c-8d56-bc5f8ba038bc\")>,\n",
       " <selenium.webdriver.remote.webelement.WebElement (session=\"9e77445728425bfda3a6ac8b90e8d607\", element=\"3b5027da-db1d-4b2c-be25-91039fa340b1\")>,\n",
       " <selenium.webdriver.remote.webelement.WebElement (session=\"9e77445728425bfda3a6ac8b90e8d607\", element=\"73d9d0fd-b1f9-4cb2-9500-0673d808ae59\")>,\n",
       " <selenium.webdriver.remote.webelement.WebElement (session=\"9e77445728425bfda3a6ac8b90e8d607\", element=\"a97a8085-b0bd-4e41-96f7-d2d63be86ecc\")>,\n",
       " <selenium.webdriver.remote.webelement.WebElement (session=\"9e77445728425bfda3a6ac8b90e8d607\", element=\"53c26e8d-cdbb-47ae-bec9-e9c64cef8179\")>,\n",
       " <selenium.webdriver.remote.webelement.WebElement (session=\"9e77445728425bfda3a6ac8b90e8d607\", element=\"3c8b9624-8489-4cc6-bb3a-b1d1d791bf7c\")>,\n",
       " <selenium.webdriver.remote.webelement.WebElement (session=\"9e77445728425bfda3a6ac8b90e8d607\", element=\"2aa360ea-d1f1-49c8-a423-c69d77fc63c3\")>,\n",
       " <selenium.webdriver.remote.webelement.WebElement (session=\"9e77445728425bfda3a6ac8b90e8d607\", element=\"c4568be2-f304-41e5-b18e-77d8df2e92c5\")>]"
      ]
     },
     "execution_count": 39,
     "metadata": {},
     "output_type": "execute_result"
    }
   ],
   "source": [
    "# to fetch urls\n",
    "url=cd.find_elements(By.XPATH,'//a[@class=\"ge-49M\"]')\n",
    "url[0:10]"
   ]
  },
  {
   "cell_type": "code",
   "execution_count": 40,
   "id": "de2f20de",
   "metadata": {},
   "outputs": [
    {
     "name": "stdout",
     "output_type": "stream",
     "text": [
      "https://www.flipkart.com/search?q=sunglasses&otracker=search&otracker1=search&marketplace=FLIPKART&as-show=on&as=off&page=1\n",
      "https://www.flipkart.com/search?q=sunglasses&otracker=search&otracker1=search&marketplace=FLIPKART&as-show=on&as=off&page=3\n",
      "https://www.flipkart.com/search?q=sunglasses&otracker=search&otracker1=search&marketplace=FLIPKART&as-show=on&as=off&page=4\n",
      "https://www.flipkart.com/search?q=sunglasses&otracker=search&otracker1=search&marketplace=FLIPKART&as-show=on&as=off&page=5\n",
      "https://www.flipkart.com/search?q=sunglasses&otracker=search&otracker1=search&marketplace=FLIPKART&as-show=on&as=off&page=6\n",
      "https://www.flipkart.com/search?q=sunglasses&otracker=search&otracker1=search&marketplace=FLIPKART&as-show=on&as=off&page=7\n",
      "https://www.flipkart.com/search?q=sunglasses&otracker=search&otracker1=search&marketplace=FLIPKART&as-show=on&as=off&page=8\n",
      "https://www.flipkart.com/search?q=sunglasses&otracker=search&otracker1=search&marketplace=FLIPKART&as-show=on&as=off&page=9\n",
      "https://www.flipkart.com/search?q=sunglasses&otracker=search&otracker1=search&marketplace=FLIPKART&as-show=on&as=off&page=10\n"
     ]
    }
   ],
   "source": [
    "for i in url[0:10]:\n",
    "    print(i.get_attribute('href'))"
   ]
  },
  {
   "cell_type": "code",
   "execution_count": 41,
   "id": "7f13eef8",
   "metadata": {},
   "outputs": [
    {
     "name": "stdout",
     "output_type": "stream",
     "text": [
      "120 120 120 120\n"
     ]
    }
   ],
   "source": [
    "print(len(Brand),len(Product_Description),len(Price),len(discount))\n"
   ]
  },
  {
   "cell_type": "code",
   "execution_count": 42,
   "id": "40b831e0",
   "metadata": {},
   "outputs": [],
   "source": [
    "import pandas as pd"
   ]
  },
  {
   "cell_type": "code",
   "execution_count": 43,
   "id": "d78dd790",
   "metadata": {},
   "outputs": [],
   "source": [
    "\n",
    "df = pd.DataFrame({'Brand': Brand,'Product_Description':Product_Description,'Price':Price,'Discount':discount})[0:100]\n"
   ]
  },
  {
   "cell_type": "code",
   "execution_count": 44,
   "id": "830ca38a",
   "metadata": {},
   "outputs": [
    {
     "data": {
      "text/html": [
       "<div>\n",
       "<style scoped>\n",
       "    .dataframe tbody tr th:only-of-type {\n",
       "        vertical-align: middle;\n",
       "    }\n",
       "\n",
       "    .dataframe tbody tr th {\n",
       "        vertical-align: top;\n",
       "    }\n",
       "\n",
       "    .dataframe thead th {\n",
       "        text-align: right;\n",
       "    }\n",
       "</style>\n",
       "<table border=\"1\" class=\"dataframe\">\n",
       "  <thead>\n",
       "    <tr style=\"text-align: right;\">\n",
       "      <th></th>\n",
       "      <th>Brand</th>\n",
       "      <th>Product_Description</th>\n",
       "      <th>Price</th>\n",
       "      <th>Discount</th>\n",
       "    </tr>\n",
       "  </thead>\n",
       "  <tbody>\n",
       "    <tr>\n",
       "      <th>0</th>\n",
       "      <td>IZAAN MART</td>\n",
       "      <td>UV Protection Shield Sunglasses (Free Size)</td>\n",
       "      <td>₹220</td>\n",
       "      <td>77% off</td>\n",
       "    </tr>\n",
       "    <tr>\n",
       "      <th>1</th>\n",
       "      <td>IZAAN MART</td>\n",
       "      <td>Polarized, Night Vision, UV Protection, Mirror...</td>\n",
       "      <td>₹399</td>\n",
       "      <td>75% off</td>\n",
       "    </tr>\n",
       "    <tr>\n",
       "      <th>2</th>\n",
       "      <td>Fastrack</td>\n",
       "      <td>UV Protection Rectangular Sunglasses (Free Size)</td>\n",
       "      <td>₹639</td>\n",
       "      <td>20% off</td>\n",
       "    </tr>\n",
       "    <tr>\n",
       "      <th>3</th>\n",
       "      <td>SRPM</td>\n",
       "      <td>UV Protection Wayfarer Sunglasses (50)</td>\n",
       "      <td>₹149</td>\n",
       "      <td>88% off</td>\n",
       "    </tr>\n",
       "    <tr>\n",
       "      <th>4</th>\n",
       "      <td>PIRASO</td>\n",
       "      <td>UV Protection Rectangular Sunglasses (52)</td>\n",
       "      <td>₹209</td>\n",
       "      <td>86% off</td>\n",
       "    </tr>\n",
       "    <tr>\n",
       "      <th>...</th>\n",
       "      <td>...</td>\n",
       "      <td>...</td>\n",
       "      <td>...</td>\n",
       "      <td>...</td>\n",
       "    </tr>\n",
       "    <tr>\n",
       "      <th>95</th>\n",
       "      <td>ROZZETTA CRAFT</td>\n",
       "      <td>Polarized, Riding Glasses Sports, Wrap-around ...</td>\n",
       "      <td>₹474</td>\n",
       "      <td>76% off</td>\n",
       "    </tr>\n",
       "    <tr>\n",
       "      <th>96</th>\n",
       "      <td>ROZZETTA CRAFT</td>\n",
       "      <td>UV Protection Aviator Sunglasses (55)</td>\n",
       "      <td>₹616</td>\n",
       "      <td>75% off</td>\n",
       "    </tr>\n",
       "    <tr>\n",
       "      <th>97</th>\n",
       "      <td>ROZZETTA CRAFT</td>\n",
       "      <td>UV Protection, Gradient Retro Square Sunglasse...</td>\n",
       "      <td>₹331</td>\n",
       "      <td>83% off</td>\n",
       "    </tr>\n",
       "    <tr>\n",
       "      <th>98</th>\n",
       "      <td>LIZA ANGEL</td>\n",
       "      <td>Riding Glasses, Night Vision Spectacle Sunglas...</td>\n",
       "      <td>₹189</td>\n",
       "      <td>81% off</td>\n",
       "    </tr>\n",
       "    <tr>\n",
       "      <th>99</th>\n",
       "      <td>Fastrack</td>\n",
       "      <td>UV Protection Aviator Sunglasses (Free Size)</td>\n",
       "      <td>₹759</td>\n",
       "      <td>15% off</td>\n",
       "    </tr>\n",
       "  </tbody>\n",
       "</table>\n",
       "<p>100 rows × 4 columns</p>\n",
       "</div>"
      ],
      "text/plain": [
       "             Brand                                Product_Description Price  \\\n",
       "0       IZAAN MART        UV Protection Shield Sunglasses (Free Size)  ₹220   \n",
       "1       IZAAN MART  Polarized, Night Vision, UV Protection, Mirror...  ₹399   \n",
       "2         Fastrack   UV Protection Rectangular Sunglasses (Free Size)  ₹639   \n",
       "3             SRPM             UV Protection Wayfarer Sunglasses (50)  ₹149   \n",
       "4           PIRASO          UV Protection Rectangular Sunglasses (52)  ₹209   \n",
       "..             ...                                                ...   ...   \n",
       "95  ROZZETTA CRAFT  Polarized, Riding Glasses Sports, Wrap-around ...  ₹474   \n",
       "96  ROZZETTA CRAFT              UV Protection Aviator Sunglasses (55)  ₹616   \n",
       "97  ROZZETTA CRAFT  UV Protection, Gradient Retro Square Sunglasse...  ₹331   \n",
       "98      LIZA ANGEL  Riding Glasses, Night Vision Spectacle Sunglas...  ₹189   \n",
       "99        Fastrack       UV Protection Aviator Sunglasses (Free Size)  ₹759   \n",
       "\n",
       "   Discount  \n",
       "0   77% off  \n",
       "1   75% off  \n",
       "2   20% off  \n",
       "3   88% off  \n",
       "4   86% off  \n",
       "..      ...  \n",
       "95  76% off  \n",
       "96  75% off  \n",
       "97  83% off  \n",
       "98  81% off  \n",
       "99  15% off  \n",
       "\n",
       "[100 rows x 4 columns]"
      ]
     },
     "execution_count": 44,
     "metadata": {},
     "output_type": "execute_result"
    }
   ],
   "source": [
    "df"
   ]
  },
  {
   "cell_type": "code",
   "execution_count": null,
   "id": "92149517",
   "metadata": {},
   "outputs": [],
   "source": []
  },
  {
   "cell_type": "markdown",
   "id": "3b5dda25",
   "metadata": {},
   "source": [
    "# Scrape 100 reviews data from flipkart.com for iphone11 phone.\n"
   ]
  },
  {
   "cell_type": "code",
   "execution_count": 45,
   "id": "63ac3794",
   "metadata": {},
   "outputs": [],
   "source": [
    "ip=webdriver.Chrome(r\"C:\\Users\\Sahwaj\\Downloads\\chromedriver_win32\\chromedriver.exe\")"
   ]
  },
  {
   "cell_type": "code",
   "execution_count": 46,
   "id": "97b81d9a",
   "metadata": {},
   "outputs": [],
   "source": [
    "ip.get(\"https://www.flipkart.com/\")"
   ]
  },
  {
   "cell_type": "code",
   "execution_count": 47,
   "id": "4c8dae0c",
   "metadata": {},
   "outputs": [],
   "source": [
    "stop=ip.find_element(By.XPATH,'/html/body/div[2]/div/div/button')\n",
    "stop.click()"
   ]
  },
  {
   "cell_type": "code",
   "execution_count": 48,
   "id": "909219a2",
   "metadata": {},
   "outputs": [],
   "source": [
    "search_items=ip.find_element(By.XPATH,\"/html/body/div[1]/div/div[1]/div[1]/div[2]/div[2]/form/div/div/input\")\n",
    "search_items.send_keys(\"iphone11\")"
   ]
  },
  {
   "cell_type": "code",
   "execution_count": 49,
   "id": "9bb71863",
   "metadata": {},
   "outputs": [],
   "source": [
    "search= ip.find_element(By.CLASS_NAME,\"L0Z3Pu\")\n",
    "search.click()"
   ]
  },
  {
   "cell_type": "code",
   "execution_count": 50,
   "id": "c1a167eb",
   "metadata": {},
   "outputs": [],
   "source": [
    "iphone11= ip.find_element(By.XPATH,\"/html/body/div[1]/div/div[3]/div[1]/div[2]/div[2]/div/div/div/a/div[2]/div[1]/div[1]\")\n",
    "iphone11.click()"
   ]
  },
  {
   "cell_type": "code",
   "execution_count": 51,
   "id": "d9358562",
   "metadata": {},
   "outputs": [
    {
     "ename": "AttributeError",
     "evalue": "'list' object has no attribute 'click'",
     "output_type": "error",
     "traceback": [
      "\u001b[1;31m---------------------------------------------------------------------------\u001b[0m",
      "\u001b[1;31mAttributeError\u001b[0m                            Traceback (most recent call last)",
      "Input \u001b[1;32mIn [51]\u001b[0m, in \u001b[0;36m<cell line: 1>\u001b[1;34m()\u001b[0m\n\u001b[1;32m----> 1\u001b[0m review_page\u001b[38;5;241m=\u001b[39m \u001b[43mip\u001b[49m\u001b[38;5;241;43m.\u001b[39;49m\u001b[43mfind_elements\u001b[49m\u001b[43m(\u001b[49m\u001b[43mBy\u001b[49m\u001b[38;5;241;43m.\u001b[39;49m\u001b[43mCLASS_NAME\u001b[49m\u001b[43m,\u001b[49m\u001b[38;5;124;43m\"\u001b[39;49m\u001b[38;5;124;43mACFV\u001b[39;49m\u001b[38;5;124;43m\"\u001b[39;49m\u001b[43m)\u001b[49m\u001b[38;5;241;43m.\u001b[39;49m\u001b[43mclick\u001b[49m()\n",
      "\u001b[1;31mAttributeError\u001b[0m: 'list' object has no attribute 'click'"
     ]
    }
   ],
   "source": [
    "review_page= ip.find_elements(By.CLASS_NAME,\"ACFV\").click()"
   ]
  },
  {
   "cell_type": "code",
   "execution_count": 52,
   "id": "ec29e638",
   "metadata": {},
   "outputs": [],
   "source": [
    "Rating=[]\n",
    "Review=[]\n",
    "Full_Review=[]"
   ]
  },
  {
   "cell_type": "code",
   "execution_count": 53,
   "id": "c01b5e3e",
   "metadata": {},
   "outputs": [],
   "source": [
    "for i in range(10): \n",
    "    \n",
    "        Ratings=ip.find_elements(By.XPATH,'//div[@class=\"_3LWZlK _1BLPMq\"]')\n",
    "        for i in Ratings:\n",
    "            R=i.text\n",
    "            Rating.append(R)    \n",
    "        \n",
    "        Reviews=ip.find_elements(By.XPATH,'//p[@class=\"_2-N8zT\"]')\n",
    "        for i in Reviews:                         \n",
    "            re=i.text\n",
    "            Review.append(re)\n",
    "    \n",
    "        f_review=ip.find_elements(By.XPATH,'//div[@class=\"t-ZTKy\"]')   \n",
    "        for i in f_review:\n",
    "            fr=i.text\n",
    "            Full_Review.append(fr)\n",
    "        \n",
    "        time.sleep(3)\n",
    "next_button= ip.find_element(By.XPATH,'//a[@class=\"ge-49M\"]')\n",
    "next_button.click()        "
   ]
  },
  {
   "cell_type": "code",
   "execution_count": 54,
   "id": "3baf9bc0",
   "metadata": {},
   "outputs": [
    {
     "name": "stdout",
     "output_type": "stream",
     "text": [
      "80 80 80\n"
     ]
    }
   ],
   "source": [
    "print(len(Rating),len(Review),len(Full_Review ))\n"
   ]
  },
  {
   "cell_type": "code",
   "execution_count": 55,
   "id": "4c43eee5",
   "metadata": {},
   "outputs": [],
   "source": [
    "\n",
    "df = pd.DataFrame({'Rating': Rating,'Reviews':Review,'Full_Reviews':Full_Review})[0:100]\n"
   ]
  },
  {
   "cell_type": "code",
   "execution_count": 56,
   "id": "65639658",
   "metadata": {},
   "outputs": [
    {
     "data": {
      "text/html": [
       "<div>\n",
       "<style scoped>\n",
       "    .dataframe tbody tr th:only-of-type {\n",
       "        vertical-align: middle;\n",
       "    }\n",
       "\n",
       "    .dataframe tbody tr th {\n",
       "        vertical-align: top;\n",
       "    }\n",
       "\n",
       "    .dataframe thead th {\n",
       "        text-align: right;\n",
       "    }\n",
       "</style>\n",
       "<table border=\"1\" class=\"dataframe\">\n",
       "  <thead>\n",
       "    <tr style=\"text-align: right;\">\n",
       "      <th></th>\n",
       "      <th>Rating</th>\n",
       "      <th>Reviews</th>\n",
       "      <th>Full_Reviews</th>\n",
       "    </tr>\n",
       "  </thead>\n",
       "  <tbody>\n",
       "    <tr>\n",
       "      <th>0</th>\n",
       "      <td>5</td>\n",
       "      <td>Perfect product!</td>\n",
       "      <td>After using 3 years mobile review. Excellent &amp;...</td>\n",
       "    </tr>\n",
       "    <tr>\n",
       "      <th>1</th>\n",
       "      <td>5</td>\n",
       "      <td>Terrific</td>\n",
       "      <td>I am using the phone for last 5 years and foun...</td>\n",
       "    </tr>\n",
       "    <tr>\n",
       "      <th>2</th>\n",
       "      <td>5</td>\n",
       "      <td>Fabulous!</td>\n",
       "      <td>Fast performance to previous iPhone x\\nGood ca...</td>\n",
       "    </tr>\n",
       "    <tr>\n",
       "      <th>3</th>\n",
       "      <td>5</td>\n",
       "      <td>Great product</td>\n",
       "      <td>Awesome product ❤️❤️\\nThank you Flipkart</td>\n",
       "    </tr>\n",
       "    <tr>\n",
       "      <th>4</th>\n",
       "      <td>5</td>\n",
       "      <td>Simply awesome</td>\n",
       "      <td>Really satisfied with the Product I received.....</td>\n",
       "    </tr>\n",
       "    <tr>\n",
       "      <th>...</th>\n",
       "      <td>...</td>\n",
       "      <td>...</td>\n",
       "      <td>...</td>\n",
       "    </tr>\n",
       "    <tr>\n",
       "      <th>75</th>\n",
       "      <td>5</td>\n",
       "      <td>Great product</td>\n",
       "      <td>Awesome product ❤️❤️\\nThank you Flipkart</td>\n",
       "    </tr>\n",
       "    <tr>\n",
       "      <th>76</th>\n",
       "      <td>5</td>\n",
       "      <td>Simply awesome</td>\n",
       "      <td>Really satisfied with the Product I received.....</td>\n",
       "    </tr>\n",
       "    <tr>\n",
       "      <th>77</th>\n",
       "      <td>5</td>\n",
       "      <td>Just wow!</td>\n",
       "      <td>Excellent phone iphone is iphone no one can be...</td>\n",
       "    </tr>\n",
       "    <tr>\n",
       "      <th>78</th>\n",
       "      <td>4</td>\n",
       "      <td>Good quality product</td>\n",
       "      <td>impressively Nice......\\nOne of the greatest i...</td>\n",
       "    </tr>\n",
       "    <tr>\n",
       "      <th>79</th>\n",
       "      <td>5</td>\n",
       "      <td>Perfect product!</td>\n",
       "      <td>Nice products thanks flkat</td>\n",
       "    </tr>\n",
       "  </tbody>\n",
       "</table>\n",
       "<p>80 rows × 3 columns</p>\n",
       "</div>"
      ],
      "text/plain": [
       "   Rating               Reviews  \\\n",
       "0       5      Perfect product!   \n",
       "1       5              Terrific   \n",
       "2       5             Fabulous!   \n",
       "3       5         Great product   \n",
       "4       5        Simply awesome   \n",
       "..    ...                   ...   \n",
       "75      5         Great product   \n",
       "76      5        Simply awesome   \n",
       "77      5             Just wow!   \n",
       "78      4  Good quality product   \n",
       "79      5      Perfect product!   \n",
       "\n",
       "                                         Full_Reviews  \n",
       "0   After using 3 years mobile review. Excellent &...  \n",
       "1   I am using the phone for last 5 years and foun...  \n",
       "2   Fast performance to previous iPhone x\\nGood ca...  \n",
       "3            Awesome product ❤️❤️\\nThank you Flipkart  \n",
       "4   Really satisfied with the Product I received.....  \n",
       "..                                                ...  \n",
       "75           Awesome product ❤️❤️\\nThank you Flipkart  \n",
       "76  Really satisfied with the Product I received.....  \n",
       "77  Excellent phone iphone is iphone no one can be...  \n",
       "78  impressively Nice......\\nOne of the greatest i...  \n",
       "79                         Nice products thanks flkat  \n",
       "\n",
       "[80 rows x 3 columns]"
      ]
     },
     "execution_count": 56,
     "metadata": {},
     "output_type": "execute_result"
    }
   ],
   "source": [
    "df"
   ]
  },
  {
   "cell_type": "markdown",
   "id": "b65ccd39",
   "metadata": {},
   "source": [
    "# Scrape data for first 100 sneakers you find when you visit flipkart.com and search for “sneakers”"
   ]
  },
  {
   "cell_type": "code",
   "execution_count": 57,
   "id": "ed45903f",
   "metadata": {},
   "outputs": [],
   "source": [
    "sneak=webdriver.Chrome(r\"C:\\Users\\Sahwaj\\Downloads\\chromedriver_win32\\chromedriver.exe\")"
   ]
  },
  {
   "cell_type": "code",
   "execution_count": 58,
   "id": "17cedfdb",
   "metadata": {},
   "outputs": [],
   "source": [
    "sneak.get(\"https://www.flipkart.com/\")"
   ]
  },
  {
   "cell_type": "code",
   "execution_count": 59,
   "id": "55318b35",
   "metadata": {},
   "outputs": [],
   "source": [
    "stop= sneak.find_element(By.XPATH,'/html/body/div[2]/div/div/button')\n",
    "stop.click()"
   ]
  },
  {
   "cell_type": "code",
   "execution_count": 60,
   "id": "8f01f258",
   "metadata": {},
   "outputs": [],
   "source": [
    "search_items=sneak.find_element(By.XPATH,\"/html/body/div[1]/div/div[1]/div[1]/div[2]/div[2]/form/div/div/input\")\n",
    "search_items.send_keys(\"sneaker\")"
   ]
  },
  {
   "cell_type": "code",
   "execution_count": 61,
   "id": "1eb68c7d",
   "metadata": {},
   "outputs": [],
   "source": [
    "search= sneak.find_element(By.CLASS_NAME,\"L0Z3Pu\")\n",
    "search.click()"
   ]
  },
  {
   "cell_type": "code",
   "execution_count": 62,
   "id": "39f4de91",
   "metadata": {},
   "outputs": [],
   "source": [
    "Brand = []\n",
    "Product_Description = []\n",
    "Price = []\n",
    "\n",
    "for i in range(3):\n",
    "    \n",
    "    \n",
    "    brand = sneak.find_elements(By.XPATH,\"//div[@class='_2WkVRV']\")\n",
    "    product_des = sneak.find_elements(By.XPATH,\"//div[@class='_2B099V']/a[1]\")\n",
    "    price = sneak.find_elements(By.XPATH,\"//div[@class='_30jeq3']\")\n",
    "\n",
    "\n",
    "    for i in brand:\n",
    "        Brand.append(i.text)\n",
    "    for i in product_des:\n",
    "        Product_Description.append(i.text)\n",
    "    for i in price :\n",
    "        Price.append(i.text)\n",
    "    \n",
    "time.sleep(3)\n",
    "\n",
    "nxt_button = sneak.find_element(By.XPATH,\"//a[@class='_1LKTO3']\")\n",
    "nxt_button.click()"
   ]
  },
  {
   "cell_type": "code",
   "execution_count": 63,
   "id": "03f0ce17",
   "metadata": {},
   "outputs": [
    {
     "name": "stdout",
     "output_type": "stream",
     "text": [
      "120 120 120\n"
     ]
    }
   ],
   "source": [
    "print(len(Brand),len(Product_Description),len(Price))"
   ]
  },
  {
   "cell_type": "code",
   "execution_count": 64,
   "id": "27e254b6",
   "metadata": {},
   "outputs": [
    {
     "data": {
      "text/html": [
       "<div>\n",
       "<style scoped>\n",
       "    .dataframe tbody tr th:only-of-type {\n",
       "        vertical-align: middle;\n",
       "    }\n",
       "\n",
       "    .dataframe tbody tr th {\n",
       "        vertical-align: top;\n",
       "    }\n",
       "\n",
       "    .dataframe thead th {\n",
       "        text-align: right;\n",
       "    }\n",
       "</style>\n",
       "<table border=\"1\" class=\"dataframe\">\n",
       "  <thead>\n",
       "    <tr style=\"text-align: right;\">\n",
       "      <th></th>\n",
       "      <th>Brand</th>\n",
       "      <th>Product_Description</th>\n",
       "      <th>Price</th>\n",
       "    </tr>\n",
       "  </thead>\n",
       "  <tbody>\n",
       "    <tr>\n",
       "      <th>0</th>\n",
       "      <td>RapidBox</td>\n",
       "      <td>Sneakers For Men</td>\n",
       "      <td>₹590</td>\n",
       "    </tr>\n",
       "    <tr>\n",
       "      <th>1</th>\n",
       "      <td>JUDDee</td>\n",
       "      <td>Juddee Comfortable Casual Shoe's For Men's Sne...</td>\n",
       "      <td>₹599</td>\n",
       "    </tr>\n",
       "    <tr>\n",
       "      <th>2</th>\n",
       "      <td>Labbin</td>\n",
       "      <td>Sneakers For Men</td>\n",
       "      <td>₹395</td>\n",
       "    </tr>\n",
       "    <tr>\n",
       "      <th>3</th>\n",
       "      <td>Robbie jones</td>\n",
       "      <td>Sneakers For Men</td>\n",
       "      <td>₹349</td>\n",
       "    </tr>\n",
       "    <tr>\n",
       "      <th>4</th>\n",
       "      <td>HOTSTYLE</td>\n",
       "      <td>Sneakers For Men</td>\n",
       "      <td>₹249</td>\n",
       "    </tr>\n",
       "    <tr>\n",
       "      <th>...</th>\n",
       "      <td>...</td>\n",
       "      <td>...</td>\n",
       "      <td>...</td>\n",
       "    </tr>\n",
       "    <tr>\n",
       "      <th>95</th>\n",
       "      <td>RED TAPE</td>\n",
       "      <td>Sneakers For Men</td>\n",
       "      <td>₹1,349</td>\n",
       "    </tr>\n",
       "    <tr>\n",
       "      <th>96</th>\n",
       "      <td>Bacan</td>\n",
       "      <td>Sneakers For Men</td>\n",
       "      <td>₹527</td>\n",
       "    </tr>\n",
       "    <tr>\n",
       "      <th>97</th>\n",
       "      <td>asian</td>\n",
       "      <td>Jasper-04 Red Sneakers,Casuals,Loafers Sneaker...</td>\n",
       "      <td>₹899</td>\n",
       "    </tr>\n",
       "    <tr>\n",
       "      <th>98</th>\n",
       "      <td>Robbie jones</td>\n",
       "      <td>Casual Sneakers Canvas Shoes For Men Sneakers ...</td>\n",
       "      <td>₹329</td>\n",
       "    </tr>\n",
       "    <tr>\n",
       "      <th>99</th>\n",
       "      <td>BRUTON</td>\n",
       "      <td>Exclusive Sneaker Shoes Sneakers For Men</td>\n",
       "      <td>₹324</td>\n",
       "    </tr>\n",
       "  </tbody>\n",
       "</table>\n",
       "<p>100 rows × 3 columns</p>\n",
       "</div>"
      ],
      "text/plain": [
       "           Brand                                Product_Description   Price\n",
       "0       RapidBox                                   Sneakers For Men    ₹590\n",
       "1         JUDDee  Juddee Comfortable Casual Shoe's For Men's Sne...    ₹599\n",
       "2         Labbin                                   Sneakers For Men    ₹395\n",
       "3   Robbie jones                                   Sneakers For Men    ₹349\n",
       "4       HOTSTYLE                                   Sneakers For Men    ₹249\n",
       "..           ...                                                ...     ...\n",
       "95      RED TAPE                                   Sneakers For Men  ₹1,349\n",
       "96         Bacan                                   Sneakers For Men    ₹527\n",
       "97         asian  Jasper-04 Red Sneakers,Casuals,Loafers Sneaker...    ₹899\n",
       "98  Robbie jones  Casual Sneakers Canvas Shoes For Men Sneakers ...    ₹329\n",
       "99        BRUTON           Exclusive Sneaker Shoes Sneakers For Men    ₹324\n",
       "\n",
       "[100 rows x 3 columns]"
      ]
     },
     "execution_count": 64,
     "metadata": {},
     "output_type": "execute_result"
    }
   ],
   "source": [
    "df = pd.DataFrame({'Brand':Brand,'Product_Description':Product_Description,'Price':Price})[0:100]\n",
    "df"
   ]
  },
  {
   "cell_type": "markdown",
   "id": "405e8502",
   "metadata": {},
   "source": [
    "# scrape First 100 shoes data you get. The data should include “Brand” of the shoes , Short Shoe \n",
    "description, price of the shoe "
   ]
  },
  {
   "cell_type": "code",
   "execution_count": 72,
   "id": "323f588b",
   "metadata": {},
   "outputs": [],
   "source": [
    "shoe=webdriver.Chrome(r\"C:\\Users\\Sahwaj\\Downloads\\chromedriver_win32\\chromedriver.exe\")"
   ]
  },
  {
   "cell_type": "code",
   "execution_count": 73,
   "id": "32c2b231",
   "metadata": {},
   "outputs": [],
   "source": [
    "shoe.get(\"https://www.myntra.com/shoes\")"
   ]
  },
  {
   "cell_type": "code",
   "execution_count": 74,
   "id": "9e016b03",
   "metadata": {},
   "outputs": [],
   "source": [
    "shoe.maximize_window()"
   ]
  },
  {
   "cell_type": "code",
   "execution_count": 75,
   "id": "e00f7e84",
   "metadata": {},
   "outputs": [
    {
     "ename": "NoSuchElementException",
     "evalue": "Message: no such element: Unable to locate element: {\"method\":\"xpath\",\"selector\":\"/html/body/div[2]/div/div[1]/main/div[3]/div[1]/section/div/div[5]/ul/li[2]/label/div\"}\n  (Session info: chrome=107.0.5304.88)\nStacktrace:\nBacktrace:\n\tOrdinal0 [0x0050ACD3+2075859]\n\tOrdinal0 [0x0049EE61+1633889]\n\tOrdinal0 [0x0039B7BD+571325]\n\tOrdinal0 [0x003CAC2F+764975]\n\tOrdinal0 [0x003CAE1B+765467]\n\tOrdinal0 [0x003FD0F2+970994]\n\tOrdinal0 [0x003E7364+881508]\n\tOrdinal0 [0x003FB56A+963946]\n\tOrdinal0 [0x003E7136+880950]\n\tOrdinal0 [0x003BFEFD+720637]\n\tOrdinal0 [0x003C0F3F+724799]\n\tGetHandleVerifier [0x007BEED2+2769538]\n\tGetHandleVerifier [0x007B0D95+2711877]\n\tGetHandleVerifier [0x0059A03A+521194]\n\tGetHandleVerifier [0x00598DA0+516432]\n\tOrdinal0 [0x004A682C+1665068]\n\tOrdinal0 [0x004AB128+1683752]\n\tOrdinal0 [0x004AB215+1683989]\n\tOrdinal0 [0x004B6484+1729668]\n\tBaseThreadInitThunk [0x771BFA29+25]\n\tRtlGetAppContainerNamedObjectPath [0x77817BBE+286]\n\tRtlGetAppContainerNamedObjectPath [0x77817B8E+238]\n",
     "output_type": "error",
     "traceback": [
      "\u001b[1;31m---------------------------------------------------------------------------\u001b[0m",
      "\u001b[1;31mNoSuchElementException\u001b[0m                    Traceback (most recent call last)",
      "Input \u001b[1;32mIn [75]\u001b[0m, in \u001b[0;36m<cell line: 1>\u001b[1;34m()\u001b[0m\n\u001b[1;32m----> 1\u001b[0m price_filter\u001b[38;5;241m=\u001b[39m\u001b[43mshoe\u001b[49m\u001b[38;5;241;43m.\u001b[39;49m\u001b[43mfind_element\u001b[49m\u001b[43m(\u001b[49m\u001b[43mBy\u001b[49m\u001b[38;5;241;43m.\u001b[39;49m\u001b[43mXPATH\u001b[49m\u001b[43m,\u001b[49m\u001b[38;5;124;43m\"\u001b[39;49m\u001b[38;5;124;43m/html/body/div[2]/div/div[1]/main/div[3]/div[1]/section/div/div[5]/ul/li[2]/label/div\u001b[39;49m\u001b[38;5;124;43m\"\u001b[39;49m\u001b[43m)\u001b[49m\n\u001b[0;32m      2\u001b[0m price_filter\u001b[38;5;241m.\u001b[39mclick()\n",
      "File \u001b[1;32mD:\\sahwaj\\lib\\site-packages\\selenium\\webdriver\\remote\\webdriver.py:856\u001b[0m, in \u001b[0;36mWebDriver.find_element\u001b[1;34m(self, by, value)\u001b[0m\n\u001b[0;32m    853\u001b[0m     by \u001b[38;5;241m=\u001b[39m By\u001b[38;5;241m.\u001b[39mCSS_SELECTOR\n\u001b[0;32m    854\u001b[0m     value \u001b[38;5;241m=\u001b[39m \u001b[38;5;124m'\u001b[39m\u001b[38;5;124m[name=\u001b[39m\u001b[38;5;124m\"\u001b[39m\u001b[38;5;132;01m%s\u001b[39;00m\u001b[38;5;124m\"\u001b[39m\u001b[38;5;124m]\u001b[39m\u001b[38;5;124m'\u001b[39m \u001b[38;5;241m%\u001b[39m value\n\u001b[1;32m--> 856\u001b[0m \u001b[38;5;28;01mreturn\u001b[39;00m \u001b[38;5;28;43mself\u001b[39;49m\u001b[38;5;241;43m.\u001b[39;49m\u001b[43mexecute\u001b[49m\u001b[43m(\u001b[49m\u001b[43mCommand\u001b[49m\u001b[38;5;241;43m.\u001b[39;49m\u001b[43mFIND_ELEMENT\u001b[49m\u001b[43m,\u001b[49m\u001b[43m \u001b[49m\u001b[43m{\u001b[49m\n\u001b[0;32m    857\u001b[0m \u001b[43m    \u001b[49m\u001b[38;5;124;43m'\u001b[39;49m\u001b[38;5;124;43musing\u001b[39;49m\u001b[38;5;124;43m'\u001b[39;49m\u001b[43m:\u001b[49m\u001b[43m \u001b[49m\u001b[43mby\u001b[49m\u001b[43m,\u001b[49m\n\u001b[0;32m    858\u001b[0m \u001b[43m    \u001b[49m\u001b[38;5;124;43m'\u001b[39;49m\u001b[38;5;124;43mvalue\u001b[39;49m\u001b[38;5;124;43m'\u001b[39;49m\u001b[43m:\u001b[49m\u001b[43m \u001b[49m\u001b[43mvalue\u001b[49m\u001b[43m}\u001b[49m\u001b[43m)\u001b[49m[\u001b[38;5;124m'\u001b[39m\u001b[38;5;124mvalue\u001b[39m\u001b[38;5;124m'\u001b[39m]\n",
      "File \u001b[1;32mD:\\sahwaj\\lib\\site-packages\\selenium\\webdriver\\remote\\webdriver.py:429\u001b[0m, in \u001b[0;36mWebDriver.execute\u001b[1;34m(self, driver_command, params)\u001b[0m\n\u001b[0;32m    427\u001b[0m response \u001b[38;5;241m=\u001b[39m \u001b[38;5;28mself\u001b[39m\u001b[38;5;241m.\u001b[39mcommand_executor\u001b[38;5;241m.\u001b[39mexecute(driver_command, params)\n\u001b[0;32m    428\u001b[0m \u001b[38;5;28;01mif\u001b[39;00m response:\n\u001b[1;32m--> 429\u001b[0m     \u001b[38;5;28;43mself\u001b[39;49m\u001b[38;5;241;43m.\u001b[39;49m\u001b[43merror_handler\u001b[49m\u001b[38;5;241;43m.\u001b[39;49m\u001b[43mcheck_response\u001b[49m\u001b[43m(\u001b[49m\u001b[43mresponse\u001b[49m\u001b[43m)\u001b[49m\n\u001b[0;32m    430\u001b[0m     response[\u001b[38;5;124m'\u001b[39m\u001b[38;5;124mvalue\u001b[39m\u001b[38;5;124m'\u001b[39m] \u001b[38;5;241m=\u001b[39m \u001b[38;5;28mself\u001b[39m\u001b[38;5;241m.\u001b[39m_unwrap_value(\n\u001b[0;32m    431\u001b[0m         response\u001b[38;5;241m.\u001b[39mget(\u001b[38;5;124m'\u001b[39m\u001b[38;5;124mvalue\u001b[39m\u001b[38;5;124m'\u001b[39m, \u001b[38;5;28;01mNone\u001b[39;00m))\n\u001b[0;32m    432\u001b[0m     \u001b[38;5;28;01mreturn\u001b[39;00m response\n",
      "File \u001b[1;32mD:\\sahwaj\\lib\\site-packages\\selenium\\webdriver\\remote\\errorhandler.py:243\u001b[0m, in \u001b[0;36mErrorHandler.check_response\u001b[1;34m(self, response)\u001b[0m\n\u001b[0;32m    241\u001b[0m         alert_text \u001b[38;5;241m=\u001b[39m value[\u001b[38;5;124m'\u001b[39m\u001b[38;5;124malert\u001b[39m\u001b[38;5;124m'\u001b[39m]\u001b[38;5;241m.\u001b[39mget(\u001b[38;5;124m'\u001b[39m\u001b[38;5;124mtext\u001b[39m\u001b[38;5;124m'\u001b[39m)\n\u001b[0;32m    242\u001b[0m     \u001b[38;5;28;01mraise\u001b[39;00m exception_class(message, screen, stacktrace, alert_text)  \u001b[38;5;66;03m# type: ignore[call-arg]  # mypy is not smart enough here\u001b[39;00m\n\u001b[1;32m--> 243\u001b[0m \u001b[38;5;28;01mraise\u001b[39;00m exception_class(message, screen, stacktrace)\n",
      "\u001b[1;31mNoSuchElementException\u001b[0m: Message: no such element: Unable to locate element: {\"method\":\"xpath\",\"selector\":\"/html/body/div[2]/div/div[1]/main/div[3]/div[1]/section/div/div[5]/ul/li[2]/label/div\"}\n  (Session info: chrome=107.0.5304.88)\nStacktrace:\nBacktrace:\n\tOrdinal0 [0x0050ACD3+2075859]\n\tOrdinal0 [0x0049EE61+1633889]\n\tOrdinal0 [0x0039B7BD+571325]\n\tOrdinal0 [0x003CAC2F+764975]\n\tOrdinal0 [0x003CAE1B+765467]\n\tOrdinal0 [0x003FD0F2+970994]\n\tOrdinal0 [0x003E7364+881508]\n\tOrdinal0 [0x003FB56A+963946]\n\tOrdinal0 [0x003E7136+880950]\n\tOrdinal0 [0x003BFEFD+720637]\n\tOrdinal0 [0x003C0F3F+724799]\n\tGetHandleVerifier [0x007BEED2+2769538]\n\tGetHandleVerifier [0x007B0D95+2711877]\n\tGetHandleVerifier [0x0059A03A+521194]\n\tGetHandleVerifier [0x00598DA0+516432]\n\tOrdinal0 [0x004A682C+1665068]\n\tOrdinal0 [0x004AB128+1683752]\n\tOrdinal0 [0x004AB215+1683989]\n\tOrdinal0 [0x004B6484+1729668]\n\tBaseThreadInitThunk [0x771BFA29+25]\n\tRtlGetAppContainerNamedObjectPath [0x77817BBE+286]\n\tRtlGetAppContainerNamedObjectPath [0x77817B8E+238]\n"
     ]
    }
   ],
   "source": [
    "price_filter=shoe.find_element(By.XPATH,\"/html/body/div[2]/div/div[1]/main/div[3]/div[1]/section/div/div[5]/ul/li[2]/label/div\")\n",
    "price_filter.click()\n",
    "      "
   ]
  },
  {
   "cell_type": "code",
   "execution_count": 76,
   "id": "3061cb40",
   "metadata": {},
   "outputs": [
    {
     "ename": "NoSuchElementException",
     "evalue": "Message: no such element: Unable to locate element: {\"method\":\"xpath\",\"selector\":\"/html/body/div[2]/div/div[1]/main/div[3]/div[1]/section/div/div[6]/ul/li[1]/label/div\"}\n  (Session info: chrome=107.0.5304.88)\nStacktrace:\nBacktrace:\n\tOrdinal0 [0x0050ACD3+2075859]\n\tOrdinal0 [0x0049EE61+1633889]\n\tOrdinal0 [0x0039B7BD+571325]\n\tOrdinal0 [0x003CAC2F+764975]\n\tOrdinal0 [0x003CAE1B+765467]\n\tOrdinal0 [0x003FD0F2+970994]\n\tOrdinal0 [0x003E7364+881508]\n\tOrdinal0 [0x003FB56A+963946]\n\tOrdinal0 [0x003E7136+880950]\n\tOrdinal0 [0x003BFEFD+720637]\n\tOrdinal0 [0x003C0F3F+724799]\n\tGetHandleVerifier [0x007BEED2+2769538]\n\tGetHandleVerifier [0x007B0D95+2711877]\n\tGetHandleVerifier [0x0059A03A+521194]\n\tGetHandleVerifier [0x00598DA0+516432]\n\tOrdinal0 [0x004A682C+1665068]\n\tOrdinal0 [0x004AB128+1683752]\n\tOrdinal0 [0x004AB215+1683989]\n\tOrdinal0 [0x004B6484+1729668]\n\tBaseThreadInitThunk [0x771BFA29+25]\n\tRtlGetAppContainerNamedObjectPath [0x77817BBE+286]\n\tRtlGetAppContainerNamedObjectPath [0x77817B8E+238]\n",
     "output_type": "error",
     "traceback": [
      "\u001b[1;31m---------------------------------------------------------------------------\u001b[0m",
      "\u001b[1;31mNoSuchElementException\u001b[0m                    Traceback (most recent call last)",
      "Input \u001b[1;32mIn [76]\u001b[0m, in \u001b[0;36m<cell line: 1>\u001b[1;34m()\u001b[0m\n\u001b[1;32m----> 1\u001b[0m color_filter\u001b[38;5;241m=\u001b[39m\u001b[43mshoe\u001b[49m\u001b[38;5;241;43m.\u001b[39;49m\u001b[43mfind_element\u001b[49m\u001b[43m(\u001b[49m\u001b[43mBy\u001b[49m\u001b[38;5;241;43m.\u001b[39;49m\u001b[43mXPATH\u001b[49m\u001b[43m,\u001b[49m\u001b[38;5;124;43m\"\u001b[39;49m\u001b[38;5;124;43m/html/body/div[2]/div/div[1]/main/div[3]/div[1]/section/div/div[6]/ul/li[1]/label/div\u001b[39;49m\u001b[38;5;124;43m\"\u001b[39;49m\u001b[43m)\u001b[49m\n\u001b[0;32m      3\u001b[0m color_filter\u001b[38;5;241m.\u001b[39mclick()\n",
      "File \u001b[1;32mD:\\sahwaj\\lib\\site-packages\\selenium\\webdriver\\remote\\webdriver.py:856\u001b[0m, in \u001b[0;36mWebDriver.find_element\u001b[1;34m(self, by, value)\u001b[0m\n\u001b[0;32m    853\u001b[0m     by \u001b[38;5;241m=\u001b[39m By\u001b[38;5;241m.\u001b[39mCSS_SELECTOR\n\u001b[0;32m    854\u001b[0m     value \u001b[38;5;241m=\u001b[39m \u001b[38;5;124m'\u001b[39m\u001b[38;5;124m[name=\u001b[39m\u001b[38;5;124m\"\u001b[39m\u001b[38;5;132;01m%s\u001b[39;00m\u001b[38;5;124m\"\u001b[39m\u001b[38;5;124m]\u001b[39m\u001b[38;5;124m'\u001b[39m \u001b[38;5;241m%\u001b[39m value\n\u001b[1;32m--> 856\u001b[0m \u001b[38;5;28;01mreturn\u001b[39;00m \u001b[38;5;28;43mself\u001b[39;49m\u001b[38;5;241;43m.\u001b[39;49m\u001b[43mexecute\u001b[49m\u001b[43m(\u001b[49m\u001b[43mCommand\u001b[49m\u001b[38;5;241;43m.\u001b[39;49m\u001b[43mFIND_ELEMENT\u001b[49m\u001b[43m,\u001b[49m\u001b[43m \u001b[49m\u001b[43m{\u001b[49m\n\u001b[0;32m    857\u001b[0m \u001b[43m    \u001b[49m\u001b[38;5;124;43m'\u001b[39;49m\u001b[38;5;124;43musing\u001b[39;49m\u001b[38;5;124;43m'\u001b[39;49m\u001b[43m:\u001b[49m\u001b[43m \u001b[49m\u001b[43mby\u001b[49m\u001b[43m,\u001b[49m\n\u001b[0;32m    858\u001b[0m \u001b[43m    \u001b[49m\u001b[38;5;124;43m'\u001b[39;49m\u001b[38;5;124;43mvalue\u001b[39;49m\u001b[38;5;124;43m'\u001b[39;49m\u001b[43m:\u001b[49m\u001b[43m \u001b[49m\u001b[43mvalue\u001b[49m\u001b[43m}\u001b[49m\u001b[43m)\u001b[49m[\u001b[38;5;124m'\u001b[39m\u001b[38;5;124mvalue\u001b[39m\u001b[38;5;124m'\u001b[39m]\n",
      "File \u001b[1;32mD:\\sahwaj\\lib\\site-packages\\selenium\\webdriver\\remote\\webdriver.py:429\u001b[0m, in \u001b[0;36mWebDriver.execute\u001b[1;34m(self, driver_command, params)\u001b[0m\n\u001b[0;32m    427\u001b[0m response \u001b[38;5;241m=\u001b[39m \u001b[38;5;28mself\u001b[39m\u001b[38;5;241m.\u001b[39mcommand_executor\u001b[38;5;241m.\u001b[39mexecute(driver_command, params)\n\u001b[0;32m    428\u001b[0m \u001b[38;5;28;01mif\u001b[39;00m response:\n\u001b[1;32m--> 429\u001b[0m     \u001b[38;5;28;43mself\u001b[39;49m\u001b[38;5;241;43m.\u001b[39;49m\u001b[43merror_handler\u001b[49m\u001b[38;5;241;43m.\u001b[39;49m\u001b[43mcheck_response\u001b[49m\u001b[43m(\u001b[49m\u001b[43mresponse\u001b[49m\u001b[43m)\u001b[49m\n\u001b[0;32m    430\u001b[0m     response[\u001b[38;5;124m'\u001b[39m\u001b[38;5;124mvalue\u001b[39m\u001b[38;5;124m'\u001b[39m] \u001b[38;5;241m=\u001b[39m \u001b[38;5;28mself\u001b[39m\u001b[38;5;241m.\u001b[39m_unwrap_value(\n\u001b[0;32m    431\u001b[0m         response\u001b[38;5;241m.\u001b[39mget(\u001b[38;5;124m'\u001b[39m\u001b[38;5;124mvalue\u001b[39m\u001b[38;5;124m'\u001b[39m, \u001b[38;5;28;01mNone\u001b[39;00m))\n\u001b[0;32m    432\u001b[0m     \u001b[38;5;28;01mreturn\u001b[39;00m response\n",
      "File \u001b[1;32mD:\\sahwaj\\lib\\site-packages\\selenium\\webdriver\\remote\\errorhandler.py:243\u001b[0m, in \u001b[0;36mErrorHandler.check_response\u001b[1;34m(self, response)\u001b[0m\n\u001b[0;32m    241\u001b[0m         alert_text \u001b[38;5;241m=\u001b[39m value[\u001b[38;5;124m'\u001b[39m\u001b[38;5;124malert\u001b[39m\u001b[38;5;124m'\u001b[39m]\u001b[38;5;241m.\u001b[39mget(\u001b[38;5;124m'\u001b[39m\u001b[38;5;124mtext\u001b[39m\u001b[38;5;124m'\u001b[39m)\n\u001b[0;32m    242\u001b[0m     \u001b[38;5;28;01mraise\u001b[39;00m exception_class(message, screen, stacktrace, alert_text)  \u001b[38;5;66;03m# type: ignore[call-arg]  # mypy is not smart enough here\u001b[39;00m\n\u001b[1;32m--> 243\u001b[0m \u001b[38;5;28;01mraise\u001b[39;00m exception_class(message, screen, stacktrace)\n",
      "\u001b[1;31mNoSuchElementException\u001b[0m: Message: no such element: Unable to locate element: {\"method\":\"xpath\",\"selector\":\"/html/body/div[2]/div/div[1]/main/div[3]/div[1]/section/div/div[6]/ul/li[1]/label/div\"}\n  (Session info: chrome=107.0.5304.88)\nStacktrace:\nBacktrace:\n\tOrdinal0 [0x0050ACD3+2075859]\n\tOrdinal0 [0x0049EE61+1633889]\n\tOrdinal0 [0x0039B7BD+571325]\n\tOrdinal0 [0x003CAC2F+764975]\n\tOrdinal0 [0x003CAE1B+765467]\n\tOrdinal0 [0x003FD0F2+970994]\n\tOrdinal0 [0x003E7364+881508]\n\tOrdinal0 [0x003FB56A+963946]\n\tOrdinal0 [0x003E7136+880950]\n\tOrdinal0 [0x003BFEFD+720637]\n\tOrdinal0 [0x003C0F3F+724799]\n\tGetHandleVerifier [0x007BEED2+2769538]\n\tGetHandleVerifier [0x007B0D95+2711877]\n\tGetHandleVerifier [0x0059A03A+521194]\n\tGetHandleVerifier [0x00598DA0+516432]\n\tOrdinal0 [0x004A682C+1665068]\n\tOrdinal0 [0x004AB128+1683752]\n\tOrdinal0 [0x004AB215+1683989]\n\tOrdinal0 [0x004B6484+1729668]\n\tBaseThreadInitThunk [0x771BFA29+25]\n\tRtlGetAppContainerNamedObjectPath [0x77817BBE+286]\n\tRtlGetAppContainerNamedObjectPath [0x77817B8E+238]\n"
     ]
    }
   ],
   "source": [
    "color_filter=shoe.find_element(By.XPATH,\"/html/body/div[2]/div/div[1]/main/div[3]/div[1]/section/div/div[6]/ul/li[1]/label/div\")\n",
    "\n",
    "color_filter.click() \n",
    "\n",
    "        "
   ]
  },
  {
   "cell_type": "code",
   "execution_count": 77,
   "id": "3db73872",
   "metadata": {},
   "outputs": [],
   "source": [
    "Brand = []\n",
    "Shoe_description = []\n",
    "Price = []"
   ]
  },
  {
   "cell_type": "code",
   "execution_count": 78,
   "id": "f18a121e",
   "metadata": {},
   "outputs": [
    {
     "ename": "NoSuchElementException",
     "evalue": "Message: no such element: Unable to locate element: {\"method\":\"xpath\",\"selector\":\"/html/body/div[2]/div/div[1]/main/div[3]/div[2]/div/div[2]/section/div[2]/ul/li[12]/a\"}\n  (Session info: chrome=107.0.5304.88)\nStacktrace:\nBacktrace:\n\tOrdinal0 [0x0050ACD3+2075859]\n\tOrdinal0 [0x0049EE61+1633889]\n\tOrdinal0 [0x0039B7BD+571325]\n\tOrdinal0 [0x003CAC2F+764975]\n\tOrdinal0 [0x003CAE1B+765467]\n\tOrdinal0 [0x003FD0F2+970994]\n\tOrdinal0 [0x003E7364+881508]\n\tOrdinal0 [0x003FB56A+963946]\n\tOrdinal0 [0x003E7136+880950]\n\tOrdinal0 [0x003BFEFD+720637]\n\tOrdinal0 [0x003C0F3F+724799]\n\tGetHandleVerifier [0x007BEED2+2769538]\n\tGetHandleVerifier [0x007B0D95+2711877]\n\tGetHandleVerifier [0x0059A03A+521194]\n\tGetHandleVerifier [0x00598DA0+516432]\n\tOrdinal0 [0x004A682C+1665068]\n\tOrdinal0 [0x004AB128+1683752]\n\tOrdinal0 [0x004AB215+1683989]\n\tOrdinal0 [0x004B6484+1729668]\n\tBaseThreadInitThunk [0x771BFA29+25]\n\tRtlGetAppContainerNamedObjectPath [0x77817BBE+286]\n\tRtlGetAppContainerNamedObjectPath [0x77817B8E+238]\n",
     "output_type": "error",
     "traceback": [
      "\u001b[1;31m---------------------------------------------------------------------------\u001b[0m",
      "\u001b[1;31mNoSuchElementException\u001b[0m                    Traceback (most recent call last)",
      "Input \u001b[1;32mIn [78]\u001b[0m, in \u001b[0;36m<cell line: 20>\u001b[1;34m()\u001b[0m\n\u001b[0;32m     16\u001b[0m             Price\u001b[38;5;241m.\u001b[39mappend(ct)\n\u001b[0;32m     18\u001b[0m time\u001b[38;5;241m.\u001b[39msleep(\u001b[38;5;241m3\u001b[39m)\n\u001b[1;32m---> 20\u001b[0m next_button\u001b[38;5;241m=\u001b[39m \u001b[43mshoe\u001b[49m\u001b[38;5;241;43m.\u001b[39;49m\u001b[43mfind_element\u001b[49m\u001b[43m(\u001b[49m\u001b[43mBy\u001b[49m\u001b[38;5;241;43m.\u001b[39;49m\u001b[43mXPATH\u001b[49m\u001b[43m,\u001b[49m\u001b[38;5;124;43m\"\u001b[39;49m\u001b[38;5;124;43m/html/body/div[2]/div/div[1]/main/div[3]/div[2]/div/div[2]/section/div[2]/ul/li[12]/a\u001b[39;49m\u001b[38;5;124;43m\"\u001b[39;49m\u001b[43m)\u001b[49m\n\u001b[0;32m     21\u001b[0m next_button\u001b[38;5;241m.\u001b[39mclick()\n",
      "File \u001b[1;32mD:\\sahwaj\\lib\\site-packages\\selenium\\webdriver\\remote\\webdriver.py:856\u001b[0m, in \u001b[0;36mWebDriver.find_element\u001b[1;34m(self, by, value)\u001b[0m\n\u001b[0;32m    853\u001b[0m     by \u001b[38;5;241m=\u001b[39m By\u001b[38;5;241m.\u001b[39mCSS_SELECTOR\n\u001b[0;32m    854\u001b[0m     value \u001b[38;5;241m=\u001b[39m \u001b[38;5;124m'\u001b[39m\u001b[38;5;124m[name=\u001b[39m\u001b[38;5;124m\"\u001b[39m\u001b[38;5;132;01m%s\u001b[39;00m\u001b[38;5;124m\"\u001b[39m\u001b[38;5;124m]\u001b[39m\u001b[38;5;124m'\u001b[39m \u001b[38;5;241m%\u001b[39m value\n\u001b[1;32m--> 856\u001b[0m \u001b[38;5;28;01mreturn\u001b[39;00m \u001b[38;5;28;43mself\u001b[39;49m\u001b[38;5;241;43m.\u001b[39;49m\u001b[43mexecute\u001b[49m\u001b[43m(\u001b[49m\u001b[43mCommand\u001b[49m\u001b[38;5;241;43m.\u001b[39;49m\u001b[43mFIND_ELEMENT\u001b[49m\u001b[43m,\u001b[49m\u001b[43m \u001b[49m\u001b[43m{\u001b[49m\n\u001b[0;32m    857\u001b[0m \u001b[43m    \u001b[49m\u001b[38;5;124;43m'\u001b[39;49m\u001b[38;5;124;43musing\u001b[39;49m\u001b[38;5;124;43m'\u001b[39;49m\u001b[43m:\u001b[49m\u001b[43m \u001b[49m\u001b[43mby\u001b[49m\u001b[43m,\u001b[49m\n\u001b[0;32m    858\u001b[0m \u001b[43m    \u001b[49m\u001b[38;5;124;43m'\u001b[39;49m\u001b[38;5;124;43mvalue\u001b[39;49m\u001b[38;5;124;43m'\u001b[39;49m\u001b[43m:\u001b[49m\u001b[43m \u001b[49m\u001b[43mvalue\u001b[49m\u001b[43m}\u001b[49m\u001b[43m)\u001b[49m[\u001b[38;5;124m'\u001b[39m\u001b[38;5;124mvalue\u001b[39m\u001b[38;5;124m'\u001b[39m]\n",
      "File \u001b[1;32mD:\\sahwaj\\lib\\site-packages\\selenium\\webdriver\\remote\\webdriver.py:429\u001b[0m, in \u001b[0;36mWebDriver.execute\u001b[1;34m(self, driver_command, params)\u001b[0m\n\u001b[0;32m    427\u001b[0m response \u001b[38;5;241m=\u001b[39m \u001b[38;5;28mself\u001b[39m\u001b[38;5;241m.\u001b[39mcommand_executor\u001b[38;5;241m.\u001b[39mexecute(driver_command, params)\n\u001b[0;32m    428\u001b[0m \u001b[38;5;28;01mif\u001b[39;00m response:\n\u001b[1;32m--> 429\u001b[0m     \u001b[38;5;28;43mself\u001b[39;49m\u001b[38;5;241;43m.\u001b[39;49m\u001b[43merror_handler\u001b[49m\u001b[38;5;241;43m.\u001b[39;49m\u001b[43mcheck_response\u001b[49m\u001b[43m(\u001b[49m\u001b[43mresponse\u001b[49m\u001b[43m)\u001b[49m\n\u001b[0;32m    430\u001b[0m     response[\u001b[38;5;124m'\u001b[39m\u001b[38;5;124mvalue\u001b[39m\u001b[38;5;124m'\u001b[39m] \u001b[38;5;241m=\u001b[39m \u001b[38;5;28mself\u001b[39m\u001b[38;5;241m.\u001b[39m_unwrap_value(\n\u001b[0;32m    431\u001b[0m         response\u001b[38;5;241m.\u001b[39mget(\u001b[38;5;124m'\u001b[39m\u001b[38;5;124mvalue\u001b[39m\u001b[38;5;124m'\u001b[39m, \u001b[38;5;28;01mNone\u001b[39;00m))\n\u001b[0;32m    432\u001b[0m     \u001b[38;5;28;01mreturn\u001b[39;00m response\n",
      "File \u001b[1;32mD:\\sahwaj\\lib\\site-packages\\selenium\\webdriver\\remote\\errorhandler.py:243\u001b[0m, in \u001b[0;36mErrorHandler.check_response\u001b[1;34m(self, response)\u001b[0m\n\u001b[0;32m    241\u001b[0m         alert_text \u001b[38;5;241m=\u001b[39m value[\u001b[38;5;124m'\u001b[39m\u001b[38;5;124malert\u001b[39m\u001b[38;5;124m'\u001b[39m]\u001b[38;5;241m.\u001b[39mget(\u001b[38;5;124m'\u001b[39m\u001b[38;5;124mtext\u001b[39m\u001b[38;5;124m'\u001b[39m)\n\u001b[0;32m    242\u001b[0m     \u001b[38;5;28;01mraise\u001b[39;00m exception_class(message, screen, stacktrace, alert_text)  \u001b[38;5;66;03m# type: ignore[call-arg]  # mypy is not smart enough here\u001b[39;00m\n\u001b[1;32m--> 243\u001b[0m \u001b[38;5;28;01mraise\u001b[39;00m exception_class(message, screen, stacktrace)\n",
      "\u001b[1;31mNoSuchElementException\u001b[0m: Message: no such element: Unable to locate element: {\"method\":\"xpath\",\"selector\":\"/html/body/div[2]/div/div[1]/main/div[3]/div[2]/div/div[2]/section/div[2]/ul/li[12]/a\"}\n  (Session info: chrome=107.0.5304.88)\nStacktrace:\nBacktrace:\n\tOrdinal0 [0x0050ACD3+2075859]\n\tOrdinal0 [0x0049EE61+1633889]\n\tOrdinal0 [0x0039B7BD+571325]\n\tOrdinal0 [0x003CAC2F+764975]\n\tOrdinal0 [0x003CAE1B+765467]\n\tOrdinal0 [0x003FD0F2+970994]\n\tOrdinal0 [0x003E7364+881508]\n\tOrdinal0 [0x003FB56A+963946]\n\tOrdinal0 [0x003E7136+880950]\n\tOrdinal0 [0x003BFEFD+720637]\n\tOrdinal0 [0x003C0F3F+724799]\n\tGetHandleVerifier [0x007BEED2+2769538]\n\tGetHandleVerifier [0x007B0D95+2711877]\n\tGetHandleVerifier [0x0059A03A+521194]\n\tGetHandleVerifier [0x00598DA0+516432]\n\tOrdinal0 [0x004A682C+1665068]\n\tOrdinal0 [0x004AB128+1683752]\n\tOrdinal0 [0x004AB215+1683989]\n\tOrdinal0 [0x004B6484+1729668]\n\tBaseThreadInitThunk [0x771BFA29+25]\n\tRtlGetAppContainerNamedObjectPath [0x77817BBE+286]\n\tRtlGetAppContainerNamedObjectPath [0x77817B8E+238]\n"
     ]
    }
   ],
   "source": [
    "for i in range(2): \n",
    "    \n",
    "        Brands=shoe.find_elements(By.XPATH,\"//h3[@class='product-brand']\")\n",
    "        for i in Brands:\n",
    "            BR=i.text\n",
    "            Brand.append(BR)    \n",
    "        \n",
    "        shoe_des=shoe.find_elements(By.XPATH,\"//h4[@class='product-product']\")\n",
    "        for i in shoe_des:                         \n",
    "            sd=i.text\n",
    "            Shoe_description.append(sd)\n",
    "    \n",
    "        cost=shoe.find_elements(By.XPATH,\"//div[@class='product-price']/span[1]\")   \n",
    "        for i in cost:\n",
    "            ct=i.text\n",
    "            Price.append(ct)\n",
    "        \n",
    "time.sleep(3)\n",
    "\n",
    "next_button= shoe.find_element(By.XPATH,\"/html/body/div[2]/div/div[1]/main/div[3]/div[2]/div/div[2]/section/div[2]/ul/li[12]/a\")\n",
    "next_button.click()        "
   ]
  },
  {
   "cell_type": "code",
   "execution_count": 80,
   "id": "820d6e14",
   "metadata": {},
   "outputs": [
    {
     "name": "stdout",
     "output_type": "stream",
     "text": [
      "100 100 100\n"
     ]
    }
   ],
   "source": [
    "print(len(Brand),len(Shoe_description),len(Price))"
   ]
  },
  {
   "cell_type": "code",
   "execution_count": 81,
   "id": "b4b10839",
   "metadata": {},
   "outputs": [],
   "source": [
    "df_shoe=pd.DataFrame()"
   ]
  },
  {
   "cell_type": "code",
   "execution_count": 82,
   "id": "3ab25061",
   "metadata": {},
   "outputs": [],
   "source": [
    "df_shoe['Brand']=Brand\n",
    "df_shoe['Shoe_Description']=Shoe_description\n",
    "df_shoe['Price']=Price"
   ]
  },
  {
   "cell_type": "code",
   "execution_count": 83,
   "id": "fb16e5e8",
   "metadata": {},
   "outputs": [
    {
     "data": {
      "text/html": [
       "<div>\n",
       "<style scoped>\n",
       "    .dataframe tbody tr th:only-of-type {\n",
       "        vertical-align: middle;\n",
       "    }\n",
       "\n",
       "    .dataframe tbody tr th {\n",
       "        vertical-align: top;\n",
       "    }\n",
       "\n",
       "    .dataframe thead th {\n",
       "        text-align: right;\n",
       "    }\n",
       "</style>\n",
       "<table border=\"1\" class=\"dataframe\">\n",
       "  <thead>\n",
       "    <tr style=\"text-align: right;\">\n",
       "      <th></th>\n",
       "      <th>Brand</th>\n",
       "      <th>Shoe_Description</th>\n",
       "      <th>Price</th>\n",
       "    </tr>\n",
       "  </thead>\n",
       "  <tbody>\n",
       "    <tr>\n",
       "      <th>0</th>\n",
       "      <td>U.S. Polo Assn.</td>\n",
       "      <td>Men Clarkin Sneakers</td>\n",
       "      <td>Rs. 1799Rs. 2999</td>\n",
       "    </tr>\n",
       "    <tr>\n",
       "      <th>1</th>\n",
       "      <td>HIGHLANDER</td>\n",
       "      <td>Men Sneakers</td>\n",
       "      <td>Rs. 1154Rs. 1990</td>\n",
       "    </tr>\n",
       "    <tr>\n",
       "      <th>2</th>\n",
       "      <td>Red Tape</td>\n",
       "      <td>Women Sneakers</td>\n",
       "      <td>Rs. 1439Rs. 4799</td>\n",
       "    </tr>\n",
       "    <tr>\n",
       "      <th>3</th>\n",
       "      <td>Skechers</td>\n",
       "      <td>Women D'LITES-FRESH Sneakers</td>\n",
       "      <td>Rs. 2799Rs. 6999</td>\n",
       "    </tr>\n",
       "    <tr>\n",
       "      <th>4</th>\n",
       "      <td>Nike</td>\n",
       "      <td>Men AIR WINFLO 9 Running Shoes</td>\n",
       "      <td>Rs. 7645Rs. 8495</td>\n",
       "    </tr>\n",
       "    <tr>\n",
       "      <th>...</th>\n",
       "      <td>...</td>\n",
       "      <td>...</td>\n",
       "      <td>...</td>\n",
       "    </tr>\n",
       "    <tr>\n",
       "      <th>95</th>\n",
       "      <td>Zyla</td>\n",
       "      <td>Women Sandals</td>\n",
       "      <td>Rs. 899Rs. 999</td>\n",
       "    </tr>\n",
       "    <tr>\n",
       "      <th>96</th>\n",
       "      <td>Puma</td>\n",
       "      <td>Women Sneakers</td>\n",
       "      <td>Rs. 2024Rs. 4499</td>\n",
       "    </tr>\n",
       "    <tr>\n",
       "      <th>97</th>\n",
       "      <td>HIGHLANDER</td>\n",
       "      <td>Men Solid Sneakers</td>\n",
       "      <td>Rs. 1054Rs. 1990</td>\n",
       "    </tr>\n",
       "    <tr>\n",
       "      <th>98</th>\n",
       "      <td>TWIN TOES</td>\n",
       "      <td>Women Sports Shoes</td>\n",
       "      <td>Rs. 699Rs. 1999</td>\n",
       "    </tr>\n",
       "    <tr>\n",
       "      <th>99</th>\n",
       "      <td>Newfeel By Decathlon</td>\n",
       "      <td>Women Walking Shoes</td>\n",
       "      <td>Rs. 999</td>\n",
       "    </tr>\n",
       "  </tbody>\n",
       "</table>\n",
       "<p>100 rows × 3 columns</p>\n",
       "</div>"
      ],
      "text/plain": [
       "                   Brand                Shoe_Description             Price\n",
       "0        U.S. Polo Assn.            Men Clarkin Sneakers  Rs. 1799Rs. 2999\n",
       "1             HIGHLANDER                    Men Sneakers  Rs. 1154Rs. 1990\n",
       "2               Red Tape                  Women Sneakers  Rs. 1439Rs. 4799\n",
       "3               Skechers    Women D'LITES-FRESH Sneakers  Rs. 2799Rs. 6999\n",
       "4                   Nike  Men AIR WINFLO 9 Running Shoes  Rs. 7645Rs. 8495\n",
       "..                   ...                             ...               ...\n",
       "95                  Zyla                   Women Sandals    Rs. 899Rs. 999\n",
       "96                  Puma                  Women Sneakers  Rs. 2024Rs. 4499\n",
       "97            HIGHLANDER              Men Solid Sneakers  Rs. 1054Rs. 1990\n",
       "98             TWIN TOES              Women Sports Shoes   Rs. 699Rs. 1999\n",
       "99  Newfeel By Decathlon             Women Walking Shoes           Rs. 999\n",
       "\n",
       "[100 rows x 3 columns]"
      ]
     },
     "execution_count": 83,
     "metadata": {},
     "output_type": "execute_result"
    }
   ],
   "source": [
    "df_shoe"
   ]
  },
  {
   "cell_type": "markdown",
   "id": "23d08d8d",
   "metadata": {},
   "source": [
    "# scrape first 10 laptops data. You have to scrape 3 attributesfor each laptop:\n",
    "1. Title\n",
    "2. Ratings\n",
    "3. Price\n"
   ]
  },
  {
   "cell_type": "code",
   "execution_count": 84,
   "id": "0cc3a33b",
   "metadata": {},
   "outputs": [],
   "source": [
    "lap=webdriver.Chrome(r\"C:\\Users\\Sahwaj\\Downloads\\chromedriver_win32\\chromedriver.exe\")"
   ]
  },
  {
   "cell_type": "code",
   "execution_count": 85,
   "id": "154308e5",
   "metadata": {},
   "outputs": [],
   "source": [
    "lap.get(\"https://www.amazon.in/\")"
   ]
  },
  {
   "cell_type": "code",
   "execution_count": 86,
   "id": "af62f298",
   "metadata": {},
   "outputs": [],
   "source": [
    "search=lap.find_element(By.XPATH,\"//input[@class='nav-input nav-progressive-attribute']\")\n",
    "search.send_keys(\"laptop\")"
   ]
  },
  {
   "cell_type": "code",
   "execution_count": 87,
   "id": "83da73ed",
   "metadata": {},
   "outputs": [],
   "source": [
    "find= lap.find_element(By.XPATH,\"//input[@id='nav-search-submit-button']\")\n",
    "find.click()"
   ]
  },
  {
   "cell_type": "code",
   "execution_count": 88,
   "id": "a48708bb",
   "metadata": {},
   "outputs": [
    {
     "ename": "NoSuchElementException",
     "evalue": "Message: no such element: Unable to locate element: {\"method\":\"xpath\",\"selector\":\"/html/body/div[1]/div[2]/div[1]/div[2]/div/div[3]/span/div[1]/div/div/div[6]/ul[4]/li[11]/span/a/div/label/i\"}\n  (Session info: chrome=107.0.5304.88)\nStacktrace:\nBacktrace:\n\tOrdinal0 [0x0050ACD3+2075859]\n\tOrdinal0 [0x0049EE61+1633889]\n\tOrdinal0 [0x0039B7BD+571325]\n\tOrdinal0 [0x003CAC2F+764975]\n\tOrdinal0 [0x003CAE1B+765467]\n\tOrdinal0 [0x003FD0F2+970994]\n\tOrdinal0 [0x003E7364+881508]\n\tOrdinal0 [0x003FB56A+963946]\n\tOrdinal0 [0x003E7136+880950]\n\tOrdinal0 [0x003BFEFD+720637]\n\tOrdinal0 [0x003C0F3F+724799]\n\tGetHandleVerifier [0x007BEED2+2769538]\n\tGetHandleVerifier [0x007B0D95+2711877]\n\tGetHandleVerifier [0x0059A03A+521194]\n\tGetHandleVerifier [0x00598DA0+516432]\n\tOrdinal0 [0x004A682C+1665068]\n\tOrdinal0 [0x004AB128+1683752]\n\tOrdinal0 [0x004AB215+1683989]\n\tOrdinal0 [0x004B6484+1729668]\n\tBaseThreadInitThunk [0x771BFA29+25]\n\tRtlGetAppContainerNamedObjectPath [0x77817BBE+286]\n\tRtlGetAppContainerNamedObjectPath [0x77817B8E+238]\n",
     "output_type": "error",
     "traceback": [
      "\u001b[1;31m---------------------------------------------------------------------------\u001b[0m",
      "\u001b[1;31mNoSuchElementException\u001b[0m                    Traceback (most recent call last)",
      "Input \u001b[1;32mIn [88]\u001b[0m, in \u001b[0;36m<cell line: 1>\u001b[1;34m()\u001b[0m\n\u001b[1;32m----> 1\u001b[0m intel_filter\u001b[38;5;241m=\u001b[39m\u001b[43mlap\u001b[49m\u001b[38;5;241;43m.\u001b[39;49m\u001b[43mfind_element\u001b[49m\u001b[43m(\u001b[49m\u001b[43mBy\u001b[49m\u001b[38;5;241;43m.\u001b[39;49m\u001b[43mXPATH\u001b[49m\u001b[43m,\u001b[49m\u001b[38;5;124;43m\"\u001b[39;49m\u001b[38;5;124;43m/html/body/div[1]/div[2]/div[1]/div[2]/div/div[3]/span/div[1]/div/div/div[6]/ul[4]/li[11]/span/a/div/label/i\u001b[39;49m\u001b[38;5;124;43m\"\u001b[39;49m\u001b[43m)\u001b[49m\n\u001b[0;32m      2\u001b[0m intel_filter\u001b[38;5;241m.\u001b[39mclick()\n\u001b[0;32m      4\u001b[0m time\u001b[38;5;241m.\u001b[39msleep(\u001b[38;5;241m2\u001b[39m)\n",
      "File \u001b[1;32mD:\\sahwaj\\lib\\site-packages\\selenium\\webdriver\\remote\\webdriver.py:856\u001b[0m, in \u001b[0;36mWebDriver.find_element\u001b[1;34m(self, by, value)\u001b[0m\n\u001b[0;32m    853\u001b[0m     by \u001b[38;5;241m=\u001b[39m By\u001b[38;5;241m.\u001b[39mCSS_SELECTOR\n\u001b[0;32m    854\u001b[0m     value \u001b[38;5;241m=\u001b[39m \u001b[38;5;124m'\u001b[39m\u001b[38;5;124m[name=\u001b[39m\u001b[38;5;124m\"\u001b[39m\u001b[38;5;132;01m%s\u001b[39;00m\u001b[38;5;124m\"\u001b[39m\u001b[38;5;124m]\u001b[39m\u001b[38;5;124m'\u001b[39m \u001b[38;5;241m%\u001b[39m value\n\u001b[1;32m--> 856\u001b[0m \u001b[38;5;28;01mreturn\u001b[39;00m \u001b[38;5;28;43mself\u001b[39;49m\u001b[38;5;241;43m.\u001b[39;49m\u001b[43mexecute\u001b[49m\u001b[43m(\u001b[49m\u001b[43mCommand\u001b[49m\u001b[38;5;241;43m.\u001b[39;49m\u001b[43mFIND_ELEMENT\u001b[49m\u001b[43m,\u001b[49m\u001b[43m \u001b[49m\u001b[43m{\u001b[49m\n\u001b[0;32m    857\u001b[0m \u001b[43m    \u001b[49m\u001b[38;5;124;43m'\u001b[39;49m\u001b[38;5;124;43musing\u001b[39;49m\u001b[38;5;124;43m'\u001b[39;49m\u001b[43m:\u001b[49m\u001b[43m \u001b[49m\u001b[43mby\u001b[49m\u001b[43m,\u001b[49m\n\u001b[0;32m    858\u001b[0m \u001b[43m    \u001b[49m\u001b[38;5;124;43m'\u001b[39;49m\u001b[38;5;124;43mvalue\u001b[39;49m\u001b[38;5;124;43m'\u001b[39;49m\u001b[43m:\u001b[49m\u001b[43m \u001b[49m\u001b[43mvalue\u001b[49m\u001b[43m}\u001b[49m\u001b[43m)\u001b[49m[\u001b[38;5;124m'\u001b[39m\u001b[38;5;124mvalue\u001b[39m\u001b[38;5;124m'\u001b[39m]\n",
      "File \u001b[1;32mD:\\sahwaj\\lib\\site-packages\\selenium\\webdriver\\remote\\webdriver.py:429\u001b[0m, in \u001b[0;36mWebDriver.execute\u001b[1;34m(self, driver_command, params)\u001b[0m\n\u001b[0;32m    427\u001b[0m response \u001b[38;5;241m=\u001b[39m \u001b[38;5;28mself\u001b[39m\u001b[38;5;241m.\u001b[39mcommand_executor\u001b[38;5;241m.\u001b[39mexecute(driver_command, params)\n\u001b[0;32m    428\u001b[0m \u001b[38;5;28;01mif\u001b[39;00m response:\n\u001b[1;32m--> 429\u001b[0m     \u001b[38;5;28;43mself\u001b[39;49m\u001b[38;5;241;43m.\u001b[39;49m\u001b[43merror_handler\u001b[49m\u001b[38;5;241;43m.\u001b[39;49m\u001b[43mcheck_response\u001b[49m\u001b[43m(\u001b[49m\u001b[43mresponse\u001b[49m\u001b[43m)\u001b[49m\n\u001b[0;32m    430\u001b[0m     response[\u001b[38;5;124m'\u001b[39m\u001b[38;5;124mvalue\u001b[39m\u001b[38;5;124m'\u001b[39m] \u001b[38;5;241m=\u001b[39m \u001b[38;5;28mself\u001b[39m\u001b[38;5;241m.\u001b[39m_unwrap_value(\n\u001b[0;32m    431\u001b[0m         response\u001b[38;5;241m.\u001b[39mget(\u001b[38;5;124m'\u001b[39m\u001b[38;5;124mvalue\u001b[39m\u001b[38;5;124m'\u001b[39m, \u001b[38;5;28;01mNone\u001b[39;00m))\n\u001b[0;32m    432\u001b[0m     \u001b[38;5;28;01mreturn\u001b[39;00m response\n",
      "File \u001b[1;32mD:\\sahwaj\\lib\\site-packages\\selenium\\webdriver\\remote\\errorhandler.py:243\u001b[0m, in \u001b[0;36mErrorHandler.check_response\u001b[1;34m(self, response)\u001b[0m\n\u001b[0;32m    241\u001b[0m         alert_text \u001b[38;5;241m=\u001b[39m value[\u001b[38;5;124m'\u001b[39m\u001b[38;5;124malert\u001b[39m\u001b[38;5;124m'\u001b[39m]\u001b[38;5;241m.\u001b[39mget(\u001b[38;5;124m'\u001b[39m\u001b[38;5;124mtext\u001b[39m\u001b[38;5;124m'\u001b[39m)\n\u001b[0;32m    242\u001b[0m     \u001b[38;5;28;01mraise\u001b[39;00m exception_class(message, screen, stacktrace, alert_text)  \u001b[38;5;66;03m# type: ignore[call-arg]  # mypy is not smart enough here\u001b[39;00m\n\u001b[1;32m--> 243\u001b[0m \u001b[38;5;28;01mraise\u001b[39;00m exception_class(message, screen, stacktrace)\n",
      "\u001b[1;31mNoSuchElementException\u001b[0m: Message: no such element: Unable to locate element: {\"method\":\"xpath\",\"selector\":\"/html/body/div[1]/div[2]/div[1]/div[2]/div/div[3]/span/div[1]/div/div/div[6]/ul[4]/li[11]/span/a/div/label/i\"}\n  (Session info: chrome=107.0.5304.88)\nStacktrace:\nBacktrace:\n\tOrdinal0 [0x0050ACD3+2075859]\n\tOrdinal0 [0x0049EE61+1633889]\n\tOrdinal0 [0x0039B7BD+571325]\n\tOrdinal0 [0x003CAC2F+764975]\n\tOrdinal0 [0x003CAE1B+765467]\n\tOrdinal0 [0x003FD0F2+970994]\n\tOrdinal0 [0x003E7364+881508]\n\tOrdinal0 [0x003FB56A+963946]\n\tOrdinal0 [0x003E7136+880950]\n\tOrdinal0 [0x003BFEFD+720637]\n\tOrdinal0 [0x003C0F3F+724799]\n\tGetHandleVerifier [0x007BEED2+2769538]\n\tGetHandleVerifier [0x007B0D95+2711877]\n\tGetHandleVerifier [0x0059A03A+521194]\n\tGetHandleVerifier [0x00598DA0+516432]\n\tOrdinal0 [0x004A682C+1665068]\n\tOrdinal0 [0x004AB128+1683752]\n\tOrdinal0 [0x004AB215+1683989]\n\tOrdinal0 [0x004B6484+1729668]\n\tBaseThreadInitThunk [0x771BFA29+25]\n\tRtlGetAppContainerNamedObjectPath [0x77817BBE+286]\n\tRtlGetAppContainerNamedObjectPath [0x77817B8E+238]\n"
     ]
    }
   ],
   "source": [
    "intel_filter=lap.find_element(By.XPATH,\"/html/body/div[1]/div[2]/div[1]/div[2]/div/div[3]/span/div[1]/div/div/div[6]/ul[4]/li[11]/span/a/div/label/i\")\n",
    "intel_filter.click()\n",
    "\n",
    "time.sleep(2)    "
   ]
  },
  {
   "cell_type": "code",
   "execution_count": 89,
   "id": "29685a1c",
   "metadata": {},
   "outputs": [],
   "source": [
    "Title=[]\n",
    "Rating=[]\n",
    "price=[]"
   ]
  },
  {
   "cell_type": "code",
   "execution_count": 90,
   "id": "10e79b3d",
   "metadata": {},
   "outputs": [],
   "source": [
    "Titles=lap.find_elements(By.XPATH,\"//span[@class='a-size-medium a-color-base a-text-normal']\")\n",
    "for i in Titles:\n",
    "            ti=i.text\n",
    "            Title.append(ti)    \n",
    "        \n",
    "Rating_lap=lap.find_elements(By.XPATH,'//span[@class=\"a-icon-alt\"]')\n",
    "for i in Rating_lap:                         \n",
    "            rl=i.text\n",
    "            Rating.append(rl)\n",
    "    \n",
    "cost_lap=lap.find_elements(By.XPATH,'//span[@class=\"a-price-whole\"]')   \n",
    "for i in cost_lap:\n",
    "            cl=i.text\n",
    "            price.append(cl)\n",
    "        \n",
    "time.sleep(3)"
   ]
  },
  {
   "cell_type": "code",
   "execution_count": 91,
   "id": "32854ea2",
   "metadata": {},
   "outputs": [
    {
     "name": "stdout",
     "output_type": "stream",
     "text": [
      "23 31\n"
     ]
    }
   ],
   "source": [
    "print(len(Title),len(price))"
   ]
  },
  {
   "cell_type": "code",
   "execution_count": 92,
   "id": "0d825a53",
   "metadata": {},
   "outputs": [
    {
     "ename": "ValueError",
     "evalue": "All arrays must be of the same length",
     "output_type": "error",
     "traceback": [
      "\u001b[1;31m---------------------------------------------------------------------------\u001b[0m",
      "\u001b[1;31mValueError\u001b[0m                                Traceback (most recent call last)",
      "Input \u001b[1;32mIn [92]\u001b[0m, in \u001b[0;36m<cell line: 1>\u001b[1;34m()\u001b[0m\n\u001b[1;32m----> 1\u001b[0m dfl \u001b[38;5;241m=\u001b[39m \u001b[43mpd\u001b[49m\u001b[38;5;241;43m.\u001b[39;49m\u001b[43mDataFrame\u001b[49m\u001b[43m(\u001b[49m\u001b[43m{\u001b[49m\u001b[38;5;124;43m'\u001b[39;49m\u001b[38;5;124;43mTitle\u001b[39;49m\u001b[38;5;124;43m'\u001b[39;49m\u001b[43m:\u001b[49m\u001b[43mTitle\u001b[49m\u001b[43m,\u001b[49m\u001b[38;5;124;43m'\u001b[39;49m\u001b[38;5;124;43mPrice\u001b[39;49m\u001b[38;5;124;43m'\u001b[39;49m\u001b[43m:\u001b[49m\u001b[43mprice\u001b[49m\u001b[43m}\u001b[49m\u001b[43m)\u001b[49m\n\u001b[0;32m      2\u001b[0m dfl[\u001b[38;5;241m0\u001b[39m:\u001b[38;5;241m10\u001b[39m]\n",
      "File \u001b[1;32mD:\\sahwaj\\lib\\site-packages\\pandas\\core\\frame.py:636\u001b[0m, in \u001b[0;36mDataFrame.__init__\u001b[1;34m(self, data, index, columns, dtype, copy)\u001b[0m\n\u001b[0;32m    630\u001b[0m     mgr \u001b[38;5;241m=\u001b[39m \u001b[38;5;28mself\u001b[39m\u001b[38;5;241m.\u001b[39m_init_mgr(\n\u001b[0;32m    631\u001b[0m         data, axes\u001b[38;5;241m=\u001b[39m{\u001b[38;5;124m\"\u001b[39m\u001b[38;5;124mindex\u001b[39m\u001b[38;5;124m\"\u001b[39m: index, \u001b[38;5;124m\"\u001b[39m\u001b[38;5;124mcolumns\u001b[39m\u001b[38;5;124m\"\u001b[39m: columns}, dtype\u001b[38;5;241m=\u001b[39mdtype, copy\u001b[38;5;241m=\u001b[39mcopy\n\u001b[0;32m    632\u001b[0m     )\n\u001b[0;32m    634\u001b[0m \u001b[38;5;28;01melif\u001b[39;00m \u001b[38;5;28misinstance\u001b[39m(data, \u001b[38;5;28mdict\u001b[39m):\n\u001b[0;32m    635\u001b[0m     \u001b[38;5;66;03m# GH#38939 de facto copy defaults to False only in non-dict cases\u001b[39;00m\n\u001b[1;32m--> 636\u001b[0m     mgr \u001b[38;5;241m=\u001b[39m \u001b[43mdict_to_mgr\u001b[49m\u001b[43m(\u001b[49m\u001b[43mdata\u001b[49m\u001b[43m,\u001b[49m\u001b[43m \u001b[49m\u001b[43mindex\u001b[49m\u001b[43m,\u001b[49m\u001b[43m \u001b[49m\u001b[43mcolumns\u001b[49m\u001b[43m,\u001b[49m\u001b[43m \u001b[49m\u001b[43mdtype\u001b[49m\u001b[38;5;241;43m=\u001b[39;49m\u001b[43mdtype\u001b[49m\u001b[43m,\u001b[49m\u001b[43m \u001b[49m\u001b[43mcopy\u001b[49m\u001b[38;5;241;43m=\u001b[39;49m\u001b[43mcopy\u001b[49m\u001b[43m,\u001b[49m\u001b[43m \u001b[49m\u001b[43mtyp\u001b[49m\u001b[38;5;241;43m=\u001b[39;49m\u001b[43mmanager\u001b[49m\u001b[43m)\u001b[49m\n\u001b[0;32m    637\u001b[0m \u001b[38;5;28;01melif\u001b[39;00m \u001b[38;5;28misinstance\u001b[39m(data, ma\u001b[38;5;241m.\u001b[39mMaskedArray):\n\u001b[0;32m    638\u001b[0m     \u001b[38;5;28;01mimport\u001b[39;00m \u001b[38;5;21;01mnumpy\u001b[39;00m\u001b[38;5;21;01m.\u001b[39;00m\u001b[38;5;21;01mma\u001b[39;00m\u001b[38;5;21;01m.\u001b[39;00m\u001b[38;5;21;01mmrecords\u001b[39;00m \u001b[38;5;28;01mas\u001b[39;00m \u001b[38;5;21;01mmrecords\u001b[39;00m\n",
      "File \u001b[1;32mD:\\sahwaj\\lib\\site-packages\\pandas\\core\\internals\\construction.py:502\u001b[0m, in \u001b[0;36mdict_to_mgr\u001b[1;34m(data, index, columns, dtype, typ, copy)\u001b[0m\n\u001b[0;32m    494\u001b[0m     arrays \u001b[38;5;241m=\u001b[39m [\n\u001b[0;32m    495\u001b[0m         x\n\u001b[0;32m    496\u001b[0m         \u001b[38;5;28;01mif\u001b[39;00m \u001b[38;5;129;01mnot\u001b[39;00m \u001b[38;5;28mhasattr\u001b[39m(x, \u001b[38;5;124m\"\u001b[39m\u001b[38;5;124mdtype\u001b[39m\u001b[38;5;124m\"\u001b[39m) \u001b[38;5;129;01mor\u001b[39;00m \u001b[38;5;129;01mnot\u001b[39;00m \u001b[38;5;28misinstance\u001b[39m(x\u001b[38;5;241m.\u001b[39mdtype, ExtensionDtype)\n\u001b[0;32m    497\u001b[0m         \u001b[38;5;28;01melse\u001b[39;00m x\u001b[38;5;241m.\u001b[39mcopy()\n\u001b[0;32m    498\u001b[0m         \u001b[38;5;28;01mfor\u001b[39;00m x \u001b[38;5;129;01min\u001b[39;00m arrays\n\u001b[0;32m    499\u001b[0m     ]\n\u001b[0;32m    500\u001b[0m     \u001b[38;5;66;03m# TODO: can we get rid of the dt64tz special case above?\u001b[39;00m\n\u001b[1;32m--> 502\u001b[0m \u001b[38;5;28;01mreturn\u001b[39;00m \u001b[43marrays_to_mgr\u001b[49m\u001b[43m(\u001b[49m\u001b[43marrays\u001b[49m\u001b[43m,\u001b[49m\u001b[43m \u001b[49m\u001b[43mcolumns\u001b[49m\u001b[43m,\u001b[49m\u001b[43m \u001b[49m\u001b[43mindex\u001b[49m\u001b[43m,\u001b[49m\u001b[43m \u001b[49m\u001b[43mdtype\u001b[49m\u001b[38;5;241;43m=\u001b[39;49m\u001b[43mdtype\u001b[49m\u001b[43m,\u001b[49m\u001b[43m \u001b[49m\u001b[43mtyp\u001b[49m\u001b[38;5;241;43m=\u001b[39;49m\u001b[43mtyp\u001b[49m\u001b[43m,\u001b[49m\u001b[43m \u001b[49m\u001b[43mconsolidate\u001b[49m\u001b[38;5;241;43m=\u001b[39;49m\u001b[43mcopy\u001b[49m\u001b[43m)\u001b[49m\n",
      "File \u001b[1;32mD:\\sahwaj\\lib\\site-packages\\pandas\\core\\internals\\construction.py:120\u001b[0m, in \u001b[0;36marrays_to_mgr\u001b[1;34m(arrays, columns, index, dtype, verify_integrity, typ, consolidate)\u001b[0m\n\u001b[0;32m    117\u001b[0m \u001b[38;5;28;01mif\u001b[39;00m verify_integrity:\n\u001b[0;32m    118\u001b[0m     \u001b[38;5;66;03m# figure out the index, if necessary\u001b[39;00m\n\u001b[0;32m    119\u001b[0m     \u001b[38;5;28;01mif\u001b[39;00m index \u001b[38;5;129;01mis\u001b[39;00m \u001b[38;5;28;01mNone\u001b[39;00m:\n\u001b[1;32m--> 120\u001b[0m         index \u001b[38;5;241m=\u001b[39m \u001b[43m_extract_index\u001b[49m\u001b[43m(\u001b[49m\u001b[43marrays\u001b[49m\u001b[43m)\u001b[49m\n\u001b[0;32m    121\u001b[0m     \u001b[38;5;28;01melse\u001b[39;00m:\n\u001b[0;32m    122\u001b[0m         index \u001b[38;5;241m=\u001b[39m ensure_index(index)\n",
      "File \u001b[1;32mD:\\sahwaj\\lib\\site-packages\\pandas\\core\\internals\\construction.py:674\u001b[0m, in \u001b[0;36m_extract_index\u001b[1;34m(data)\u001b[0m\n\u001b[0;32m    672\u001b[0m lengths \u001b[38;5;241m=\u001b[39m \u001b[38;5;28mlist\u001b[39m(\u001b[38;5;28mset\u001b[39m(raw_lengths))\n\u001b[0;32m    673\u001b[0m \u001b[38;5;28;01mif\u001b[39;00m \u001b[38;5;28mlen\u001b[39m(lengths) \u001b[38;5;241m>\u001b[39m \u001b[38;5;241m1\u001b[39m:\n\u001b[1;32m--> 674\u001b[0m     \u001b[38;5;28;01mraise\u001b[39;00m \u001b[38;5;167;01mValueError\u001b[39;00m(\u001b[38;5;124m\"\u001b[39m\u001b[38;5;124mAll arrays must be of the same length\u001b[39m\u001b[38;5;124m\"\u001b[39m)\n\u001b[0;32m    676\u001b[0m \u001b[38;5;28;01mif\u001b[39;00m have_dicts:\n\u001b[0;32m    677\u001b[0m     \u001b[38;5;28;01mraise\u001b[39;00m \u001b[38;5;167;01mValueError\u001b[39;00m(\n\u001b[0;32m    678\u001b[0m         \u001b[38;5;124m\"\u001b[39m\u001b[38;5;124mMixing dicts with non-Series may lead to ambiguous ordering.\u001b[39m\u001b[38;5;124m\"\u001b[39m\n\u001b[0;32m    679\u001b[0m     )\n",
      "\u001b[1;31mValueError\u001b[0m: All arrays must be of the same length"
     ]
    }
   ],
   "source": [
    "dfl = pd.DataFrame({'Title':Title,'Price':price})\n",
    "dfl[0:10]"
   ]
  },
  {
   "cell_type": "markdown",
   "id": "7b23e091",
   "metadata": {},
   "source": [
    "# Write a python program to scrape data for first 10 job results for Data Scientist Designation in Noida"
   ]
  },
  {
   "cell_type": "code",
   "execution_count": 93,
   "id": "b0366ab9",
   "metadata": {},
   "outputs": [],
   "source": [
    "ambi=webdriver.Chrome(r\"C:\\Users\\Sahwaj\\Downloads\\chromedriver_win32\\chromedriver.exe\")"
   ]
  },
  {
   "cell_type": "code",
   "execution_count": 94,
   "id": "c7b80913",
   "metadata": {},
   "outputs": [],
   "source": [
    "ambi.get(\"https://www.ambitionbox.com/\")\n"
   ]
  },
  {
   "cell_type": "code",
   "execution_count": 95,
   "id": "6d82a496",
   "metadata": {},
   "outputs": [
    {
     "ename": "NoSuchElementException",
     "evalue": "Message: no such element: Unable to locate element: {\"method\":\"xpath\",\"selector\":\"/html/body/div[1]/nav[2]/div/ul/li[5]/a\"}\n  (Session info: chrome=107.0.5304.88)\nStacktrace:\nBacktrace:\n\tOrdinal0 [0x0050ACD3+2075859]\n\tOrdinal0 [0x0049EE61+1633889]\n\tOrdinal0 [0x0039B7BD+571325]\n\tOrdinal0 [0x003CAC2F+764975]\n\tOrdinal0 [0x003CAE1B+765467]\n\tOrdinal0 [0x003FD0F2+970994]\n\tOrdinal0 [0x003E7364+881508]\n\tOrdinal0 [0x003FB56A+963946]\n\tOrdinal0 [0x003E7136+880950]\n\tOrdinal0 [0x003BFEFD+720637]\n\tOrdinal0 [0x003C0F3F+724799]\n\tGetHandleVerifier [0x007BEED2+2769538]\n\tGetHandleVerifier [0x007B0D95+2711877]\n\tGetHandleVerifier [0x0059A03A+521194]\n\tGetHandleVerifier [0x00598DA0+516432]\n\tOrdinal0 [0x004A682C+1665068]\n\tOrdinal0 [0x004AB128+1683752]\n\tOrdinal0 [0x004AB215+1683989]\n\tOrdinal0 [0x004B6484+1729668]\n\tBaseThreadInitThunk [0x771BFA29+25]\n\tRtlGetAppContainerNamedObjectPath [0x77817BBE+286]\n\tRtlGetAppContainerNamedObjectPath [0x77817B8E+238]\n",
     "output_type": "error",
     "traceback": [
      "\u001b[1;31m---------------------------------------------------------------------------\u001b[0m",
      "\u001b[1;31mNoSuchElementException\u001b[0m                    Traceback (most recent call last)",
      "Input \u001b[1;32mIn [95]\u001b[0m, in \u001b[0;36m<cell line: 1>\u001b[1;34m()\u001b[0m\n\u001b[1;32m----> 1\u001b[0m jobs\u001b[38;5;241m=\u001b[39m\u001b[43mambi\u001b[49m\u001b[38;5;241;43m.\u001b[39;49m\u001b[43mfind_element\u001b[49m\u001b[43m(\u001b[49m\u001b[43mBy\u001b[49m\u001b[38;5;241;43m.\u001b[39;49m\u001b[43mXPATH\u001b[49m\u001b[43m,\u001b[49m\u001b[38;5;124;43m'\u001b[39;49m\u001b[38;5;124;43m/html/body/div[1]/nav[2]/div/ul/li[5]/a\u001b[39;49m\u001b[38;5;124;43m'\u001b[39;49m\u001b[43m)\u001b[49m\n\u001b[0;32m      2\u001b[0m jobs\u001b[38;5;241m.\u001b[39mclick()\n",
      "File \u001b[1;32mD:\\sahwaj\\lib\\site-packages\\selenium\\webdriver\\remote\\webdriver.py:856\u001b[0m, in \u001b[0;36mWebDriver.find_element\u001b[1;34m(self, by, value)\u001b[0m\n\u001b[0;32m    853\u001b[0m     by \u001b[38;5;241m=\u001b[39m By\u001b[38;5;241m.\u001b[39mCSS_SELECTOR\n\u001b[0;32m    854\u001b[0m     value \u001b[38;5;241m=\u001b[39m \u001b[38;5;124m'\u001b[39m\u001b[38;5;124m[name=\u001b[39m\u001b[38;5;124m\"\u001b[39m\u001b[38;5;132;01m%s\u001b[39;00m\u001b[38;5;124m\"\u001b[39m\u001b[38;5;124m]\u001b[39m\u001b[38;5;124m'\u001b[39m \u001b[38;5;241m%\u001b[39m value\n\u001b[1;32m--> 856\u001b[0m \u001b[38;5;28;01mreturn\u001b[39;00m \u001b[38;5;28;43mself\u001b[39;49m\u001b[38;5;241;43m.\u001b[39;49m\u001b[43mexecute\u001b[49m\u001b[43m(\u001b[49m\u001b[43mCommand\u001b[49m\u001b[38;5;241;43m.\u001b[39;49m\u001b[43mFIND_ELEMENT\u001b[49m\u001b[43m,\u001b[49m\u001b[43m \u001b[49m\u001b[43m{\u001b[49m\n\u001b[0;32m    857\u001b[0m \u001b[43m    \u001b[49m\u001b[38;5;124;43m'\u001b[39;49m\u001b[38;5;124;43musing\u001b[39;49m\u001b[38;5;124;43m'\u001b[39;49m\u001b[43m:\u001b[49m\u001b[43m \u001b[49m\u001b[43mby\u001b[49m\u001b[43m,\u001b[49m\n\u001b[0;32m    858\u001b[0m \u001b[43m    \u001b[49m\u001b[38;5;124;43m'\u001b[39;49m\u001b[38;5;124;43mvalue\u001b[39;49m\u001b[38;5;124;43m'\u001b[39;49m\u001b[43m:\u001b[49m\u001b[43m \u001b[49m\u001b[43mvalue\u001b[49m\u001b[43m}\u001b[49m\u001b[43m)\u001b[49m[\u001b[38;5;124m'\u001b[39m\u001b[38;5;124mvalue\u001b[39m\u001b[38;5;124m'\u001b[39m]\n",
      "File \u001b[1;32mD:\\sahwaj\\lib\\site-packages\\selenium\\webdriver\\remote\\webdriver.py:429\u001b[0m, in \u001b[0;36mWebDriver.execute\u001b[1;34m(self, driver_command, params)\u001b[0m\n\u001b[0;32m    427\u001b[0m response \u001b[38;5;241m=\u001b[39m \u001b[38;5;28mself\u001b[39m\u001b[38;5;241m.\u001b[39mcommand_executor\u001b[38;5;241m.\u001b[39mexecute(driver_command, params)\n\u001b[0;32m    428\u001b[0m \u001b[38;5;28;01mif\u001b[39;00m response:\n\u001b[1;32m--> 429\u001b[0m     \u001b[38;5;28;43mself\u001b[39;49m\u001b[38;5;241;43m.\u001b[39;49m\u001b[43merror_handler\u001b[49m\u001b[38;5;241;43m.\u001b[39;49m\u001b[43mcheck_response\u001b[49m\u001b[43m(\u001b[49m\u001b[43mresponse\u001b[49m\u001b[43m)\u001b[49m\n\u001b[0;32m    430\u001b[0m     response[\u001b[38;5;124m'\u001b[39m\u001b[38;5;124mvalue\u001b[39m\u001b[38;5;124m'\u001b[39m] \u001b[38;5;241m=\u001b[39m \u001b[38;5;28mself\u001b[39m\u001b[38;5;241m.\u001b[39m_unwrap_value(\n\u001b[0;32m    431\u001b[0m         response\u001b[38;5;241m.\u001b[39mget(\u001b[38;5;124m'\u001b[39m\u001b[38;5;124mvalue\u001b[39m\u001b[38;5;124m'\u001b[39m, \u001b[38;5;28;01mNone\u001b[39;00m))\n\u001b[0;32m    432\u001b[0m     \u001b[38;5;28;01mreturn\u001b[39;00m response\n",
      "File \u001b[1;32mD:\\sahwaj\\lib\\site-packages\\selenium\\webdriver\\remote\\errorhandler.py:243\u001b[0m, in \u001b[0;36mErrorHandler.check_response\u001b[1;34m(self, response)\u001b[0m\n\u001b[0;32m    241\u001b[0m         alert_text \u001b[38;5;241m=\u001b[39m value[\u001b[38;5;124m'\u001b[39m\u001b[38;5;124malert\u001b[39m\u001b[38;5;124m'\u001b[39m]\u001b[38;5;241m.\u001b[39mget(\u001b[38;5;124m'\u001b[39m\u001b[38;5;124mtext\u001b[39m\u001b[38;5;124m'\u001b[39m)\n\u001b[0;32m    242\u001b[0m     \u001b[38;5;28;01mraise\u001b[39;00m exception_class(message, screen, stacktrace, alert_text)  \u001b[38;5;66;03m# type: ignore[call-arg]  # mypy is not smart enough here\u001b[39;00m\n\u001b[1;32m--> 243\u001b[0m \u001b[38;5;28;01mraise\u001b[39;00m exception_class(message, screen, stacktrace)\n",
      "\u001b[1;31mNoSuchElementException\u001b[0m: Message: no such element: Unable to locate element: {\"method\":\"xpath\",\"selector\":\"/html/body/div[1]/nav[2]/div/ul/li[5]/a\"}\n  (Session info: chrome=107.0.5304.88)\nStacktrace:\nBacktrace:\n\tOrdinal0 [0x0050ACD3+2075859]\n\tOrdinal0 [0x0049EE61+1633889]\n\tOrdinal0 [0x0039B7BD+571325]\n\tOrdinal0 [0x003CAC2F+764975]\n\tOrdinal0 [0x003CAE1B+765467]\n\tOrdinal0 [0x003FD0F2+970994]\n\tOrdinal0 [0x003E7364+881508]\n\tOrdinal0 [0x003FB56A+963946]\n\tOrdinal0 [0x003E7136+880950]\n\tOrdinal0 [0x003BFEFD+720637]\n\tOrdinal0 [0x003C0F3F+724799]\n\tGetHandleVerifier [0x007BEED2+2769538]\n\tGetHandleVerifier [0x007B0D95+2711877]\n\tGetHandleVerifier [0x0059A03A+521194]\n\tGetHandleVerifier [0x00598DA0+516432]\n\tOrdinal0 [0x004A682C+1665068]\n\tOrdinal0 [0x004AB128+1683752]\n\tOrdinal0 [0x004AB215+1683989]\n\tOrdinal0 [0x004B6484+1729668]\n\tBaseThreadInitThunk [0x771BFA29+25]\n\tRtlGetAppContainerNamedObjectPath [0x77817BBE+286]\n\tRtlGetAppContainerNamedObjectPath [0x77817B8E+238]\n"
     ]
    }
   ],
   "source": [
    "jobs=ambi.find_element(By.XPATH,'/html/body/div[1]/nav[2]/div/ul/li[5]/a')\n",
    "jobs.click()"
   ]
  },
  {
   "cell_type": "code",
   "execution_count": 96,
   "id": "786daf38",
   "metadata": {},
   "outputs": [
    {
     "ename": "NoSuchElementException",
     "evalue": "Message: no such element: Unable to locate element: {\"method\":\"xpath\",\"selector\":\"/html/body/div/div/div/div[2]/div[1]/div[1]/div/div/div/div/span/input\"}\n  (Session info: chrome=107.0.5304.88)\nStacktrace:\nBacktrace:\n\tOrdinal0 [0x0050ACD3+2075859]\n\tOrdinal0 [0x0049EE61+1633889]\n\tOrdinal0 [0x0039B7BD+571325]\n\tOrdinal0 [0x003CAC2F+764975]\n\tOrdinal0 [0x003CAE1B+765467]\n\tOrdinal0 [0x003FD0F2+970994]\n\tOrdinal0 [0x003E7364+881508]\n\tOrdinal0 [0x003FB56A+963946]\n\tOrdinal0 [0x003E7136+880950]\n\tOrdinal0 [0x003BFEFD+720637]\n\tOrdinal0 [0x003C0F3F+724799]\n\tGetHandleVerifier [0x007BEED2+2769538]\n\tGetHandleVerifier [0x007B0D95+2711877]\n\tGetHandleVerifier [0x0059A03A+521194]\n\tGetHandleVerifier [0x00598DA0+516432]\n\tOrdinal0 [0x004A682C+1665068]\n\tOrdinal0 [0x004AB128+1683752]\n\tOrdinal0 [0x004AB215+1683989]\n\tOrdinal0 [0x004B6484+1729668]\n\tBaseThreadInitThunk [0x771BFA29+25]\n\tRtlGetAppContainerNamedObjectPath [0x77817BBE+286]\n\tRtlGetAppContainerNamedObjectPath [0x77817B8E+238]\n",
     "output_type": "error",
     "traceback": [
      "\u001b[1;31m---------------------------------------------------------------------------\u001b[0m",
      "\u001b[1;31mNoSuchElementException\u001b[0m                    Traceback (most recent call last)",
      "Input \u001b[1;32mIn [96]\u001b[0m, in \u001b[0;36m<cell line: 1>\u001b[1;34m()\u001b[0m\n\u001b[1;32m----> 1\u001b[0m search\u001b[38;5;241m=\u001b[39m\u001b[43mambi\u001b[49m\u001b[38;5;241;43m.\u001b[39;49m\u001b[43mfind_element\u001b[49m\u001b[43m(\u001b[49m\u001b[43mBy\u001b[49m\u001b[38;5;241;43m.\u001b[39;49m\u001b[43mXPATH\u001b[49m\u001b[43m,\u001b[49m\u001b[38;5;124;43m\"\u001b[39;49m\u001b[38;5;124;43m/html/body/div/div/div/div[2]/div[1]/div[1]/div/div/div/div/span/input\u001b[39;49m\u001b[38;5;124;43m\"\u001b[39;49m\u001b[43m)\u001b[49m\n\u001b[0;32m      2\u001b[0m search\u001b[38;5;241m.\u001b[39msend_keys(\u001b[38;5;124m\"\u001b[39m\u001b[38;5;124mData scientist\u001b[39m\u001b[38;5;124m\"\u001b[39m)\n\u001b[0;32m      3\u001b[0m time\u001b[38;5;241m.\u001b[39msleep(\u001b[38;5;241m2\u001b[39m)\n",
      "File \u001b[1;32mD:\\sahwaj\\lib\\site-packages\\selenium\\webdriver\\remote\\webdriver.py:856\u001b[0m, in \u001b[0;36mWebDriver.find_element\u001b[1;34m(self, by, value)\u001b[0m\n\u001b[0;32m    853\u001b[0m     by \u001b[38;5;241m=\u001b[39m By\u001b[38;5;241m.\u001b[39mCSS_SELECTOR\n\u001b[0;32m    854\u001b[0m     value \u001b[38;5;241m=\u001b[39m \u001b[38;5;124m'\u001b[39m\u001b[38;5;124m[name=\u001b[39m\u001b[38;5;124m\"\u001b[39m\u001b[38;5;132;01m%s\u001b[39;00m\u001b[38;5;124m\"\u001b[39m\u001b[38;5;124m]\u001b[39m\u001b[38;5;124m'\u001b[39m \u001b[38;5;241m%\u001b[39m value\n\u001b[1;32m--> 856\u001b[0m \u001b[38;5;28;01mreturn\u001b[39;00m \u001b[38;5;28;43mself\u001b[39;49m\u001b[38;5;241;43m.\u001b[39;49m\u001b[43mexecute\u001b[49m\u001b[43m(\u001b[49m\u001b[43mCommand\u001b[49m\u001b[38;5;241;43m.\u001b[39;49m\u001b[43mFIND_ELEMENT\u001b[49m\u001b[43m,\u001b[49m\u001b[43m \u001b[49m\u001b[43m{\u001b[49m\n\u001b[0;32m    857\u001b[0m \u001b[43m    \u001b[49m\u001b[38;5;124;43m'\u001b[39;49m\u001b[38;5;124;43musing\u001b[39;49m\u001b[38;5;124;43m'\u001b[39;49m\u001b[43m:\u001b[49m\u001b[43m \u001b[49m\u001b[43mby\u001b[49m\u001b[43m,\u001b[49m\n\u001b[0;32m    858\u001b[0m \u001b[43m    \u001b[49m\u001b[38;5;124;43m'\u001b[39;49m\u001b[38;5;124;43mvalue\u001b[39;49m\u001b[38;5;124;43m'\u001b[39;49m\u001b[43m:\u001b[49m\u001b[43m \u001b[49m\u001b[43mvalue\u001b[49m\u001b[43m}\u001b[49m\u001b[43m)\u001b[49m[\u001b[38;5;124m'\u001b[39m\u001b[38;5;124mvalue\u001b[39m\u001b[38;5;124m'\u001b[39m]\n",
      "File \u001b[1;32mD:\\sahwaj\\lib\\site-packages\\selenium\\webdriver\\remote\\webdriver.py:429\u001b[0m, in \u001b[0;36mWebDriver.execute\u001b[1;34m(self, driver_command, params)\u001b[0m\n\u001b[0;32m    427\u001b[0m response \u001b[38;5;241m=\u001b[39m \u001b[38;5;28mself\u001b[39m\u001b[38;5;241m.\u001b[39mcommand_executor\u001b[38;5;241m.\u001b[39mexecute(driver_command, params)\n\u001b[0;32m    428\u001b[0m \u001b[38;5;28;01mif\u001b[39;00m response:\n\u001b[1;32m--> 429\u001b[0m     \u001b[38;5;28;43mself\u001b[39;49m\u001b[38;5;241;43m.\u001b[39;49m\u001b[43merror_handler\u001b[49m\u001b[38;5;241;43m.\u001b[39;49m\u001b[43mcheck_response\u001b[49m\u001b[43m(\u001b[49m\u001b[43mresponse\u001b[49m\u001b[43m)\u001b[49m\n\u001b[0;32m    430\u001b[0m     response[\u001b[38;5;124m'\u001b[39m\u001b[38;5;124mvalue\u001b[39m\u001b[38;5;124m'\u001b[39m] \u001b[38;5;241m=\u001b[39m \u001b[38;5;28mself\u001b[39m\u001b[38;5;241m.\u001b[39m_unwrap_value(\n\u001b[0;32m    431\u001b[0m         response\u001b[38;5;241m.\u001b[39mget(\u001b[38;5;124m'\u001b[39m\u001b[38;5;124mvalue\u001b[39m\u001b[38;5;124m'\u001b[39m, \u001b[38;5;28;01mNone\u001b[39;00m))\n\u001b[0;32m    432\u001b[0m     \u001b[38;5;28;01mreturn\u001b[39;00m response\n",
      "File \u001b[1;32mD:\\sahwaj\\lib\\site-packages\\selenium\\webdriver\\remote\\errorhandler.py:243\u001b[0m, in \u001b[0;36mErrorHandler.check_response\u001b[1;34m(self, response)\u001b[0m\n\u001b[0;32m    241\u001b[0m         alert_text \u001b[38;5;241m=\u001b[39m value[\u001b[38;5;124m'\u001b[39m\u001b[38;5;124malert\u001b[39m\u001b[38;5;124m'\u001b[39m]\u001b[38;5;241m.\u001b[39mget(\u001b[38;5;124m'\u001b[39m\u001b[38;5;124mtext\u001b[39m\u001b[38;5;124m'\u001b[39m)\n\u001b[0;32m    242\u001b[0m     \u001b[38;5;28;01mraise\u001b[39;00m exception_class(message, screen, stacktrace, alert_text)  \u001b[38;5;66;03m# type: ignore[call-arg]  # mypy is not smart enough here\u001b[39;00m\n\u001b[1;32m--> 243\u001b[0m \u001b[38;5;28;01mraise\u001b[39;00m exception_class(message, screen, stacktrace)\n",
      "\u001b[1;31mNoSuchElementException\u001b[0m: Message: no such element: Unable to locate element: {\"method\":\"xpath\",\"selector\":\"/html/body/div/div/div/div[2]/div[1]/div[1]/div/div/div/div/span/input\"}\n  (Session info: chrome=107.0.5304.88)\nStacktrace:\nBacktrace:\n\tOrdinal0 [0x0050ACD3+2075859]\n\tOrdinal0 [0x0049EE61+1633889]\n\tOrdinal0 [0x0039B7BD+571325]\n\tOrdinal0 [0x003CAC2F+764975]\n\tOrdinal0 [0x003CAE1B+765467]\n\tOrdinal0 [0x003FD0F2+970994]\n\tOrdinal0 [0x003E7364+881508]\n\tOrdinal0 [0x003FB56A+963946]\n\tOrdinal0 [0x003E7136+880950]\n\tOrdinal0 [0x003BFEFD+720637]\n\tOrdinal0 [0x003C0F3F+724799]\n\tGetHandleVerifier [0x007BEED2+2769538]\n\tGetHandleVerifier [0x007B0D95+2711877]\n\tGetHandleVerifier [0x0059A03A+521194]\n\tGetHandleVerifier [0x00598DA0+516432]\n\tOrdinal0 [0x004A682C+1665068]\n\tOrdinal0 [0x004AB128+1683752]\n\tOrdinal0 [0x004AB215+1683989]\n\tOrdinal0 [0x004B6484+1729668]\n\tBaseThreadInitThunk [0x771BFA29+25]\n\tRtlGetAppContainerNamedObjectPath [0x77817BBE+286]\n\tRtlGetAppContainerNamedObjectPath [0x77817B8E+238]\n"
     ]
    }
   ],
   "source": [
    "search=ambi.find_element(By.XPATH,\"/html/body/div/div/div/div[2]/div[1]/div[1]/div/div/div/div/span/input\")\n",
    "search.send_keys(\"Data scientist\")\n",
    "time.sleep(2)"
   ]
  },
  {
   "cell_type": "code",
   "execution_count": 97,
   "id": "5b23bd98",
   "metadata": {},
   "outputs": [
    {
     "ename": "NoSuchElementException",
     "evalue": "Message: no such element: Unable to locate element: {\"method\":\"xpath\",\"selector\":\"/html/body/div/div/div/div[2]/div[1]/div[1]/div/div/div/button/span\"}\n  (Session info: chrome=107.0.5304.88)\nStacktrace:\nBacktrace:\n\tOrdinal0 [0x0050ACD3+2075859]\n\tOrdinal0 [0x0049EE61+1633889]\n\tOrdinal0 [0x0039B7BD+571325]\n\tOrdinal0 [0x003CAC2F+764975]\n\tOrdinal0 [0x003CAE1B+765467]\n\tOrdinal0 [0x003FD0F2+970994]\n\tOrdinal0 [0x003E7364+881508]\n\tOrdinal0 [0x003FB56A+963946]\n\tOrdinal0 [0x003E7136+880950]\n\tOrdinal0 [0x003BFEFD+720637]\n\tOrdinal0 [0x003C0F3F+724799]\n\tGetHandleVerifier [0x007BEED2+2769538]\n\tGetHandleVerifier [0x007B0D95+2711877]\n\tGetHandleVerifier [0x0059A03A+521194]\n\tGetHandleVerifier [0x00598DA0+516432]\n\tOrdinal0 [0x004A682C+1665068]\n\tOrdinal0 [0x004AB128+1683752]\n\tOrdinal0 [0x004AB215+1683989]\n\tOrdinal0 [0x004B6484+1729668]\n\tBaseThreadInitThunk [0x771BFA29+25]\n\tRtlGetAppContainerNamedObjectPath [0x77817BBE+286]\n\tRtlGetAppContainerNamedObjectPath [0x77817B8E+238]\n",
     "output_type": "error",
     "traceback": [
      "\u001b[1;31m---------------------------------------------------------------------------\u001b[0m",
      "\u001b[1;31mNoSuchElementException\u001b[0m                    Traceback (most recent call last)",
      "Input \u001b[1;32mIn [97]\u001b[0m, in \u001b[0;36m<cell line: 1>\u001b[1;34m()\u001b[0m\n\u001b[1;32m----> 1\u001b[0m search_button\u001b[38;5;241m=\u001b[39m \u001b[43mambi\u001b[49m\u001b[38;5;241;43m.\u001b[39;49m\u001b[43mfind_element\u001b[49m\u001b[43m(\u001b[49m\u001b[43mBy\u001b[49m\u001b[38;5;241;43m.\u001b[39;49m\u001b[43mXPATH\u001b[49m\u001b[43m,\u001b[49m\u001b[38;5;124;43m\"\u001b[39;49m\u001b[38;5;124;43m/html/body/div/div/div/div[2]/div[1]/div[1]/div/div/div/button/span\u001b[39;49m\u001b[38;5;124;43m\"\u001b[39;49m\u001b[43m)\u001b[49m\n\u001b[0;32m      2\u001b[0m search_button\u001b[38;5;241m.\u001b[39mclick()\n",
      "File \u001b[1;32mD:\\sahwaj\\lib\\site-packages\\selenium\\webdriver\\remote\\webdriver.py:856\u001b[0m, in \u001b[0;36mWebDriver.find_element\u001b[1;34m(self, by, value)\u001b[0m\n\u001b[0;32m    853\u001b[0m     by \u001b[38;5;241m=\u001b[39m By\u001b[38;5;241m.\u001b[39mCSS_SELECTOR\n\u001b[0;32m    854\u001b[0m     value \u001b[38;5;241m=\u001b[39m \u001b[38;5;124m'\u001b[39m\u001b[38;5;124m[name=\u001b[39m\u001b[38;5;124m\"\u001b[39m\u001b[38;5;132;01m%s\u001b[39;00m\u001b[38;5;124m\"\u001b[39m\u001b[38;5;124m]\u001b[39m\u001b[38;5;124m'\u001b[39m \u001b[38;5;241m%\u001b[39m value\n\u001b[1;32m--> 856\u001b[0m \u001b[38;5;28;01mreturn\u001b[39;00m \u001b[38;5;28;43mself\u001b[39;49m\u001b[38;5;241;43m.\u001b[39;49m\u001b[43mexecute\u001b[49m\u001b[43m(\u001b[49m\u001b[43mCommand\u001b[49m\u001b[38;5;241;43m.\u001b[39;49m\u001b[43mFIND_ELEMENT\u001b[49m\u001b[43m,\u001b[49m\u001b[43m \u001b[49m\u001b[43m{\u001b[49m\n\u001b[0;32m    857\u001b[0m \u001b[43m    \u001b[49m\u001b[38;5;124;43m'\u001b[39;49m\u001b[38;5;124;43musing\u001b[39;49m\u001b[38;5;124;43m'\u001b[39;49m\u001b[43m:\u001b[49m\u001b[43m \u001b[49m\u001b[43mby\u001b[49m\u001b[43m,\u001b[49m\n\u001b[0;32m    858\u001b[0m \u001b[43m    \u001b[49m\u001b[38;5;124;43m'\u001b[39;49m\u001b[38;5;124;43mvalue\u001b[39;49m\u001b[38;5;124;43m'\u001b[39;49m\u001b[43m:\u001b[49m\u001b[43m \u001b[49m\u001b[43mvalue\u001b[49m\u001b[43m}\u001b[49m\u001b[43m)\u001b[49m[\u001b[38;5;124m'\u001b[39m\u001b[38;5;124mvalue\u001b[39m\u001b[38;5;124m'\u001b[39m]\n",
      "File \u001b[1;32mD:\\sahwaj\\lib\\site-packages\\selenium\\webdriver\\remote\\webdriver.py:429\u001b[0m, in \u001b[0;36mWebDriver.execute\u001b[1;34m(self, driver_command, params)\u001b[0m\n\u001b[0;32m    427\u001b[0m response \u001b[38;5;241m=\u001b[39m \u001b[38;5;28mself\u001b[39m\u001b[38;5;241m.\u001b[39mcommand_executor\u001b[38;5;241m.\u001b[39mexecute(driver_command, params)\n\u001b[0;32m    428\u001b[0m \u001b[38;5;28;01mif\u001b[39;00m response:\n\u001b[1;32m--> 429\u001b[0m     \u001b[38;5;28;43mself\u001b[39;49m\u001b[38;5;241;43m.\u001b[39;49m\u001b[43merror_handler\u001b[49m\u001b[38;5;241;43m.\u001b[39;49m\u001b[43mcheck_response\u001b[49m\u001b[43m(\u001b[49m\u001b[43mresponse\u001b[49m\u001b[43m)\u001b[49m\n\u001b[0;32m    430\u001b[0m     response[\u001b[38;5;124m'\u001b[39m\u001b[38;5;124mvalue\u001b[39m\u001b[38;5;124m'\u001b[39m] \u001b[38;5;241m=\u001b[39m \u001b[38;5;28mself\u001b[39m\u001b[38;5;241m.\u001b[39m_unwrap_value(\n\u001b[0;32m    431\u001b[0m         response\u001b[38;5;241m.\u001b[39mget(\u001b[38;5;124m'\u001b[39m\u001b[38;5;124mvalue\u001b[39m\u001b[38;5;124m'\u001b[39m, \u001b[38;5;28;01mNone\u001b[39;00m))\n\u001b[0;32m    432\u001b[0m     \u001b[38;5;28;01mreturn\u001b[39;00m response\n",
      "File \u001b[1;32mD:\\sahwaj\\lib\\site-packages\\selenium\\webdriver\\remote\\errorhandler.py:243\u001b[0m, in \u001b[0;36mErrorHandler.check_response\u001b[1;34m(self, response)\u001b[0m\n\u001b[0;32m    241\u001b[0m         alert_text \u001b[38;5;241m=\u001b[39m value[\u001b[38;5;124m'\u001b[39m\u001b[38;5;124malert\u001b[39m\u001b[38;5;124m'\u001b[39m]\u001b[38;5;241m.\u001b[39mget(\u001b[38;5;124m'\u001b[39m\u001b[38;5;124mtext\u001b[39m\u001b[38;5;124m'\u001b[39m)\n\u001b[0;32m    242\u001b[0m     \u001b[38;5;28;01mraise\u001b[39;00m exception_class(message, screen, stacktrace, alert_text)  \u001b[38;5;66;03m# type: ignore[call-arg]  # mypy is not smart enough here\u001b[39;00m\n\u001b[1;32m--> 243\u001b[0m \u001b[38;5;28;01mraise\u001b[39;00m exception_class(message, screen, stacktrace)\n",
      "\u001b[1;31mNoSuchElementException\u001b[0m: Message: no such element: Unable to locate element: {\"method\":\"xpath\",\"selector\":\"/html/body/div/div/div/div[2]/div[1]/div[1]/div/div/div/button/span\"}\n  (Session info: chrome=107.0.5304.88)\nStacktrace:\nBacktrace:\n\tOrdinal0 [0x0050ACD3+2075859]\n\tOrdinal0 [0x0049EE61+1633889]\n\tOrdinal0 [0x0039B7BD+571325]\n\tOrdinal0 [0x003CAC2F+764975]\n\tOrdinal0 [0x003CAE1B+765467]\n\tOrdinal0 [0x003FD0F2+970994]\n\tOrdinal0 [0x003E7364+881508]\n\tOrdinal0 [0x003FB56A+963946]\n\tOrdinal0 [0x003E7136+880950]\n\tOrdinal0 [0x003BFEFD+720637]\n\tOrdinal0 [0x003C0F3F+724799]\n\tGetHandleVerifier [0x007BEED2+2769538]\n\tGetHandleVerifier [0x007B0D95+2711877]\n\tGetHandleVerifier [0x0059A03A+521194]\n\tGetHandleVerifier [0x00598DA0+516432]\n\tOrdinal0 [0x004A682C+1665068]\n\tOrdinal0 [0x004AB128+1683752]\n\tOrdinal0 [0x004AB215+1683989]\n\tOrdinal0 [0x004B6484+1729668]\n\tBaseThreadInitThunk [0x771BFA29+25]\n\tRtlGetAppContainerNamedObjectPath [0x77817BBE+286]\n\tRtlGetAppContainerNamedObjectPath [0x77817B8E+238]\n"
     ]
    }
   ],
   "source": [
    "search_button= ambi.find_element(By.XPATH,\"/html/body/div/div/div/div[2]/div[1]/div[1]/div/div/div/button/span\")\n",
    "search_button.click()"
   ]
  },
  {
   "cell_type": "code",
   "execution_count": 98,
   "id": "9edb3b7b",
   "metadata": {},
   "outputs": [
    {
     "ename": "NoSuchElementException",
     "evalue": "Message: no such element: Unable to locate element: {\"method\":\"xpath\",\"selector\":\"/html/body/div/div/div/div[2]/div[1]/div[2]/div[1]/div/div/div/div[2]/div[1]/i\"}\n  (Session info: chrome=107.0.5304.88)\nStacktrace:\nBacktrace:\n\tOrdinal0 [0x0050ACD3+2075859]\n\tOrdinal0 [0x0049EE61+1633889]\n\tOrdinal0 [0x0039B7BD+571325]\n\tOrdinal0 [0x003CAC2F+764975]\n\tOrdinal0 [0x003CAE1B+765467]\n\tOrdinal0 [0x003FD0F2+970994]\n\tOrdinal0 [0x003E7364+881508]\n\tOrdinal0 [0x003FB56A+963946]\n\tOrdinal0 [0x003E7136+880950]\n\tOrdinal0 [0x003BFEFD+720637]\n\tOrdinal0 [0x003C0F3F+724799]\n\tGetHandleVerifier [0x007BEED2+2769538]\n\tGetHandleVerifier [0x007B0D95+2711877]\n\tGetHandleVerifier [0x0059A03A+521194]\n\tGetHandleVerifier [0x00598DA0+516432]\n\tOrdinal0 [0x004A682C+1665068]\n\tOrdinal0 [0x004AB128+1683752]\n\tOrdinal0 [0x004AB215+1683989]\n\tOrdinal0 [0x004B6484+1729668]\n\tBaseThreadInitThunk [0x771BFA29+25]\n\tRtlGetAppContainerNamedObjectPath [0x77817BBE+286]\n\tRtlGetAppContainerNamedObjectPath [0x77817B8E+238]\n",
     "output_type": "error",
     "traceback": [
      "\u001b[1;31m---------------------------------------------------------------------------\u001b[0m",
      "\u001b[1;31mNoSuchElementException\u001b[0m                    Traceback (most recent call last)",
      "Input \u001b[1;32mIn [98]\u001b[0m, in \u001b[0;36m<cell line: 1>\u001b[1;34m()\u001b[0m\n\u001b[1;32m----> 1\u001b[0m location\u001b[38;5;241m=\u001b[39m\u001b[43mambi\u001b[49m\u001b[38;5;241;43m.\u001b[39;49m\u001b[43mfind_element\u001b[49m\u001b[43m(\u001b[49m\u001b[43mBy\u001b[49m\u001b[38;5;241;43m.\u001b[39;49m\u001b[43mXPATH\u001b[49m\u001b[43m,\u001b[49m\u001b[38;5;124;43m'\u001b[39;49m\u001b[38;5;124;43m/html/body/div/div/div/div[2]/div[1]/div[2]/div[1]/div/div/div/div[2]/div[1]/i\u001b[39;49m\u001b[38;5;124;43m'\u001b[39;49m\u001b[43m)\u001b[49m\n\u001b[0;32m      2\u001b[0m location\u001b[38;5;241m.\u001b[39mclick()\n",
      "File \u001b[1;32mD:\\sahwaj\\lib\\site-packages\\selenium\\webdriver\\remote\\webdriver.py:856\u001b[0m, in \u001b[0;36mWebDriver.find_element\u001b[1;34m(self, by, value)\u001b[0m\n\u001b[0;32m    853\u001b[0m     by \u001b[38;5;241m=\u001b[39m By\u001b[38;5;241m.\u001b[39mCSS_SELECTOR\n\u001b[0;32m    854\u001b[0m     value \u001b[38;5;241m=\u001b[39m \u001b[38;5;124m'\u001b[39m\u001b[38;5;124m[name=\u001b[39m\u001b[38;5;124m\"\u001b[39m\u001b[38;5;132;01m%s\u001b[39;00m\u001b[38;5;124m\"\u001b[39m\u001b[38;5;124m]\u001b[39m\u001b[38;5;124m'\u001b[39m \u001b[38;5;241m%\u001b[39m value\n\u001b[1;32m--> 856\u001b[0m \u001b[38;5;28;01mreturn\u001b[39;00m \u001b[38;5;28;43mself\u001b[39;49m\u001b[38;5;241;43m.\u001b[39;49m\u001b[43mexecute\u001b[49m\u001b[43m(\u001b[49m\u001b[43mCommand\u001b[49m\u001b[38;5;241;43m.\u001b[39;49m\u001b[43mFIND_ELEMENT\u001b[49m\u001b[43m,\u001b[49m\u001b[43m \u001b[49m\u001b[43m{\u001b[49m\n\u001b[0;32m    857\u001b[0m \u001b[43m    \u001b[49m\u001b[38;5;124;43m'\u001b[39;49m\u001b[38;5;124;43musing\u001b[39;49m\u001b[38;5;124;43m'\u001b[39;49m\u001b[43m:\u001b[49m\u001b[43m \u001b[49m\u001b[43mby\u001b[49m\u001b[43m,\u001b[49m\n\u001b[0;32m    858\u001b[0m \u001b[43m    \u001b[49m\u001b[38;5;124;43m'\u001b[39;49m\u001b[38;5;124;43mvalue\u001b[39;49m\u001b[38;5;124;43m'\u001b[39;49m\u001b[43m:\u001b[49m\u001b[43m \u001b[49m\u001b[43mvalue\u001b[49m\u001b[43m}\u001b[49m\u001b[43m)\u001b[49m[\u001b[38;5;124m'\u001b[39m\u001b[38;5;124mvalue\u001b[39m\u001b[38;5;124m'\u001b[39m]\n",
      "File \u001b[1;32mD:\\sahwaj\\lib\\site-packages\\selenium\\webdriver\\remote\\webdriver.py:429\u001b[0m, in \u001b[0;36mWebDriver.execute\u001b[1;34m(self, driver_command, params)\u001b[0m\n\u001b[0;32m    427\u001b[0m response \u001b[38;5;241m=\u001b[39m \u001b[38;5;28mself\u001b[39m\u001b[38;5;241m.\u001b[39mcommand_executor\u001b[38;5;241m.\u001b[39mexecute(driver_command, params)\n\u001b[0;32m    428\u001b[0m \u001b[38;5;28;01mif\u001b[39;00m response:\n\u001b[1;32m--> 429\u001b[0m     \u001b[38;5;28;43mself\u001b[39;49m\u001b[38;5;241;43m.\u001b[39;49m\u001b[43merror_handler\u001b[49m\u001b[38;5;241;43m.\u001b[39;49m\u001b[43mcheck_response\u001b[49m\u001b[43m(\u001b[49m\u001b[43mresponse\u001b[49m\u001b[43m)\u001b[49m\n\u001b[0;32m    430\u001b[0m     response[\u001b[38;5;124m'\u001b[39m\u001b[38;5;124mvalue\u001b[39m\u001b[38;5;124m'\u001b[39m] \u001b[38;5;241m=\u001b[39m \u001b[38;5;28mself\u001b[39m\u001b[38;5;241m.\u001b[39m_unwrap_value(\n\u001b[0;32m    431\u001b[0m         response\u001b[38;5;241m.\u001b[39mget(\u001b[38;5;124m'\u001b[39m\u001b[38;5;124mvalue\u001b[39m\u001b[38;5;124m'\u001b[39m, \u001b[38;5;28;01mNone\u001b[39;00m))\n\u001b[0;32m    432\u001b[0m     \u001b[38;5;28;01mreturn\u001b[39;00m response\n",
      "File \u001b[1;32mD:\\sahwaj\\lib\\site-packages\\selenium\\webdriver\\remote\\errorhandler.py:243\u001b[0m, in \u001b[0;36mErrorHandler.check_response\u001b[1;34m(self, response)\u001b[0m\n\u001b[0;32m    241\u001b[0m         alert_text \u001b[38;5;241m=\u001b[39m value[\u001b[38;5;124m'\u001b[39m\u001b[38;5;124malert\u001b[39m\u001b[38;5;124m'\u001b[39m]\u001b[38;5;241m.\u001b[39mget(\u001b[38;5;124m'\u001b[39m\u001b[38;5;124mtext\u001b[39m\u001b[38;5;124m'\u001b[39m)\n\u001b[0;32m    242\u001b[0m     \u001b[38;5;28;01mraise\u001b[39;00m exception_class(message, screen, stacktrace, alert_text)  \u001b[38;5;66;03m# type: ignore[call-arg]  # mypy is not smart enough here\u001b[39;00m\n\u001b[1;32m--> 243\u001b[0m \u001b[38;5;28;01mraise\u001b[39;00m exception_class(message, screen, stacktrace)\n",
      "\u001b[1;31mNoSuchElementException\u001b[0m: Message: no such element: Unable to locate element: {\"method\":\"xpath\",\"selector\":\"/html/body/div/div/div/div[2]/div[1]/div[2]/div[1]/div/div/div/div[2]/div[1]/i\"}\n  (Session info: chrome=107.0.5304.88)\nStacktrace:\nBacktrace:\n\tOrdinal0 [0x0050ACD3+2075859]\n\tOrdinal0 [0x0049EE61+1633889]\n\tOrdinal0 [0x0039B7BD+571325]\n\tOrdinal0 [0x003CAC2F+764975]\n\tOrdinal0 [0x003CAE1B+765467]\n\tOrdinal0 [0x003FD0F2+970994]\n\tOrdinal0 [0x003E7364+881508]\n\tOrdinal0 [0x003FB56A+963946]\n\tOrdinal0 [0x003E7136+880950]\n\tOrdinal0 [0x003BFEFD+720637]\n\tOrdinal0 [0x003C0F3F+724799]\n\tGetHandleVerifier [0x007BEED2+2769538]\n\tGetHandleVerifier [0x007B0D95+2711877]\n\tGetHandleVerifier [0x0059A03A+521194]\n\tGetHandleVerifier [0x00598DA0+516432]\n\tOrdinal0 [0x004A682C+1665068]\n\tOrdinal0 [0x004AB128+1683752]\n\tOrdinal0 [0x004AB215+1683989]\n\tOrdinal0 [0x004B6484+1729668]\n\tBaseThreadInitThunk [0x771BFA29+25]\n\tRtlGetAppContainerNamedObjectPath [0x77817BBE+286]\n\tRtlGetAppContainerNamedObjectPath [0x77817B8E+238]\n"
     ]
    }
   ],
   "source": [
    "location=ambi.find_element(By.XPATH,'/html/body/div/div/div/div[2]/div[1]/div[2]/div[1]/div/div/div/div[2]/div[1]/i')\n",
    "location.click()"
   ]
  },
  {
   "cell_type": "code",
   "execution_count": 99,
   "id": "cbea8978",
   "metadata": {},
   "outputs": [
    {
     "ename": "NoSuchElementException",
     "evalue": "Message: no such element: Unable to locate element: {\"method\":\"xpath\",\"selector\":\"/html/body/div/div/div/div[2]/div[1]/div[2]/div[1]/div/div/div/div[2]/div[2]/div/div[2]/input\"}\n  (Session info: chrome=107.0.5304.88)\nStacktrace:\nBacktrace:\n\tOrdinal0 [0x0050ACD3+2075859]\n\tOrdinal0 [0x0049EE61+1633889]\n\tOrdinal0 [0x0039B7BD+571325]\n\tOrdinal0 [0x003CAC2F+764975]\n\tOrdinal0 [0x003CAE1B+765467]\n\tOrdinal0 [0x003FD0F2+970994]\n\tOrdinal0 [0x003E7364+881508]\n\tOrdinal0 [0x003FB56A+963946]\n\tOrdinal0 [0x003E7136+880950]\n\tOrdinal0 [0x003BFEFD+720637]\n\tOrdinal0 [0x003C0F3F+724799]\n\tGetHandleVerifier [0x007BEED2+2769538]\n\tGetHandleVerifier [0x007B0D95+2711877]\n\tGetHandleVerifier [0x0059A03A+521194]\n\tGetHandleVerifier [0x00598DA0+516432]\n\tOrdinal0 [0x004A682C+1665068]\n\tOrdinal0 [0x004AB128+1683752]\n\tOrdinal0 [0x004AB215+1683989]\n\tOrdinal0 [0x004B6484+1729668]\n\tBaseThreadInitThunk [0x771BFA29+25]\n\tRtlGetAppContainerNamedObjectPath [0x77817BBE+286]\n\tRtlGetAppContainerNamedObjectPath [0x77817B8E+238]\n",
     "output_type": "error",
     "traceback": [
      "\u001b[1;31m---------------------------------------------------------------------------\u001b[0m",
      "\u001b[1;31mNoSuchElementException\u001b[0m                    Traceback (most recent call last)",
      "Input \u001b[1;32mIn [99]\u001b[0m, in \u001b[0;36m<cell line: 1>\u001b[1;34m()\u001b[0m\n\u001b[1;32m----> 1\u001b[0m search_loc\u001b[38;5;241m=\u001b[39m\u001b[43mambi\u001b[49m\u001b[38;5;241;43m.\u001b[39;49m\u001b[43mfind_element\u001b[49m\u001b[43m(\u001b[49m\u001b[43mBy\u001b[49m\u001b[38;5;241;43m.\u001b[39;49m\u001b[43mXPATH\u001b[49m\u001b[43m,\u001b[49m\u001b[38;5;124;43m\"\u001b[39;49m\u001b[38;5;124;43m/html/body/div/div/div/div[2]/div[1]/div[2]/div[1]/div/div/div/div[2]/div[2]/div/div[2]/input\u001b[39;49m\u001b[38;5;124;43m\"\u001b[39;49m\u001b[43m)\u001b[49m\n\u001b[0;32m      2\u001b[0m search_loc\u001b[38;5;241m.\u001b[39msend_keys(\u001b[38;5;124m\"\u001b[39m\u001b[38;5;124mNoida\u001b[39m\u001b[38;5;124m\"\u001b[39m)\n",
      "File \u001b[1;32mD:\\sahwaj\\lib\\site-packages\\selenium\\webdriver\\remote\\webdriver.py:856\u001b[0m, in \u001b[0;36mWebDriver.find_element\u001b[1;34m(self, by, value)\u001b[0m\n\u001b[0;32m    853\u001b[0m     by \u001b[38;5;241m=\u001b[39m By\u001b[38;5;241m.\u001b[39mCSS_SELECTOR\n\u001b[0;32m    854\u001b[0m     value \u001b[38;5;241m=\u001b[39m \u001b[38;5;124m'\u001b[39m\u001b[38;5;124m[name=\u001b[39m\u001b[38;5;124m\"\u001b[39m\u001b[38;5;132;01m%s\u001b[39;00m\u001b[38;5;124m\"\u001b[39m\u001b[38;5;124m]\u001b[39m\u001b[38;5;124m'\u001b[39m \u001b[38;5;241m%\u001b[39m value\n\u001b[1;32m--> 856\u001b[0m \u001b[38;5;28;01mreturn\u001b[39;00m \u001b[38;5;28;43mself\u001b[39;49m\u001b[38;5;241;43m.\u001b[39;49m\u001b[43mexecute\u001b[49m\u001b[43m(\u001b[49m\u001b[43mCommand\u001b[49m\u001b[38;5;241;43m.\u001b[39;49m\u001b[43mFIND_ELEMENT\u001b[49m\u001b[43m,\u001b[49m\u001b[43m \u001b[49m\u001b[43m{\u001b[49m\n\u001b[0;32m    857\u001b[0m \u001b[43m    \u001b[49m\u001b[38;5;124;43m'\u001b[39;49m\u001b[38;5;124;43musing\u001b[39;49m\u001b[38;5;124;43m'\u001b[39;49m\u001b[43m:\u001b[49m\u001b[43m \u001b[49m\u001b[43mby\u001b[49m\u001b[43m,\u001b[49m\n\u001b[0;32m    858\u001b[0m \u001b[43m    \u001b[49m\u001b[38;5;124;43m'\u001b[39;49m\u001b[38;5;124;43mvalue\u001b[39;49m\u001b[38;5;124;43m'\u001b[39;49m\u001b[43m:\u001b[49m\u001b[43m \u001b[49m\u001b[43mvalue\u001b[49m\u001b[43m}\u001b[49m\u001b[43m)\u001b[49m[\u001b[38;5;124m'\u001b[39m\u001b[38;5;124mvalue\u001b[39m\u001b[38;5;124m'\u001b[39m]\n",
      "File \u001b[1;32mD:\\sahwaj\\lib\\site-packages\\selenium\\webdriver\\remote\\webdriver.py:429\u001b[0m, in \u001b[0;36mWebDriver.execute\u001b[1;34m(self, driver_command, params)\u001b[0m\n\u001b[0;32m    427\u001b[0m response \u001b[38;5;241m=\u001b[39m \u001b[38;5;28mself\u001b[39m\u001b[38;5;241m.\u001b[39mcommand_executor\u001b[38;5;241m.\u001b[39mexecute(driver_command, params)\n\u001b[0;32m    428\u001b[0m \u001b[38;5;28;01mif\u001b[39;00m response:\n\u001b[1;32m--> 429\u001b[0m     \u001b[38;5;28;43mself\u001b[39;49m\u001b[38;5;241;43m.\u001b[39;49m\u001b[43merror_handler\u001b[49m\u001b[38;5;241;43m.\u001b[39;49m\u001b[43mcheck_response\u001b[49m\u001b[43m(\u001b[49m\u001b[43mresponse\u001b[49m\u001b[43m)\u001b[49m\n\u001b[0;32m    430\u001b[0m     response[\u001b[38;5;124m'\u001b[39m\u001b[38;5;124mvalue\u001b[39m\u001b[38;5;124m'\u001b[39m] \u001b[38;5;241m=\u001b[39m \u001b[38;5;28mself\u001b[39m\u001b[38;5;241m.\u001b[39m_unwrap_value(\n\u001b[0;32m    431\u001b[0m         response\u001b[38;5;241m.\u001b[39mget(\u001b[38;5;124m'\u001b[39m\u001b[38;5;124mvalue\u001b[39m\u001b[38;5;124m'\u001b[39m, \u001b[38;5;28;01mNone\u001b[39;00m))\n\u001b[0;32m    432\u001b[0m     \u001b[38;5;28;01mreturn\u001b[39;00m response\n",
      "File \u001b[1;32mD:\\sahwaj\\lib\\site-packages\\selenium\\webdriver\\remote\\errorhandler.py:243\u001b[0m, in \u001b[0;36mErrorHandler.check_response\u001b[1;34m(self, response)\u001b[0m\n\u001b[0;32m    241\u001b[0m         alert_text \u001b[38;5;241m=\u001b[39m value[\u001b[38;5;124m'\u001b[39m\u001b[38;5;124malert\u001b[39m\u001b[38;5;124m'\u001b[39m]\u001b[38;5;241m.\u001b[39mget(\u001b[38;5;124m'\u001b[39m\u001b[38;5;124mtext\u001b[39m\u001b[38;5;124m'\u001b[39m)\n\u001b[0;32m    242\u001b[0m     \u001b[38;5;28;01mraise\u001b[39;00m exception_class(message, screen, stacktrace, alert_text)  \u001b[38;5;66;03m# type: ignore[call-arg]  # mypy is not smart enough here\u001b[39;00m\n\u001b[1;32m--> 243\u001b[0m \u001b[38;5;28;01mraise\u001b[39;00m exception_class(message, screen, stacktrace)\n",
      "\u001b[1;31mNoSuchElementException\u001b[0m: Message: no such element: Unable to locate element: {\"method\":\"xpath\",\"selector\":\"/html/body/div/div/div/div[2]/div[1]/div[2]/div[1]/div/div/div/div[2]/div[2]/div/div[2]/input\"}\n  (Session info: chrome=107.0.5304.88)\nStacktrace:\nBacktrace:\n\tOrdinal0 [0x0050ACD3+2075859]\n\tOrdinal0 [0x0049EE61+1633889]\n\tOrdinal0 [0x0039B7BD+571325]\n\tOrdinal0 [0x003CAC2F+764975]\n\tOrdinal0 [0x003CAE1B+765467]\n\tOrdinal0 [0x003FD0F2+970994]\n\tOrdinal0 [0x003E7364+881508]\n\tOrdinal0 [0x003FB56A+963946]\n\tOrdinal0 [0x003E7136+880950]\n\tOrdinal0 [0x003BFEFD+720637]\n\tOrdinal0 [0x003C0F3F+724799]\n\tGetHandleVerifier [0x007BEED2+2769538]\n\tGetHandleVerifier [0x007B0D95+2711877]\n\tGetHandleVerifier [0x0059A03A+521194]\n\tGetHandleVerifier [0x00598DA0+516432]\n\tOrdinal0 [0x004A682C+1665068]\n\tOrdinal0 [0x004AB128+1683752]\n\tOrdinal0 [0x004AB215+1683989]\n\tOrdinal0 [0x004B6484+1729668]\n\tBaseThreadInitThunk [0x771BFA29+25]\n\tRtlGetAppContainerNamedObjectPath [0x77817BBE+286]\n\tRtlGetAppContainerNamedObjectPath [0x77817B8E+238]\n"
     ]
    }
   ],
   "source": [
    "search_loc=ambi.find_element(By.XPATH,\"/html/body/div/div/div/div[2]/div[1]/div[2]/div[1]/div/div/div/div[2]/div[2]/div/div[2]/input\")\n",
    "search_loc.send_keys(\"Noida\")"
   ]
  },
  {
   "cell_type": "code",
   "execution_count": 100,
   "id": "066904fa",
   "metadata": {},
   "outputs": [
    {
     "ename": "NoSuchElementException",
     "evalue": "Message: no such element: Unable to locate element: {\"method\":\"xpath\",\"selector\":\"/html/body/div/div/div/div[2]/div[1]/div[2]/div[1]/div/div/div/div[2]/div[2]/div/div[3]/div[1]/div[1]/div/label\"}\n  (Session info: chrome=107.0.5304.88)\nStacktrace:\nBacktrace:\n\tOrdinal0 [0x0050ACD3+2075859]\n\tOrdinal0 [0x0049EE61+1633889]\n\tOrdinal0 [0x0039B7BD+571325]\n\tOrdinal0 [0x003CAC2F+764975]\n\tOrdinal0 [0x003CAE1B+765467]\n\tOrdinal0 [0x003FD0F2+970994]\n\tOrdinal0 [0x003E7364+881508]\n\tOrdinal0 [0x003FB56A+963946]\n\tOrdinal0 [0x003E7136+880950]\n\tOrdinal0 [0x003BFEFD+720637]\n\tOrdinal0 [0x003C0F3F+724799]\n\tGetHandleVerifier [0x007BEED2+2769538]\n\tGetHandleVerifier [0x007B0D95+2711877]\n\tGetHandleVerifier [0x0059A03A+521194]\n\tGetHandleVerifier [0x00598DA0+516432]\n\tOrdinal0 [0x004A682C+1665068]\n\tOrdinal0 [0x004AB128+1683752]\n\tOrdinal0 [0x004AB215+1683989]\n\tOrdinal0 [0x004B6484+1729668]\n\tBaseThreadInitThunk [0x771BFA29+25]\n\tRtlGetAppContainerNamedObjectPath [0x77817BBE+286]\n\tRtlGetAppContainerNamedObjectPath [0x77817B8E+238]\n",
     "output_type": "error",
     "traceback": [
      "\u001b[1;31m---------------------------------------------------------------------------\u001b[0m",
      "\u001b[1;31mNoSuchElementException\u001b[0m                    Traceback (most recent call last)",
      "Input \u001b[1;32mIn [100]\u001b[0m, in \u001b[0;36m<cell line: 1>\u001b[1;34m()\u001b[0m\n\u001b[1;32m----> 1\u001b[0m location_click\u001b[38;5;241m=\u001b[39m\u001b[43mambi\u001b[49m\u001b[38;5;241;43m.\u001b[39;49m\u001b[43mfind_element\u001b[49m\u001b[43m(\u001b[49m\u001b[43mBy\u001b[49m\u001b[38;5;241;43m.\u001b[39;49m\u001b[43mXPATH\u001b[49m\u001b[43m,\u001b[49m\u001b[38;5;124;43m'\u001b[39;49m\u001b[38;5;124;43m/html/body/div/div/div/div[2]/div[1]/div[2]/div[1]/div/div/div/div[2]/div[2]/div/div[3]/div[1]/div[1]/div/label\u001b[39;49m\u001b[38;5;124;43m'\u001b[39;49m\u001b[43m)\u001b[49m\n\u001b[0;32m      2\u001b[0m location_click\u001b[38;5;241m.\u001b[39mclick()\n",
      "File \u001b[1;32mD:\\sahwaj\\lib\\site-packages\\selenium\\webdriver\\remote\\webdriver.py:856\u001b[0m, in \u001b[0;36mWebDriver.find_element\u001b[1;34m(self, by, value)\u001b[0m\n\u001b[0;32m    853\u001b[0m     by \u001b[38;5;241m=\u001b[39m By\u001b[38;5;241m.\u001b[39mCSS_SELECTOR\n\u001b[0;32m    854\u001b[0m     value \u001b[38;5;241m=\u001b[39m \u001b[38;5;124m'\u001b[39m\u001b[38;5;124m[name=\u001b[39m\u001b[38;5;124m\"\u001b[39m\u001b[38;5;132;01m%s\u001b[39;00m\u001b[38;5;124m\"\u001b[39m\u001b[38;5;124m]\u001b[39m\u001b[38;5;124m'\u001b[39m \u001b[38;5;241m%\u001b[39m value\n\u001b[1;32m--> 856\u001b[0m \u001b[38;5;28;01mreturn\u001b[39;00m \u001b[38;5;28;43mself\u001b[39;49m\u001b[38;5;241;43m.\u001b[39;49m\u001b[43mexecute\u001b[49m\u001b[43m(\u001b[49m\u001b[43mCommand\u001b[49m\u001b[38;5;241;43m.\u001b[39;49m\u001b[43mFIND_ELEMENT\u001b[49m\u001b[43m,\u001b[49m\u001b[43m \u001b[49m\u001b[43m{\u001b[49m\n\u001b[0;32m    857\u001b[0m \u001b[43m    \u001b[49m\u001b[38;5;124;43m'\u001b[39;49m\u001b[38;5;124;43musing\u001b[39;49m\u001b[38;5;124;43m'\u001b[39;49m\u001b[43m:\u001b[49m\u001b[43m \u001b[49m\u001b[43mby\u001b[49m\u001b[43m,\u001b[49m\n\u001b[0;32m    858\u001b[0m \u001b[43m    \u001b[49m\u001b[38;5;124;43m'\u001b[39;49m\u001b[38;5;124;43mvalue\u001b[39;49m\u001b[38;5;124;43m'\u001b[39;49m\u001b[43m:\u001b[49m\u001b[43m \u001b[49m\u001b[43mvalue\u001b[49m\u001b[43m}\u001b[49m\u001b[43m)\u001b[49m[\u001b[38;5;124m'\u001b[39m\u001b[38;5;124mvalue\u001b[39m\u001b[38;5;124m'\u001b[39m]\n",
      "File \u001b[1;32mD:\\sahwaj\\lib\\site-packages\\selenium\\webdriver\\remote\\webdriver.py:429\u001b[0m, in \u001b[0;36mWebDriver.execute\u001b[1;34m(self, driver_command, params)\u001b[0m\n\u001b[0;32m    427\u001b[0m response \u001b[38;5;241m=\u001b[39m \u001b[38;5;28mself\u001b[39m\u001b[38;5;241m.\u001b[39mcommand_executor\u001b[38;5;241m.\u001b[39mexecute(driver_command, params)\n\u001b[0;32m    428\u001b[0m \u001b[38;5;28;01mif\u001b[39;00m response:\n\u001b[1;32m--> 429\u001b[0m     \u001b[38;5;28;43mself\u001b[39;49m\u001b[38;5;241;43m.\u001b[39;49m\u001b[43merror_handler\u001b[49m\u001b[38;5;241;43m.\u001b[39;49m\u001b[43mcheck_response\u001b[49m\u001b[43m(\u001b[49m\u001b[43mresponse\u001b[49m\u001b[43m)\u001b[49m\n\u001b[0;32m    430\u001b[0m     response[\u001b[38;5;124m'\u001b[39m\u001b[38;5;124mvalue\u001b[39m\u001b[38;5;124m'\u001b[39m] \u001b[38;5;241m=\u001b[39m \u001b[38;5;28mself\u001b[39m\u001b[38;5;241m.\u001b[39m_unwrap_value(\n\u001b[0;32m    431\u001b[0m         response\u001b[38;5;241m.\u001b[39mget(\u001b[38;5;124m'\u001b[39m\u001b[38;5;124mvalue\u001b[39m\u001b[38;5;124m'\u001b[39m, \u001b[38;5;28;01mNone\u001b[39;00m))\n\u001b[0;32m    432\u001b[0m     \u001b[38;5;28;01mreturn\u001b[39;00m response\n",
      "File \u001b[1;32mD:\\sahwaj\\lib\\site-packages\\selenium\\webdriver\\remote\\errorhandler.py:243\u001b[0m, in \u001b[0;36mErrorHandler.check_response\u001b[1;34m(self, response)\u001b[0m\n\u001b[0;32m    241\u001b[0m         alert_text \u001b[38;5;241m=\u001b[39m value[\u001b[38;5;124m'\u001b[39m\u001b[38;5;124malert\u001b[39m\u001b[38;5;124m'\u001b[39m]\u001b[38;5;241m.\u001b[39mget(\u001b[38;5;124m'\u001b[39m\u001b[38;5;124mtext\u001b[39m\u001b[38;5;124m'\u001b[39m)\n\u001b[0;32m    242\u001b[0m     \u001b[38;5;28;01mraise\u001b[39;00m exception_class(message, screen, stacktrace, alert_text)  \u001b[38;5;66;03m# type: ignore[call-arg]  # mypy is not smart enough here\u001b[39;00m\n\u001b[1;32m--> 243\u001b[0m \u001b[38;5;28;01mraise\u001b[39;00m exception_class(message, screen, stacktrace)\n",
      "\u001b[1;31mNoSuchElementException\u001b[0m: Message: no such element: Unable to locate element: {\"method\":\"xpath\",\"selector\":\"/html/body/div/div/div/div[2]/div[1]/div[2]/div[1]/div/div/div/div[2]/div[2]/div/div[3]/div[1]/div[1]/div/label\"}\n  (Session info: chrome=107.0.5304.88)\nStacktrace:\nBacktrace:\n\tOrdinal0 [0x0050ACD3+2075859]\n\tOrdinal0 [0x0049EE61+1633889]\n\tOrdinal0 [0x0039B7BD+571325]\n\tOrdinal0 [0x003CAC2F+764975]\n\tOrdinal0 [0x003CAE1B+765467]\n\tOrdinal0 [0x003FD0F2+970994]\n\tOrdinal0 [0x003E7364+881508]\n\tOrdinal0 [0x003FB56A+963946]\n\tOrdinal0 [0x003E7136+880950]\n\tOrdinal0 [0x003BFEFD+720637]\n\tOrdinal0 [0x003C0F3F+724799]\n\tGetHandleVerifier [0x007BEED2+2769538]\n\tGetHandleVerifier [0x007B0D95+2711877]\n\tGetHandleVerifier [0x0059A03A+521194]\n\tGetHandleVerifier [0x00598DA0+516432]\n\tOrdinal0 [0x004A682C+1665068]\n\tOrdinal0 [0x004AB128+1683752]\n\tOrdinal0 [0x004AB215+1683989]\n\tOrdinal0 [0x004B6484+1729668]\n\tBaseThreadInitThunk [0x771BFA29+25]\n\tRtlGetAppContainerNamedObjectPath [0x77817BBE+286]\n\tRtlGetAppContainerNamedObjectPath [0x77817B8E+238]\n"
     ]
    }
   ],
   "source": [
    "location_click=ambi.find_element(By.XPATH,'/html/body/div/div/div/div[2]/div[1]/div[2]/div[1]/div/div/div/div[2]/div[2]/div/div[3]/div[1]/div[1]/div/label')\n",
    "location_click.click()"
   ]
  },
  {
   "cell_type": "code",
   "execution_count": 101,
   "id": "351a51b0",
   "metadata": {},
   "outputs": [],
   "source": [
    "firm_name = []\n",
    "rating = []\n",
    "No_days_job_posted = []"
   ]
  },
  {
   "cell_type": "code",
   "execution_count": 105,
   "id": "599b7d5e",
   "metadata": {},
   "outputs": [],
   "source": [
    "firm = ambi.find_elements(By.XPATH,'//p[@class=\"company body-medium\"]')\n",
    "for i in firm[0:10] : \n",
    "        firm_name.append(i.text)\n",
    "    \n",
    "ratings = ambi.find_elements(By.XPATH,\"//span[@class='body-small']\")\n",
    "for i in ratings [0:10]:\n",
    "        rating.append(i.text)\n",
    "\n",
    "posted = ambi.find_elements(By.XPATH,\"//span[@class='body-small-l']\")\n",
    "for i in posted[0:10] :\n",
    "        No_days_job_posted.append(i.text)  \n",
    "    "
   ]
  },
  {
   "cell_type": "code",
   "execution_count": 111,
   "id": "be1cf161",
   "metadata": {},
   "outputs": [
    {
     "name": "stdout",
     "output_type": "stream",
     "text": [
      "0 0 0\n"
     ]
    }
   ],
   "source": [
    "print(len(firm_name),len(rating),len(No_days_job_posted))"
   ]
  },
  {
   "cell_type": "code",
   "execution_count": 112,
   "id": "62de347f",
   "metadata": {},
   "outputs": [
    {
     "data": {
      "text/html": [
       "<div>\n",
       "<style scoped>\n",
       "    .dataframe tbody tr th:only-of-type {\n",
       "        vertical-align: middle;\n",
       "    }\n",
       "\n",
       "    .dataframe tbody tr th {\n",
       "        vertical-align: top;\n",
       "    }\n",
       "\n",
       "    .dataframe thead th {\n",
       "        text-align: right;\n",
       "    }\n",
       "</style>\n",
       "<table border=\"1\" class=\"dataframe\">\n",
       "  <thead>\n",
       "    <tr style=\"text-align: right;\">\n",
       "      <th></th>\n",
       "      <th>Company_name</th>\n",
       "      <th>Company_rating</th>\n",
       "      <th>Days_of_job_posted</th>\n",
       "    </tr>\n",
       "  </thead>\n",
       "  <tbody>\n",
       "  </tbody>\n",
       "</table>\n",
       "</div>"
      ],
      "text/plain": [
       "Empty DataFrame\n",
       "Columns: [Company_name, Company_rating, Days_of_job_posted]\n",
       "Index: []"
      ]
     },
     "execution_count": 112,
     "metadata": {},
     "output_type": "execute_result"
    }
   ],
   "source": [
    "data_ambi = pd.DataFrame({'Company_name':firm_name,'Company_rating':rating,'Days_of_job_posted':No_days_job_posted})\n",
    "\n",
    "data_ambi"
   ]
  },
  {
   "cell_type": "markdown",
   "id": "9ae3ea34",
   "metadata": {},
   "source": [
    "# Write a python program to scrape the salary data for Data Scientist designation.\n",
    "You have to scrape Company name, Number of salaries, Average salary, Minsalary, Max Salary. "
   ]
  },
  {
   "cell_type": "code",
   "execution_count": 113,
   "id": "555a93d3",
   "metadata": {},
   "outputs": [],
   "source": [
    "ambi_sal=webdriver.Chrome(r\"C:\\Users\\Sahwaj\\Downloads\\chromedriver_win32\\chromedriver.exe\")"
   ]
  },
  {
   "cell_type": "code",
   "execution_count": 114,
   "id": "12c63eaf",
   "metadata": {},
   "outputs": [],
   "source": [
    "ambi_sal.get(\"https://www.ambitionbox.com/\")\n"
   ]
  },
  {
   "cell_type": "code",
   "execution_count": 115,
   "id": "42a5fa3d",
   "metadata": {},
   "outputs": [
    {
     "ename": "NoSuchElementException",
     "evalue": "Message: no such element: Unable to locate element: {\"method\":\"xpath\",\"selector\":\"/html/body/div[1]/nav[2]/div/ul/li[3]/i\"}\n  (Session info: chrome=107.0.5304.88)\nStacktrace:\nBacktrace:\n\tOrdinal0 [0x0050ACD3+2075859]\n\tOrdinal0 [0x0049EE61+1633889]\n\tOrdinal0 [0x0039B7BD+571325]\n\tOrdinal0 [0x003CAC2F+764975]\n\tOrdinal0 [0x003CAE1B+765467]\n\tOrdinal0 [0x003FD0F2+970994]\n\tOrdinal0 [0x003E7364+881508]\n\tOrdinal0 [0x003FB56A+963946]\n\tOrdinal0 [0x003E7136+880950]\n\tOrdinal0 [0x003BFEFD+720637]\n\tOrdinal0 [0x003C0F3F+724799]\n\tGetHandleVerifier [0x007BEED2+2769538]\n\tGetHandleVerifier [0x007B0D95+2711877]\n\tGetHandleVerifier [0x0059A03A+521194]\n\tGetHandleVerifier [0x00598DA0+516432]\n\tOrdinal0 [0x004A682C+1665068]\n\tOrdinal0 [0x004AB128+1683752]\n\tOrdinal0 [0x004AB215+1683989]\n\tOrdinal0 [0x004B6484+1729668]\n\tBaseThreadInitThunk [0x771BFA29+25]\n\tRtlGetAppContainerNamedObjectPath [0x77817BBE+286]\n\tRtlGetAppContainerNamedObjectPath [0x77817B8E+238]\n",
     "output_type": "error",
     "traceback": [
      "\u001b[1;31m---------------------------------------------------------------------------\u001b[0m",
      "\u001b[1;31mNoSuchElementException\u001b[0m                    Traceback (most recent call last)",
      "Input \u001b[1;32mIn [115]\u001b[0m, in \u001b[0;36m<cell line: 1>\u001b[1;34m()\u001b[0m\n\u001b[1;32m----> 1\u001b[0m click_salary \u001b[38;5;241m=\u001b[39m \u001b[43mambi_sal\u001b[49m\u001b[38;5;241;43m.\u001b[39;49m\u001b[43mfind_element\u001b[49m\u001b[43m(\u001b[49m\u001b[43mBy\u001b[49m\u001b[38;5;241;43m.\u001b[39;49m\u001b[43mXPATH\u001b[49m\u001b[43m,\u001b[49m\u001b[38;5;124;43m\"\u001b[39;49m\u001b[38;5;124;43m/html/body/div[1]/nav[2]/div/ul/li[3]/i\u001b[39;49m\u001b[38;5;124;43m\"\u001b[39;49m\u001b[43m)\u001b[49m\n\u001b[0;32m      2\u001b[0m click_salary\u001b[38;5;241m.\u001b[39mclick()\n\u001b[0;32m      3\u001b[0m time\u001b[38;5;241m.\u001b[39msleep(\u001b[38;5;241m2\u001b[39m)\n",
      "File \u001b[1;32mD:\\sahwaj\\lib\\site-packages\\selenium\\webdriver\\remote\\webdriver.py:856\u001b[0m, in \u001b[0;36mWebDriver.find_element\u001b[1;34m(self, by, value)\u001b[0m\n\u001b[0;32m    853\u001b[0m     by \u001b[38;5;241m=\u001b[39m By\u001b[38;5;241m.\u001b[39mCSS_SELECTOR\n\u001b[0;32m    854\u001b[0m     value \u001b[38;5;241m=\u001b[39m \u001b[38;5;124m'\u001b[39m\u001b[38;5;124m[name=\u001b[39m\u001b[38;5;124m\"\u001b[39m\u001b[38;5;132;01m%s\u001b[39;00m\u001b[38;5;124m\"\u001b[39m\u001b[38;5;124m]\u001b[39m\u001b[38;5;124m'\u001b[39m \u001b[38;5;241m%\u001b[39m value\n\u001b[1;32m--> 856\u001b[0m \u001b[38;5;28;01mreturn\u001b[39;00m \u001b[38;5;28;43mself\u001b[39;49m\u001b[38;5;241;43m.\u001b[39;49m\u001b[43mexecute\u001b[49m\u001b[43m(\u001b[49m\u001b[43mCommand\u001b[49m\u001b[38;5;241;43m.\u001b[39;49m\u001b[43mFIND_ELEMENT\u001b[49m\u001b[43m,\u001b[49m\u001b[43m \u001b[49m\u001b[43m{\u001b[49m\n\u001b[0;32m    857\u001b[0m \u001b[43m    \u001b[49m\u001b[38;5;124;43m'\u001b[39;49m\u001b[38;5;124;43musing\u001b[39;49m\u001b[38;5;124;43m'\u001b[39;49m\u001b[43m:\u001b[49m\u001b[43m \u001b[49m\u001b[43mby\u001b[49m\u001b[43m,\u001b[49m\n\u001b[0;32m    858\u001b[0m \u001b[43m    \u001b[49m\u001b[38;5;124;43m'\u001b[39;49m\u001b[38;5;124;43mvalue\u001b[39;49m\u001b[38;5;124;43m'\u001b[39;49m\u001b[43m:\u001b[49m\u001b[43m \u001b[49m\u001b[43mvalue\u001b[49m\u001b[43m}\u001b[49m\u001b[43m)\u001b[49m[\u001b[38;5;124m'\u001b[39m\u001b[38;5;124mvalue\u001b[39m\u001b[38;5;124m'\u001b[39m]\n",
      "File \u001b[1;32mD:\\sahwaj\\lib\\site-packages\\selenium\\webdriver\\remote\\webdriver.py:429\u001b[0m, in \u001b[0;36mWebDriver.execute\u001b[1;34m(self, driver_command, params)\u001b[0m\n\u001b[0;32m    427\u001b[0m response \u001b[38;5;241m=\u001b[39m \u001b[38;5;28mself\u001b[39m\u001b[38;5;241m.\u001b[39mcommand_executor\u001b[38;5;241m.\u001b[39mexecute(driver_command, params)\n\u001b[0;32m    428\u001b[0m \u001b[38;5;28;01mif\u001b[39;00m response:\n\u001b[1;32m--> 429\u001b[0m     \u001b[38;5;28;43mself\u001b[39;49m\u001b[38;5;241;43m.\u001b[39;49m\u001b[43merror_handler\u001b[49m\u001b[38;5;241;43m.\u001b[39;49m\u001b[43mcheck_response\u001b[49m\u001b[43m(\u001b[49m\u001b[43mresponse\u001b[49m\u001b[43m)\u001b[49m\n\u001b[0;32m    430\u001b[0m     response[\u001b[38;5;124m'\u001b[39m\u001b[38;5;124mvalue\u001b[39m\u001b[38;5;124m'\u001b[39m] \u001b[38;5;241m=\u001b[39m \u001b[38;5;28mself\u001b[39m\u001b[38;5;241m.\u001b[39m_unwrap_value(\n\u001b[0;32m    431\u001b[0m         response\u001b[38;5;241m.\u001b[39mget(\u001b[38;5;124m'\u001b[39m\u001b[38;5;124mvalue\u001b[39m\u001b[38;5;124m'\u001b[39m, \u001b[38;5;28;01mNone\u001b[39;00m))\n\u001b[0;32m    432\u001b[0m     \u001b[38;5;28;01mreturn\u001b[39;00m response\n",
      "File \u001b[1;32mD:\\sahwaj\\lib\\site-packages\\selenium\\webdriver\\remote\\errorhandler.py:243\u001b[0m, in \u001b[0;36mErrorHandler.check_response\u001b[1;34m(self, response)\u001b[0m\n\u001b[0;32m    241\u001b[0m         alert_text \u001b[38;5;241m=\u001b[39m value[\u001b[38;5;124m'\u001b[39m\u001b[38;5;124malert\u001b[39m\u001b[38;5;124m'\u001b[39m]\u001b[38;5;241m.\u001b[39mget(\u001b[38;5;124m'\u001b[39m\u001b[38;5;124mtext\u001b[39m\u001b[38;5;124m'\u001b[39m)\n\u001b[0;32m    242\u001b[0m     \u001b[38;5;28;01mraise\u001b[39;00m exception_class(message, screen, stacktrace, alert_text)  \u001b[38;5;66;03m# type: ignore[call-arg]  # mypy is not smart enough here\u001b[39;00m\n\u001b[1;32m--> 243\u001b[0m \u001b[38;5;28;01mraise\u001b[39;00m exception_class(message, screen, stacktrace)\n",
      "\u001b[1;31mNoSuchElementException\u001b[0m: Message: no such element: Unable to locate element: {\"method\":\"xpath\",\"selector\":\"/html/body/div[1]/nav[2]/div/ul/li[3]/i\"}\n  (Session info: chrome=107.0.5304.88)\nStacktrace:\nBacktrace:\n\tOrdinal0 [0x0050ACD3+2075859]\n\tOrdinal0 [0x0049EE61+1633889]\n\tOrdinal0 [0x0039B7BD+571325]\n\tOrdinal0 [0x003CAC2F+764975]\n\tOrdinal0 [0x003CAE1B+765467]\n\tOrdinal0 [0x003FD0F2+970994]\n\tOrdinal0 [0x003E7364+881508]\n\tOrdinal0 [0x003FB56A+963946]\n\tOrdinal0 [0x003E7136+880950]\n\tOrdinal0 [0x003BFEFD+720637]\n\tOrdinal0 [0x003C0F3F+724799]\n\tGetHandleVerifier [0x007BEED2+2769538]\n\tGetHandleVerifier [0x007B0D95+2711877]\n\tGetHandleVerifier [0x0059A03A+521194]\n\tGetHandleVerifier [0x00598DA0+516432]\n\tOrdinal0 [0x004A682C+1665068]\n\tOrdinal0 [0x004AB128+1683752]\n\tOrdinal0 [0x004AB215+1683989]\n\tOrdinal0 [0x004B6484+1729668]\n\tBaseThreadInitThunk [0x771BFA29+25]\n\tRtlGetAppContainerNamedObjectPath [0x77817BBE+286]\n\tRtlGetAppContainerNamedObjectPath [0x77817B8E+238]\n"
     ]
    }
   ],
   "source": [
    "click_salary = ambi_sal.find_element(By.XPATH,\"/html/body/div[1]/nav[2]/div/ul/li[3]/i\")\n",
    "click_salary.click()\n",
    "time.sleep(2)"
   ]
  },
  {
   "cell_type": "code",
   "execution_count": null,
   "id": "581d6ce9",
   "metadata": {},
   "outputs": [],
   "source": [
    "browse_sal=ambi_sal.find_element(By.XPATH,'/html/body/div[1]/nav[2]/div/ul/li[3]/div/ul/li[1]/div/div[2]/a')\n",
    "browse_sal.click()"
   ]
  },
  {
   "cell_type": "code",
   "execution_count": null,
   "id": "fdbaa3a8",
   "metadata": {},
   "outputs": [],
   "source": [
    "search_sal = ambi_sal.find_element(By.XPATH,\"//input[@class='tt-input']\")\n",
    "search_sal.send_keys(\"Data Scientist\")\n"
   ]
  },
  {
   "cell_type": "code",
   "execution_count": 116,
   "id": "0bacc31a",
   "metadata": {},
   "outputs": [
    {
     "ename": "NoSuchElementException",
     "evalue": "Message: no such element: Unable to locate element: {\"method\":\"xpath\",\"selector\":\"/html/body/div/div/div/div[2]/div/div/div/button/span\"}\n  (Session info: chrome=107.0.5304.88)\nStacktrace:\nBacktrace:\n\tOrdinal0 [0x0050ACD3+2075859]\n\tOrdinal0 [0x0049EE61+1633889]\n\tOrdinal0 [0x0039B7BD+571325]\n\tOrdinal0 [0x003CAC2F+764975]\n\tOrdinal0 [0x003CAE1B+765467]\n\tOrdinal0 [0x003FD0F2+970994]\n\tOrdinal0 [0x003E7364+881508]\n\tOrdinal0 [0x003FB56A+963946]\n\tOrdinal0 [0x003E7136+880950]\n\tOrdinal0 [0x003BFEFD+720637]\n\tOrdinal0 [0x003C0F3F+724799]\n\tGetHandleVerifier [0x007BEED2+2769538]\n\tGetHandleVerifier [0x007B0D95+2711877]\n\tGetHandleVerifier [0x0059A03A+521194]\n\tGetHandleVerifier [0x00598DA0+516432]\n\tOrdinal0 [0x004A682C+1665068]\n\tOrdinal0 [0x004AB128+1683752]\n\tOrdinal0 [0x004AB215+1683989]\n\tOrdinal0 [0x004B6484+1729668]\n\tBaseThreadInitThunk [0x771BFA29+25]\n\tRtlGetAppContainerNamedObjectPath [0x77817BBE+286]\n\tRtlGetAppContainerNamedObjectPath [0x77817B8E+238]\n",
     "output_type": "error",
     "traceback": [
      "\u001b[1;31m---------------------------------------------------------------------------\u001b[0m",
      "\u001b[1;31mNoSuchElementException\u001b[0m                    Traceback (most recent call last)",
      "Input \u001b[1;32mIn [116]\u001b[0m, in \u001b[0;36m<cell line: 1>\u001b[1;34m()\u001b[0m\n\u001b[1;32m----> 1\u001b[0m click_search \u001b[38;5;241m=\u001b[39m \u001b[43mambi_sal\u001b[49m\u001b[38;5;241;43m.\u001b[39;49m\u001b[43mfind_element\u001b[49m\u001b[43m(\u001b[49m\u001b[43mBy\u001b[49m\u001b[38;5;241;43m.\u001b[39;49m\u001b[43mXPATH\u001b[49m\u001b[43m,\u001b[49m\u001b[38;5;124;43m\"\u001b[39;49m\u001b[38;5;124;43m/html/body/div/div/div/div[2]/div/div/div/button/span\u001b[39;49m\u001b[38;5;124;43m\"\u001b[39;49m\u001b[43m)\u001b[49m\n\u001b[0;32m      2\u001b[0m click_search\u001b[38;5;241m.\u001b[39mclick()\n\u001b[0;32m      3\u001b[0m time\u001b[38;5;241m.\u001b[39msleep(\u001b[38;5;241m2\u001b[39m)\n",
      "File \u001b[1;32mD:\\sahwaj\\lib\\site-packages\\selenium\\webdriver\\remote\\webdriver.py:856\u001b[0m, in \u001b[0;36mWebDriver.find_element\u001b[1;34m(self, by, value)\u001b[0m\n\u001b[0;32m    853\u001b[0m     by \u001b[38;5;241m=\u001b[39m By\u001b[38;5;241m.\u001b[39mCSS_SELECTOR\n\u001b[0;32m    854\u001b[0m     value \u001b[38;5;241m=\u001b[39m \u001b[38;5;124m'\u001b[39m\u001b[38;5;124m[name=\u001b[39m\u001b[38;5;124m\"\u001b[39m\u001b[38;5;132;01m%s\u001b[39;00m\u001b[38;5;124m\"\u001b[39m\u001b[38;5;124m]\u001b[39m\u001b[38;5;124m'\u001b[39m \u001b[38;5;241m%\u001b[39m value\n\u001b[1;32m--> 856\u001b[0m \u001b[38;5;28;01mreturn\u001b[39;00m \u001b[38;5;28;43mself\u001b[39;49m\u001b[38;5;241;43m.\u001b[39;49m\u001b[43mexecute\u001b[49m\u001b[43m(\u001b[49m\u001b[43mCommand\u001b[49m\u001b[38;5;241;43m.\u001b[39;49m\u001b[43mFIND_ELEMENT\u001b[49m\u001b[43m,\u001b[49m\u001b[43m \u001b[49m\u001b[43m{\u001b[49m\n\u001b[0;32m    857\u001b[0m \u001b[43m    \u001b[49m\u001b[38;5;124;43m'\u001b[39;49m\u001b[38;5;124;43musing\u001b[39;49m\u001b[38;5;124;43m'\u001b[39;49m\u001b[43m:\u001b[49m\u001b[43m \u001b[49m\u001b[43mby\u001b[49m\u001b[43m,\u001b[49m\n\u001b[0;32m    858\u001b[0m \u001b[43m    \u001b[49m\u001b[38;5;124;43m'\u001b[39;49m\u001b[38;5;124;43mvalue\u001b[39;49m\u001b[38;5;124;43m'\u001b[39;49m\u001b[43m:\u001b[49m\u001b[43m \u001b[49m\u001b[43mvalue\u001b[49m\u001b[43m}\u001b[49m\u001b[43m)\u001b[49m[\u001b[38;5;124m'\u001b[39m\u001b[38;5;124mvalue\u001b[39m\u001b[38;5;124m'\u001b[39m]\n",
      "File \u001b[1;32mD:\\sahwaj\\lib\\site-packages\\selenium\\webdriver\\remote\\webdriver.py:429\u001b[0m, in \u001b[0;36mWebDriver.execute\u001b[1;34m(self, driver_command, params)\u001b[0m\n\u001b[0;32m    427\u001b[0m response \u001b[38;5;241m=\u001b[39m \u001b[38;5;28mself\u001b[39m\u001b[38;5;241m.\u001b[39mcommand_executor\u001b[38;5;241m.\u001b[39mexecute(driver_command, params)\n\u001b[0;32m    428\u001b[0m \u001b[38;5;28;01mif\u001b[39;00m response:\n\u001b[1;32m--> 429\u001b[0m     \u001b[38;5;28;43mself\u001b[39;49m\u001b[38;5;241;43m.\u001b[39;49m\u001b[43merror_handler\u001b[49m\u001b[38;5;241;43m.\u001b[39;49m\u001b[43mcheck_response\u001b[49m\u001b[43m(\u001b[49m\u001b[43mresponse\u001b[49m\u001b[43m)\u001b[49m\n\u001b[0;32m    430\u001b[0m     response[\u001b[38;5;124m'\u001b[39m\u001b[38;5;124mvalue\u001b[39m\u001b[38;5;124m'\u001b[39m] \u001b[38;5;241m=\u001b[39m \u001b[38;5;28mself\u001b[39m\u001b[38;5;241m.\u001b[39m_unwrap_value(\n\u001b[0;32m    431\u001b[0m         response\u001b[38;5;241m.\u001b[39mget(\u001b[38;5;124m'\u001b[39m\u001b[38;5;124mvalue\u001b[39m\u001b[38;5;124m'\u001b[39m, \u001b[38;5;28;01mNone\u001b[39;00m))\n\u001b[0;32m    432\u001b[0m     \u001b[38;5;28;01mreturn\u001b[39;00m response\n",
      "File \u001b[1;32mD:\\sahwaj\\lib\\site-packages\\selenium\\webdriver\\remote\\errorhandler.py:243\u001b[0m, in \u001b[0;36mErrorHandler.check_response\u001b[1;34m(self, response)\u001b[0m\n\u001b[0;32m    241\u001b[0m         alert_text \u001b[38;5;241m=\u001b[39m value[\u001b[38;5;124m'\u001b[39m\u001b[38;5;124malert\u001b[39m\u001b[38;5;124m'\u001b[39m]\u001b[38;5;241m.\u001b[39mget(\u001b[38;5;124m'\u001b[39m\u001b[38;5;124mtext\u001b[39m\u001b[38;5;124m'\u001b[39m)\n\u001b[0;32m    242\u001b[0m     \u001b[38;5;28;01mraise\u001b[39;00m exception_class(message, screen, stacktrace, alert_text)  \u001b[38;5;66;03m# type: ignore[call-arg]  # mypy is not smart enough here\u001b[39;00m\n\u001b[1;32m--> 243\u001b[0m \u001b[38;5;28;01mraise\u001b[39;00m exception_class(message, screen, stacktrace)\n",
      "\u001b[1;31mNoSuchElementException\u001b[0m: Message: no such element: Unable to locate element: {\"method\":\"xpath\",\"selector\":\"/html/body/div/div/div/div[2]/div/div/div/button/span\"}\n  (Session info: chrome=107.0.5304.88)\nStacktrace:\nBacktrace:\n\tOrdinal0 [0x0050ACD3+2075859]\n\tOrdinal0 [0x0049EE61+1633889]\n\tOrdinal0 [0x0039B7BD+571325]\n\tOrdinal0 [0x003CAC2F+764975]\n\tOrdinal0 [0x003CAE1B+765467]\n\tOrdinal0 [0x003FD0F2+970994]\n\tOrdinal0 [0x003E7364+881508]\n\tOrdinal0 [0x003FB56A+963946]\n\tOrdinal0 [0x003E7136+880950]\n\tOrdinal0 [0x003BFEFD+720637]\n\tOrdinal0 [0x003C0F3F+724799]\n\tGetHandleVerifier [0x007BEED2+2769538]\n\tGetHandleVerifier [0x007B0D95+2711877]\n\tGetHandleVerifier [0x0059A03A+521194]\n\tGetHandleVerifier [0x00598DA0+516432]\n\tOrdinal0 [0x004A682C+1665068]\n\tOrdinal0 [0x004AB128+1683752]\n\tOrdinal0 [0x004AB215+1683989]\n\tOrdinal0 [0x004B6484+1729668]\n\tBaseThreadInitThunk [0x771BFA29+25]\n\tRtlGetAppContainerNamedObjectPath [0x77817BBE+286]\n\tRtlGetAppContainerNamedObjectPath [0x77817B8E+238]\n"
     ]
    }
   ],
   "source": [
    "click_search = ambi_sal.find_element(By.XPATH,\"/html/body/div/div/div/div[2]/div/div/div/button/span\")\n",
    "click_search.click()\n",
    "time.sleep(2)"
   ]
  },
  {
   "cell_type": "code",
   "execution_count": 117,
   "id": "4b8b8d00",
   "metadata": {},
   "outputs": [],
   "source": [
    "C_name = []\n",
    "No_Salaries = []\n",
    "Average_Salary = []\n",
    "Minimum_Salary = []\n",
    "Maximum_Salary = []"
   ]
  },
  {
   "cell_type": "code",
   "execution_count": 118,
   "id": "b1fb88e9",
   "metadata": {},
   "outputs": [],
   "source": [
    "\n",
    "C_names = ambi_sal.find_elements(By.XPATH,'//div[@class=\"company-info\"]//a')\n",
    "for i in C_names :\n",
    "    C_name.append(i.text)\n",
    "    \n",
    "salary_total = ambi_sal.find_elements(By.XPATH,'//span[@class=\"datapoints\"]')\n",
    "for i in salary_total:\n",
    "    No_Salaries.append(i.text)\n",
    "    \n",
    "avrg_salary = ambi_sal.find_elements(By.XPATH,\"//p[@class='averageCtc']\")\n",
    "for i in avrg_salary :\n",
    "    Average_Salary.append(i.text)\n",
    "    \n",
    "min_salary = ambi_sal.find_elements(By.XPATH,\"//div[@class='salary-values']\")\n",
    "for i in min_salary : Minimum_Salary.append(i.text.split(\"\\n\")[0]) \n",
    "    \n",
    "max_salary = ambi_sal.find_elements(By.XPATH,\"//div[@class='salary-values']\")\n",
    "for i in max_salary : \n",
    "    Maximum_Salary.append(i.text.split(\"\\n\")[1])   \n",
    "\n",
    "\n",
    "\n",
    "   \n",
    " "
   ]
  },
  {
   "cell_type": "code",
   "execution_count": 119,
   "id": "6d738fac",
   "metadata": {},
   "outputs": [
    {
     "name": "stdout",
     "output_type": "stream",
     "text": [
      "0 0 0 0 0\n"
     ]
    }
   ],
   "source": [
    "print(len(C_name),len(No_Salaries),len(Average_Salary),len(Minimum_Salary),len(Maximum_Salary))"
   ]
  },
  {
   "cell_type": "code",
   "execution_count": 120,
   "id": "6f04f1e8",
   "metadata": {},
   "outputs": [
    {
     "data": {
      "text/html": [
       "<div>\n",
       "<style scoped>\n",
       "    .dataframe tbody tr th:only-of-type {\n",
       "        vertical-align: middle;\n",
       "    }\n",
       "\n",
       "    .dataframe tbody tr th {\n",
       "        vertical-align: top;\n",
       "    }\n",
       "\n",
       "    .dataframe thead th {\n",
       "        text-align: right;\n",
       "    }\n",
       "</style>\n",
       "<table border=\"1\" class=\"dataframe\">\n",
       "  <thead>\n",
       "    <tr style=\"text-align: right;\">\n",
       "      <th></th>\n",
       "      <th>Company_name</th>\n",
       "      <th>Total_Salary_Records</th>\n",
       "      <th>Average_Salary</th>\n",
       "      <th>Minimum_Salary</th>\n",
       "      <th>Maximum_Salary</th>\n",
       "    </tr>\n",
       "  </thead>\n",
       "  <tbody>\n",
       "  </tbody>\n",
       "</table>\n",
       "</div>"
      ],
      "text/plain": [
       "Empty DataFrame\n",
       "Columns: [Company_name, Total_Salary_Records, Average_Salary, Minimum_Salary, Maximum_Salary]\n",
       "Index: []"
      ]
     },
     "execution_count": 120,
     "metadata": {},
     "output_type": "execute_result"
    }
   ],
   "source": [
    "Ambi_Salary = pd.DataFrame({'Company_name':C_name,'Total_Salary_Records':No_Salaries,'Average_Salary':Average_Salary,'Minimum_Salary':Minimum_Salary,'Maximum_Salary':Maximum_Salary})[0:10]\n",
    "Ambi_Salary"
   ]
  },
  {
   "cell_type": "code",
   "execution_count": null,
   "id": "d6f5f131",
   "metadata": {},
   "outputs": [],
   "source": []
  },
  {
   "cell_type": "code",
   "execution_count": null,
   "id": "2c3d5785",
   "metadata": {},
   "outputs": [],
   "source": []
  }
 ],
 "metadata": {
  "kernelspec": {
   "display_name": "Python 3 (ipykernel)",
   "language": "python",
   "name": "python3"
  },
  "language_info": {
   "codemirror_mode": {
    "name": "ipython",
    "version": 3
   },
   "file_extension": ".py",
   "mimetype": "text/x-python",
   "name": "python",
   "nbconvert_exporter": "python",
   "pygments_lexer": "ipython3",
   "version": "3.9.12"
  }
 },
 "nbformat": 4,
 "nbformat_minor": 5
}
